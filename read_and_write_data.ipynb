{
 "cells": [
  {
   "cell_type": "markdown",
   "metadata": {},
   "source": [
    "**Basic reading and writing of csv files as a first data processing**  \n",
    "This script starts from the raw csv files provided by central DQM as an ultimate input.  \n",
    "These files are difficult to work with since they contain a fixed number of lines, not grouped by e.g. run number, and they contain a large number of histogram types together.  \n",
    "This script (of which basically all the functionality is in the 'utils' folder) puts them into a more useful form,  \n",
    "i.e. one file per histogram type and per year, containing all runs and lumisections for that type for that year."
   ]
  },
  {
   "cell_type": "code",
   "execution_count": null,
   "metadata": {},
   "outputs": [],
   "source": [
    "# imports\n",
    "%run utils/utils.ipynb"
   ]
  },
  {
   "cell_type": "code",
   "execution_count": null,
   "metadata": {},
   "outputs": [],
   "source": [
    "# read an example csv file\n",
    "\n",
    "datadir = list(get_data_dirs('2017'))[0]\n",
    "print(datadir)\n",
    "csvfile = sort_filenames(list(get_csv_files(datadir)))[0]\n",
    "print(csvfile)\n",
    "df = read_csv(csvfile)\n",
    "#print(df)\n",
    "print('--- available runs present in this file: ---')\n",
    "for r in get_runs(df): print(r)\n",
    "print('--- available histogram types in this file ---')\n",
    "for h in get_histnames(df): print(h)"
   ]
  },
  {
   "cell_type": "code",
   "execution_count": null,
   "metadata": {},
   "outputs": [],
   "source": [
    "# main reformatting of input csv files\n",
    "# note that this function can take quite a while to run!\n",
    "\n",
    "write_skimmed_csv(['chargeInner_PXLayer_1','chargeInner_PXLayer_2',\n",
    "                  'chargeInner_PXLayer_3','chargeInner_PXLayer_4',\n",
    "                   'size_PXLayer_1','size_PXLayer_2','size_PXLayer_3','size_PXLayer_4',\n",
    "                  'charge_PXDisk_+1','charge_PXDisk_+2','charge_PXDisk_+3',\n",
    "                  'size_PXDisk_+1','size_PXDisk_+2','size_PXDisk_+3'],'2018')"
   ]
  },
  {
   "cell_type": "code",
   "execution_count": null,
   "metadata": {},
   "outputs": [],
   "source": []
  }
 ],
 "metadata": {
  "kernelspec": {
   "display_name": "Python 3",
   "language": "python",
   "name": "python3"
  },
  "language_info": {
   "codemirror_mode": {
    "name": "ipython",
    "version": 3
   },
   "file_extension": ".py",
   "mimetype": "text/x-python",
   "name": "python",
   "nbconvert_exporter": "python",
   "pygments_lexer": "ipython3",
   "version": "3.7.6"
  }
 },
 "nbformat": 4,
 "nbformat_minor": 4
}
