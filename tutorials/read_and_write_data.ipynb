{
 "cells": [
  {
   "cell_type": "markdown",
   "metadata": {},
   "source": [
    "**Basic reading and writing of csv files as a first data processing**  \n",
    "\n",
    "This script has two functions:\n",
    "   * Serve as an example on the usage of the DataLoader class.\n",
    "   * Put the raw input files in a more workable format (see more info below).\n",
    "   \n",
    "This script starts from the raw csv files provided by central DQM as an ultimate input.  \n",
    "These files are difficult to work with since they contain a fixed number of lines, not grouped by e.g. run number, and they contain a large number of histogram types together.  \n",
    "This script (of which basically all the functionality is in the 'utils' folder, interfaced by the DataLoader class) puts them into a more useful form, i.e. one file per histogram type and per year, containing all runs and lumisections for that type for that year.  \n",
    "\n",
    "It might be a good idea to run this code, where you change the histogram types to the ones that you intend to use in your study.  \n",
    "Options are also available (although not shown in this small tutorial) to make files per era instead of per year, if you prefer that.\n",
    "\n",
    "For more information, check the documentation of src/DataLoader, utils/csv_utils and utils/dataframe_utils! See also the comments in the code below for some more explanation."
   ]
  },
  {
   "cell_type": "code",
   "execution_count": null,
   "metadata": {},
   "outputs": [],
   "source": [
    "### imports\n",
    "\n",
    "# external modules\n",
    "import sys\n",
    "import os\n",
    "import importlib\n",
    "\n",
    "# local modules\n",
    "sys.path.append('../utils')\n",
    "import csv_utils as csvu\n",
    "import dataframe_utils as dfu\n",
    "importlib.reload(csvu)\n",
    "importlib.reload(dfu)\n",
    "sys.path.append('../src')\n",
    "import DataLoader\n",
    "importlib.reload(DataLoader)"
   ]
  },
  {
   "cell_type": "code",
   "execution_count": null,
   "metadata": {},
   "outputs": [],
   "source": [
    "# find csv files for a given data-taking year and set of eras\n",
    "\n",
    "# settings\n",
    "year = '2017' # data-taking year\n",
    "eras = ['B'] # list of eras\n",
    "dim = 1 # dimension of histograms (1 or 2)\n",
    "\n",
    "# create a DataLoader instance\n",
    "dloader = DataLoader.DataLoader()\n",
    "\n",
    "# get the default directories where the data are stored\n",
    "# (this requires access to the /eos filesystem!)\n",
    "datadirs = dloader.get_default_data_dirs( year=year, eras=eras, dim=dim )\n",
    "print('some example data directories:')\n",
    "print(datadirs[:10])\n",
    "\n",
    "# get the csv files located in those directories\n",
    "csvfiles = dloader.get_csv_files_in_dirs( datadirs )\n",
    "print('number of csv files: {}'.format(len(csvfiles)))\n",
    "\n",
    "# read an example csv file\n",
    "csvfile = csvfiles[0]\n",
    "df = dloader.get_dataframe_from_file(csvfile) \n",
    "# uncomment the following two lines to get a printout of the dataframe before any further processing.\n",
    "# comment them back again to have a better view of the rest of the printouts in this cell.\n",
    "print('example data frame:')\n",
    "print(df)"
   ]
  },
  {
   "cell_type": "code",
   "execution_count": null,
   "metadata": {},
   "outputs": [],
   "source": [
    "# select a specific type of histogram\n",
    "\n",
    "histname = 'chargeInner_PXLayer_1'\n",
    "# option 1: use the already loaded dataframe\n",
    "dftest = dfu.select_histnames(df, [histname])\n",
    "\n",
    "# option 2: directly load only the needed histograms\n",
    "df = dloader.get_dataframe_from_file( csvfile, histnames=[histname])\n",
    "\n",
    "# compare the output\n",
    "print(dftest)\n",
    "print(df)"
   ]
  },
  {
   "cell_type": "code",
   "execution_count": null,
   "metadata": {},
   "outputs": [],
   "source": [
    "# do some printouts for the example dataframe loaded in previous cell\n",
    "\n",
    "print('--- available runs present in this file: ---')\n",
    "for r in dfu.get_runs(df): print(r)\n",
    "print('--- available histogram types in this file ---')\n",
    "for h in dfu.get_histnames(df): print(h)"
   ]
  },
  {
   "cell_type": "code",
   "execution_count": null,
   "metadata": {},
   "outputs": [],
   "source": [
    "# main reformatting of input csv files into smaller files,\n",
    "# with one type of histogram each (for a full data-taking year)\n",
    "# note: this cell can take quite a while to run!\n",
    "\n",
    "importlib.reload(DataLoader)\n",
    "\n",
    "# settings\n",
    "outputdir = '../data_test'\n",
    "histnames = ([\n",
    "    'chargeInner_PXLayer_1'\n",
    "])\n",
    "year = '2017'\n",
    "dim = 1\n",
    "\n",
    "# load all input files\n",
    "dloader = DataLoader.DataLoader()\n",
    "csvfiles = dloader.get_default_csv_files( year=year, dim=dim )\n",
    "df = dloader.get_dataframe_from_files( csvfiles, histnames=histnames )\n",
    "\n",
    "# loop over histnames and write one file per histogram type\n",
    "for histname in histnames:\n",
    "    thisdf = dfu.select_histnames(df, [histname])\n",
    "    outputfile = 'DF_'+year+'_'+histname+'.csv'\n",
    "    dloader.write_dataframe_to_file( thisdf, os.path.join(outputdir,outputfile) )"
   ]
  },
  {
   "cell_type": "code",
   "execution_count": null,
   "metadata": {},
   "outputs": [],
   "source": [
    "### same as cell above, but now writing one file per era and per histogram type\n",
    "\n",
    "# settings\n",
    "outputdir = '../data_test'\n",
    "histnames = ([\n",
    "    'chargeInner_PXLayer_1'\n",
    "])\n",
    "year = '2017'\n",
    "eras = ['B']\n",
    "dim = 1\n",
    "\n",
    "for era in eras:\n",
    "    \n",
    "    # load all input files\n",
    "    dloader = DataLoader.DataLoader()\n",
    "    csvfiles = dloader.get_default_csv_files( year=year, eras=[era], dim=dim )\n",
    "    df = dloader.get_dataframe_from_files( csvfiles, histnames=histnames )\n",
    "\n",
    "    # loop over histnames and write one file per histogram type\n",
    "    for histname in histnames:\n",
    "        thisdf = dfu.select_histnames(df, [histname])\n",
    "        outputfile = 'DF_'+year+era+'_'+histname+'.csv'\n",
    "        dloader.write_dataframe_to_file( thisdf, os.path.join(outputdir,outputfile) )"
   ]
  },
  {
   "cell_type": "code",
   "execution_count": null,
   "metadata": {},
   "outputs": [],
   "source": [
    "# extra: for 2D histograms, even the files per histogram type and per era might be too big to easily work with.\n",
    "# this cell writes even smaller files for quicker testing\n",
    "\n",
    "# settings\n",
    "outputdir = '../data_test'\n",
    "histname = 'clusterposition_zphi_ontrack_PXLayer_1'\n",
    "year = '2017'\n",
    "era = 'B'\n",
    "dim = 2\n",
    "\n",
    "dloader = DataLoader.DataLoader()\n",
    "csvfiles = dloader.get_default_csv_files( year=year, eras=[era], dim=dim)\n",
    "# just pick one (or a few) csv file(s)\n",
    "csvfiles = [csvfiles[0]]\n",
    "df = dloader.get_dataframe_from_files( csvfiles, histnames=[histname] )\n",
    "outputfile = 'DF'+year+era+'subset_'+histname+'.csv'\n",
    "dloader.write_dataframe_to_file( thisdf, os.path.join(outputdir,outputfile) )"
   ]
  }
 ],
 "metadata": {
  "kernelspec": {
   "display_name": "Python 3",
   "language": "python",
   "name": "python3"
  },
  "language_info": {
   "codemirror_mode": {
    "name": "ipython",
    "version": 3
   },
   "file_extension": ".py",
   "mimetype": "text/x-python",
   "name": "python",
   "nbconvert_exporter": "python",
   "pygments_lexer": "ipython3",
   "version": "3.9.6"
  }
 },
 "nbformat": 4,
 "nbformat_minor": 4
}
