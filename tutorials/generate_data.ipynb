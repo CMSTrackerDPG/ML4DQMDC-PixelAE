{
 "cells": [
  {
   "cell_type": "markdown",
   "metadata": {},
   "source": [
    "**Testing of data generation (resampling) methods.**"
   ]
  },
  {
   "cell_type": "code",
   "execution_count": null,
   "metadata": {},
   "outputs": [],
   "source": [
    "### imports\n",
    "\n",
    "# external modules\n",
    "import sys\n",
    "import os\n",
    "import matplotlib.pyplot as plt\n",
    "import importlib\n",
    "\n",
    "# local modules\n",
    "sys.path.append('../utils')\n",
    "import hist_utils as hu\n",
    "import dataframe_utils as dfu\n",
    "import generate_data_utils as gdu\n",
    "import plot_utils as pu\n",
    "importlib.reload(hu)\n",
    "importlib.reload(dfu)\n",
    "importlib.reload(gdu)\n",
    "importlib.reload(pu)\n",
    "sys.path.append('../src')\n",
    "import DataLoader\n",
    "importlib.reload(DataLoader)"
   ]
  },
  {
   "cell_type": "code",
   "execution_count": null,
   "metadata": {},
   "outputs": [],
   "source": [
    "### load the data\n",
    "\n",
    "# note: this cell assumes you have a csv file stored at the specified location,\n",
    "#       containing only histograms of the specified type;\n",
    "#       see the tutorial read_and_write_data for examples on how to create such files!\n",
    "\n",
    "histname = 'chargeInner_PXLayer_2'\n",
    "filename = 'DF2017_'+histname+'.csv'\n",
    "datadir = '../data'\n",
    "\n",
    "dloader = DataLoader.DataLoader()\n",
    "df = dloader.get_dataframe_from_file( os.path.join(datadir, filename) )\n",
    "print('raw input data shape: {}'.format( dfu.get_hist_values(df)[0].shape ))\n",
    "allhists = hu.preparedatafromdf(df)\n",
    "\n",
    "# note: depending on which histogram you are looking at, the 'good' and 'bad' runs defined below might not be good or bad at all!\n",
    "#       you will need to find a set of clearly good and bad runs for you type(s) of histogram by eye.\n",
    "#       for the good ones, this is rather easy, as there are many (and almost(!) everything in the golden json is good for all types of histograms)\n",
    "#       for the bad ones, you can start from the run registry or other prior knowlege, or purely visual using the plot_histograms_loop tutorial!\n",
    "goodrunsls = {'2017':\n",
    "              {\n",
    "                \"297056\":[[-1]],\n",
    "                \"297177\":[[-1]],\n",
    "                \"301449\":[[-1]]\n",
    "              }} \n",
    "\n",
    "badrunsls = {'2017':\n",
    "                {\n",
    "                \"297287\":[[-1]],\n",
    "                \"297288\":[[-1]],\n",
    "                \"297289\":[[-1]],\n",
    "                \"299316\":[[-1]],\n",
    "                \"299324\":[[-1]],\n",
    "                }}\n",
    "\n",
    "goodhists = hu.preparedatafromdf(dfu.select_runsls(df,goodrunsls['2017']),donormalize=True)\n",
    "badhists = hu.preparedatafromdf(dfu.select_runsls(df,badrunsls['2017']),donormalize=True)\n",
    "\n",
    "# plot some together\n",
    "pu.plot_sets([goodhists,badhists],colorlist=['b','r'],labellist=['\"good\" histograms','\"bad\" histograms'])"
   ]
  },
  {
   "cell_type": "code",
   "execution_count": null,
   "metadata": {},
   "outputs": [],
   "source": [
    "### alternatively loading full set and selecting a seed on the run\n",
    "\n",
    "dloader = DataLoader.DataLoader()\n",
    "df = dloader.get_dataframe_from_file( os.path.join(datadir, filename) )\n",
    "print('raw input data shape: {}'.format( dfu.get_hist_values(df)[0].shape ))\n",
    "seed = dfu.select_runsls(df,{\"297056\":[[100,100]]})\n",
    "test = dfu.select_runs(df,[297056])\n",
    "allhists = hu.preparedatafromdf(df,donormalize=True)\n",
    "seedhist = hu.preparedatafromdf(seed,donormalize=True)\n",
    "\n",
    "plt.figure()\n",
    "plt.plot(seedhist[0,:])\n",
    "plt.title('seed')"
   ]
  },
  {
   "cell_type": "code",
   "execution_count": null,
   "metadata": {},
   "outputs": [],
   "source": [
    "### testing section\n",
    "\n",
    "(reshists,_,_) = gdu.fourier_noise_on_mean(allhists, nresamples=10, nonnegative=True, doplot=True)\n",
    "\n",
    "(greshists,_,_) = gdu.fourier_noise(goodhists,nresamples=10,nonnegative=True, doplot=True)\n",
    "(breshists,_,_) = gdu.fourier_noise(badhists,nresamples=9,nonnegative=True,stdfactor=3., doplot=True)\n",
    "\n",
    "(reshists,_,_) = gdu.resample_bin_per_bin(allhists,nresamples=10,nonnegative=True,smoothinghalfwidth=0, doplot=True)\n",
    "\n",
    "(reshists,_,_) = gdu.resample_similar_bin_per_bin(allhists,goodhists,nresamples=3,nonnegative=True,keeppercentage=0.005, doplot=True)\n",
    "(reshists,_,_) = gdu.resample_similar_bin_per_bin(allhists,badhists,nresamples=3,nonnegative=True,keeppercentage=0.003, doplot=True)\n",
    "\n",
    "(greshists,_,_) = gdu.resample_similar_fourier_noise(allhists,goodhists,nresamples=3,nonnegative=True,keeppercentage=0.001, doplot=True)\n",
    "(breshists,_,_) = gdu.resample_similar_fourier_noise(allhists,badhists,nresamples=3,nonnegative=True,keeppercentage=0.001, doplot=True)\n",
    "\n",
    "(greshists,_,_) = gdu.resample_similar_lico(allhists,goodhists,nresamples=10,nonnegative=True,keeppercentage=0.1, doplot=True)\n",
    "(greshists,_,_) = gdu.fourier_noise(greshists,nresamples=1,nonnegative=True,stdfactor=8., doplot=True)\n",
    "(breshists,_,_) = gdu.resample_similar_lico(allhists,badhists,nresamples=1,nonnegative=False,keeppercentage=0.001, doplot=True)\n",
    "\n",
    "(reshists,_,_) = gdu.mc_sampling(seedhist,nresamples=10,nMC=10000, doplot=True)\n",
    "\n",
    "(breshists,_,_) = gdu.white_noise(badhists,stdfactor=3., doplot=True)"
   ]
  },
  {
   "cell_type": "code",
   "execution_count": null,
   "metadata": {},
   "outputs": [],
   "source": [
    "# plot some together\n",
    "\n",
    "pu.plot_sets([greshists,breshists],colorlist=['b','r'],labellist=['\"good\" histograms','\"bad\" histograms'])"
   ]
  },
  {
   "cell_type": "code",
   "execution_count": null,
   "metadata": {},
   "outputs": [],
   "source": []
  }
 ],
 "metadata": {
  "kernelspec": {
   "display_name": "Python 3",
   "language": "python",
   "name": "python3"
  },
  "language_info": {
   "codemirror_mode": {
    "name": "ipython",
    "version": 3
   },
   "file_extension": ".py",
   "mimetype": "text/x-python",
   "name": "python",
   "nbconvert_exporter": "python",
   "pygments_lexer": "ipython3",
   "version": "3.9.6"
  }
 },
 "nbformat": 4,
 "nbformat_minor": 4
}
