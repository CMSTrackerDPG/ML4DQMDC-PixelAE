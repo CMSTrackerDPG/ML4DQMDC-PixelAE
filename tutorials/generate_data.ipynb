{
 "cells": [
  {
   "cell_type": "markdown",
   "metadata": {},
   "source": [
    "**Testing of data generation (resampling) methods.**"
   ]
  },
  {
   "cell_type": "code",
   "execution_count": null,
   "metadata": {},
   "outputs": [],
   "source": [
    "### imports\n",
    "\n",
    "# external modules\n",
    "import sys\n",
    "import numpy as np\n",
    "import matplotlib.pyplot as plt\n",
    "import importlib\n",
    "\n",
    "# local modules\n",
    "sys.path.append('../utils')\n",
    "import csv_utils as csvu\n",
    "import hist_utils as hu\n",
    "import dataframe_utils as dfu\n",
    "import generate_data_utils as gdu\n",
    "import plot_utils as pu\n",
    "importlib.reload(csvu)\n",
    "importlib.reload(hu)\n",
    "importlib.reload(dfu)\n",
    "importlib.reload(gdu)\n",
    "importlib.reload(pu)"
   ]
  },
  {
   "cell_type": "code",
   "execution_count": null,
   "metadata": {},
   "outputs": [],
   "source": [
    "### load the data\n",
    "\n",
    "# note: you might need to change the name or the path to the file, depending on where you have a valid csv file stored!\n",
    "name = 'chargeInner_PXLayer_2'\n",
    "df = csvu.read_csv('../data/DF2017_'+name+'.csv')\n",
    "allhists = hu.preparedatafromdf(df)\n",
    "\n",
    "# note: depending on which histogram you are looking at, the 'good' and 'bad' runs defined below might not be good or bad at all!\n",
    "#       you will need to find a set of clearly good and bad runs for you type(s) of histogram by eye.\n",
    "#       for the good ones, this is rather easy, as there are many (and almost(!) everything in the golden json is good for all types of histograms)\n",
    "#       for the bad ones, you can start from the run registry or other prior knowlege, or purely visual using the plot_histograms_loop tutorial!\n",
    "goodrunsls = {'2017':\n",
    "              {\n",
    "                \"297056\":[[-1]],\n",
    "                \"297177\":[[-1]],\n",
    "                \"301449\":[[-1]]\n",
    "              }} \n",
    "\n",
    "badrunsls = {'2017':\n",
    "                {\n",
    "                \"297287\":[[-1]],\n",
    "                \"297288\":[[-1]],\n",
    "                \"297289\":[[-1]],\n",
    "                \"299316\":[[-1]],\n",
    "                \"299324\":[[-1]],\n",
    "                }}\n",
    "\n",
    "goodhists = hu.preparedatafromdf(dfu.select_runsls(df,goodrunsls['2017']),donormalize=True)\n",
    "badhists = hu.preparedatafromdf(dfu.select_runsls(df,badrunsls['2017']),donormalize=True)\n",
    "\n",
    "# plot some together\n",
    "\n",
    "pu.plot_sets([goodhists,badhists],colorlist=['b','r'],labellist=['\"good\" histograms','\"bad\" histograms'])"
   ]
  },
  {
   "cell_type": "code",
   "execution_count": null,
   "metadata": {},
   "outputs": [],
   "source": [
    "### alternatively loading full set and selecting a seed on the run\n",
    "\n",
    "df = csvu.read_csv('../data/DF2017_'+name+'.csv')\n",
    "print('raw input data shape: '+str(dfu.get_hist_values(df)[0].shape))\n",
    "seed = dfu.select_runsls(df,{\"297056\":[[100,100]]})\n",
    "test = dfu.select_runs(df,[297056])\n",
    "allhists = hu.preparedatafromdf(df,donormalize=True)\n",
    "seedhist = hu.preparedatafromdf(seed,donormalize=True)\n",
    "\n",
    "plt.figure()\n",
    "plt.plot(seedhist[0,:])\n",
    "plt.title('seed')"
   ]
  },
  {
   "cell_type": "code",
   "execution_count": null,
   "metadata": {},
   "outputs": [],
   "source": [
    "### testing section 2\n",
    "\n",
    "#reshists = gdu.fourier_noise_on_mean(allhists,nresamples=10,nonnegative=True,figname='f')\n",
    "\n",
    "#greshists = gdu.fourier_noise(goodhists,nresamples=10,nonnegative=True,figname='f')\n",
    "#breshists = gdu.fourier_noise(badhists,nresamples=9,nonnegative=True,stdfactor=3.,figname='f')\n",
    "\n",
    "#reshists = gdu.resample_bin_per_bin(allhists,nresamples=10,nonnegative=True,smoothinghalfwidth=0,figname='f')\n",
    "\n",
    "#reshists = gdu.resample_similar_bin_per_bin(allhists,goodhists,nresamples=3,nonnegative=True,keeppercentage=0.005,figname='f')\n",
    "#reshists = gdu.resample_similar_bin_per_bin(allhists,badhists,nresamples=3,nonnegative=True,keeppercentage=0.003,figname='f')\n",
    "\n",
    "greshists = gdu.resample_similar_fourier_noise(allhists,goodhists,nresamples=3,nonnegative=True,keeppercentage=0.001,figname='f')\n",
    "breshists = gdu.resample_similar_fourier_noise(allhists,badhists,nresamples=3,nonnegative=True,keeppercentage=0.001,figname='f')\n",
    "\n",
    "#greshists = gdu.resample_similar_lico(allhists,goodhists,nresamples=10,nonnegative=True,keeppercentage=0.1,figname='f')\n",
    "#greshists = gdu.fourier_noise(greshists,nresamples=1,nonnegative=True,stdfactor=8.,figname='f')\n",
    "#breshists = gdu.resample_similar_lico(allhists,badhists,nresamples=1,nonnegative=False,keeppercentage=0.001,figname='f')\n",
    "\n",
    "#reshists = gdu.mc_sampling(seedhist,nresamples=10,nMC=10000)\n",
    "\n",
    "#breshists = gdu.white_noise(badhists,stdfactor=3.,figname='f')"
   ]
  },
  {
   "cell_type": "code",
   "execution_count": null,
   "metadata": {},
   "outputs": [],
   "source": [
    "# plot some together\n",
    "\n",
    "pu.plot_sets([greshists,breshists],colorlist=['b','r'],labellist=['\"good\" histograms','\"bad\" histograms'])"
   ]
  },
  {
   "cell_type": "code",
   "execution_count": null,
   "metadata": {},
   "outputs": [],
   "source": []
  }
 ],
 "metadata": {
  "kernelspec": {
   "display_name": "Python 3",
   "language": "python",
   "name": "python3"
  },
  "language_info": {
   "codemirror_mode": {
    "name": "ipython",
    "version": 3
   },
   "file_extension": ".py",
   "mimetype": "text/x-python",
   "name": "python",
   "nbconvert_exporter": "python",
   "pygments_lexer": "ipython3",
   "version": "3.8.6"
  }
 },
 "nbformat": 4,
 "nbformat_minor": 4
}
