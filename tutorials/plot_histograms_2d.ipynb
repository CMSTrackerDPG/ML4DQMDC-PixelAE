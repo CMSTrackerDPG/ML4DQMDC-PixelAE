{
 "cells": [
  {
   "cell_type": "markdown",
   "id": "educational-generation",
   "metadata": {},
   "source": [
    "**Plot the histograms for general investigation and visual inspection**  \n",
    "For 2D histograms (as opposed to plot_histograms.ipynb which is for 1D histograms only)  "
   ]
  },
  {
   "cell_type": "code",
   "execution_count": null,
   "id": "entertaining-escape",
   "metadata": {},
   "outputs": [],
   "source": [
    "### imports\n",
    "\n",
    "# external modules\n",
    "import sys\n",
    "import numpy as np\n",
    "import matplotlib.pyplot as plt\n",
    "import importlib\n",
    "\n",
    "# local modules\n",
    "sys.path.append('../utils')\n",
    "import csv_utils as csvu\n",
    "import dataframe_utils as dfu\n",
    "import plot_utils as pu\n",
    "import hist_utils as hu\n",
    "importlib.reload(csvu)\n",
    "importlib.reload(dfu)\n",
    "importlib.reload(pu)\n",
    "importlib.reload(hu)"
   ]
  },
  {
   "cell_type": "code",
   "execution_count": null,
   "id": "collected-whole",
   "metadata": {},
   "outputs": [],
   "source": [
    "# load a dataframe containing histograms\n",
    "# note: you might need to change the path or file name, depending on where you have a valid csv file stored!\n",
    "dffile = '../data/DF2017B_clusterposition_zphi_ontrack_PXLayer_1_run297289.csv'\n",
    "histdf_all = csvu.read_csv(dffile)\n",
    "print('number of lumisections: '+str(len(histdf_all)))\n",
    "\n",
    "# select a single run\n",
    "#runs = dfu.get_runs(histdf_all)\n",
    "#print('number of runs: '+str(len(runs)))\n",
    "#print(runs) # uncomment this to see a printed list of available runs\n",
    "#runnbs = [297056] # you can also add multiple runs to the list to plot them all together\n",
    "#histdf = dfu.select_runs(histdf_all,runnbs)\n",
    "\n",
    "# select DCS-bit on data\n",
    "histdf = dfu.select_dcson(histdf_all)\n",
    "\n",
    "print('number of selected lumisections: '+str(len(histdf)))"
   ]
  },
  {
   "cell_type": "code",
   "execution_count": null,
   "id": "chemical-franchise",
   "metadata": {},
   "outputs": [],
   "source": [
    "# extract the histograms as a numpy array from the dataframe\n",
    "\n",
    "(histograms,runnbs,lsnbs) = dfu.get_hist_values(histdf)\n",
    "print('shape of histogram array: {}'.format(histograms.shape))\n",
    "print('shape of run number array: {}'.format(runnbs.shape))\n",
    "print('shape of lumisection number array: {}'.format(lsnbs.shape))\n",
    "\n",
    "# additional info, not needed to get the histograms but may contain useful info\n",
    "xmin = histdf.at[0,'Xmin']\n",
    "xmax = histdf.at[0,'Xmax']\n",
    "nxbins = histdf.at[0,'Xbins']\n",
    "ymin = histdf.at[0,'Ymin']\n",
    "ymax = histdf.at[0,'Ymax']\n",
    "nybins = histdf.at[0,'Ybins']"
   ]
  },
  {
   "cell_type": "code",
   "execution_count": null,
   "id": "formal-stockholm",
   "metadata": {},
   "outputs": [],
   "source": [
    "# make a plot of a single histogram\n",
    "\n",
    "index = 10\n",
    "hist = histograms[index]\n",
    "pu.plot_hist_2d(hist,title='a histogram title',xaxtitle='x axis title',yaxtitle='y axis title')"
   ]
  },
  {
   "cell_type": "code",
   "execution_count": null,
   "id": "traditional-makeup",
   "metadata": {},
   "outputs": [],
   "source": [
    "# make a plot of multiple histograms next to each other\n",
    "\n",
    "_ = pu.plot_hists_2d(histograms[:9],ncols=3)"
   ]
  },
  {
   "cell_type": "code",
   "execution_count": null,
   "id": "tough-fiction",
   "metadata": {},
   "outputs": [],
   "source": [
    "# make a gif showing the evolution over time \n",
    "\n",
    "figname = 'temp_gif.gif'\n",
    "titles = []\n",
    "for lsnb,runnb in zip(lsnbs,runnbs):\n",
    "    titles.append('run {}, lumisection {}'.format(runnb,lsnb))\n",
    "pu.plot_hists_2d_gif(histograms,titles=titles,figname=figname)\n",
    "# note: to view the result, you can directly open the file saved as figname in swan, it will show the animated gif\n",
    "# (or you can download it and view it with whatever gif viewer you normally use)"
   ]
  },
  {
   "cell_type": "code",
   "execution_count": null,
   "id": "subject-speech",
   "metadata": {},
   "outputs": [],
   "source": [
    "# cropping, rebinning, normalization and averaging\n",
    "\n",
    "print('original histograms:')\n",
    "_ = pu.plot_hists_2d(histograms[:4],ncols=4)\n",
    "plt.show()\n",
    "\n",
    "# cropping:\n",
    "# (note: here you can also just manually slice the array, but the dedicated function shown here might be useful in more involved workflows)\n",
    "print(histograms.shape)\n",
    "modhists = hu.crophists(histograms,[slice(1,-1,None),slice(1,-1,None)]) # remove under- and overflow bins\n",
    "print(modhists.shape)\n",
    "modhists = hu.crophists(modhists,[slice(None,None,None),slice(80,220,None)]) # cut out uninteresting parts\n",
    "print(modhists.shape)\n",
    "print('cropped histograms:')\n",
    "_ = pu.plot_hists_2d(modhists[:4],ncols=4)\n",
    "plt.show()\n",
    "\n",
    "# rebinning:\n",
    "print(modhists.shape)\n",
    "modhists = hu.rebinhists(modhists,(2,2))\n",
    "print(modhists.shape)\n",
    "print('rebinned histograms:')\n",
    "_ = pu.plot_hists_2d(modhists[:4],ncols=4)\n",
    "plt.show()\n",
    "\n",
    "# normalizing:\n",
    "modhists = hu.normalizehists(modhists)\n",
    "print('normalized histograms:')\n",
    "_ = pu.plot_hists_2d(modhists[:4],ncols=4)\n",
    "plt.show()\n",
    "\n",
    "# averaging\n",
    "avghists = hu.averagehists(modhists,1)\n",
    "print('average histogram(s):')\n",
    "_ = pu.plot_hists_2d(avghists[:min(4,len(avghists))],ncols=4)\n",
    "plt.show()"
   ]
  },
  {
   "cell_type": "code",
   "execution_count": null,
   "id": "silver-discrimination",
   "metadata": {},
   "outputs": [],
   "source": [
    "# equivalent way to obtain the same histograms but with less typing\n",
    "\n",
    "(histograms) = hu.preparedatafromdf(histdf, \n",
    "                                    cropslices=[slice(1,-1,None),slice(81,221,None)], \n",
    "                                    rebinningfactor=(2,2), \n",
    "                                    donormalize=True, \n",
    "                                    doplot=False)\n",
    "_ = pu.plot_hists_2d(histograms[:4],ncols=4)"
   ]
  },
  {
   "cell_type": "code",
   "execution_count": null,
   "id": "israeli-hypothesis",
   "metadata": {},
   "outputs": [],
   "source": []
  }
 ],
 "metadata": {
  "kernelspec": {
   "display_name": "Python 3",
   "language": "python",
   "name": "python3"
  },
  "language_info": {
   "codemirror_mode": {
    "name": "ipython",
    "version": 3
   },
   "file_extension": ".py",
   "mimetype": "text/x-python",
   "name": "python",
   "nbconvert_exporter": "python",
   "pygments_lexer": "ipython3",
   "version": "3.8.6"
  }
 },
 "nbformat": 4,
 "nbformat_minor": 5
}
