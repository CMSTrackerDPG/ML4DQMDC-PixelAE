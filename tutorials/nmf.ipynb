{
 "cells": [
  {
   "cell_type": "markdown",
   "id": "stunning-vanilla",
   "metadata": {},
   "source": [
    "**Two-dimensional histogram classification based on non-negative matrix factorization**  \n",
    "Very preliminary version, as a first check/ proof-of-principle.  \n",
    "Need to pay more attention to definition of training and testing set(s) and hyperparameters."
   ]
  },
  {
   "cell_type": "code",
   "execution_count": null,
   "id": "sunrise-colonial",
   "metadata": {},
   "outputs": [],
   "source": [
    "### imports\n",
    "\n",
    "# external modules\n",
    "import sys\n",
    "import numpy as np\n",
    "import matplotlib.pyplot as plt\n",
    "import importlib\n",
    "\n",
    "# local modules\n",
    "sys.path.append('../utils')\n",
    "import csv_utils as csvu\n",
    "import dataframe_utils as dfu\n",
    "import plot_utils as pu\n",
    "import hist_utils as hu\n",
    "import generate_data_2d_utils as g2u\n",
    "importlib.reload(csvu)\n",
    "importlib.reload(dfu)\n",
    "importlib.reload(pu)\n",
    "importlib.reload(hu)\n",
    "importlib.reload(g2u)\n",
    "sys.path.append('../src/classifiers')\n",
    "import NMFClassifier\n",
    "importlib.reload(NMFClassifier)"
   ]
  },
  {
   "cell_type": "code",
   "execution_count": null,
   "id": "marked-agency",
   "metadata": {},
   "outputs": [],
   "source": [
    "### load the histograms\n",
    "\n",
    "# note: you might need to change the path or file name, depending on where you have a valid csv file stored!\n",
    "dffile = '../data/DF2017B_clusterposition_zphi_ontrack_PXLayer_1_subset.csv'\n",
    "histdf = csvu.read_csv(dffile)\n",
    "histdf = dfu.select_dcson(histdf)\n",
    "(hists_ref) = hu.preparedatafromdf(histdf, cropslices=[slice(1,-1,None),slice(81,221,None)], rebinningfactor=(2,2), donormalize=True, doplot=False)\n",
    "_ = pu.plot_hists_2d(hists_ref[:4], ncols=4, title='some example histograms for NMF model')\n",
    "print('number of lumisections: '+str(len(histdf)))\n",
    "\n",
    "dffile = '../data/DF2017B_clusterposition_zphi_ontrack_PXLayer_1_run297056.csv'\n",
    "histdf = csvu.read_csv(dffile)\n",
    "histdf = dfu.select_dcson(histdf)\n",
    "(hists_good, runnbs_good, lsnbs_good) = hu.preparedatafromdf(histdf, returnrunls=True, cropslices=[slice(1,-1,None),slice(81,221,None)], rebinningfactor=(2,2), donormalize=True, doplot=False)\n",
    "_ = pu.plot_hists_2d(hists_good[:4], ncols=4, title='some example histograms in good test set')\n",
    "print('number of lumisections: '+str(len(histdf)))\n",
    "\n",
    "dffile = '../data/DF2017B_clusterposition_zphi_ontrack_PXLayer_1_run297289.csv'\n",
    "histdf = csvu.read_csv(dffile)\n",
    "histdf = dfu.select_dcson(histdf)\n",
    "(hists_bad, runnbs_bad, lsnbs_bad) = hu.preparedatafromdf(histdf, returnrunls=True, cropslices=[slice(1,-1,None),slice(81,221,None)], rebinningfactor=(2,2), donormalize=True, doplot=False)\n",
    "_ = pu.plot_hists_2d(hists_bad[:4], ncols=4, title='some example histograms in bad test set')\n",
    "print('number of lumisections: '+str(len(histdf)))"
   ]
  },
  {
   "cell_type": "code",
   "execution_count": null,
   "id": "governmental-charlotte",
   "metadata": {},
   "outputs": [],
   "source": [
    "### build an NMF model\n",
    "\n",
    "classifier = NMFClassifier.NMFClassifier( hists_ref, ncomponents=10 )"
   ]
  },
  {
   "cell_type": "code",
   "execution_count": null,
   "id": "associate-albuquerque",
   "metadata": {},
   "outputs": [],
   "source": [
    "### plot some of the components\n",
    "\n",
    "components = classifier.getcomponents()\n",
    "_ = pu.plot_hists_2d(components, ncols=4, title='NMF model components')"
   ]
  },
  {
   "cell_type": "code",
   "execution_count": null,
   "id": "clear-ukraine",
   "metadata": {},
   "outputs": [],
   "source": [
    "### optionally enlarge the test set using resampling\n",
    "\n",
    "do_resampling = True\n",
    "\n",
    "if do_resampling:\n",
    "    hists_good_ext = g2u.fourier_noise_nd(hists_good, nresamples=4, nonnegative=True, \n",
    "                     stdfactor=10., kmaxscale=0.5, ncomponents=3)\n",
    "    print(hists_good_ext.shape)\n",
    "    hists_bad_ext = g2u.fourier_noise_nd(hists_bad, nresamples=40, nonnegative=True, stdfactor=5., kmaxscale=0.5, ncomponents=3)\n",
    "    print(hists_bad_ext.shape)"
   ]
  },
  {
   "cell_type": "code",
   "execution_count": null,
   "id": "radical-problem",
   "metadata": {},
   "outputs": [],
   "source": [
    "### perform the classification\n",
    "\n",
    "hists_good_appl = hists_good\n",
    "hists_bad_appl = hists_bad\n",
    "if do_resampling:\n",
    "    hists_good_appl = hists_good_ext\n",
    "    hists_bad_appl = hists_bad_ext\n",
    "    \n",
    "scores_good = classifier.evaluate( hists_good_appl, nmax=50 )\n",
    "labels_good = np.zeros(len(scores_good))\n",
    "scores_bad = classifier.evaluate( hists_bad_appl, nmax=50 )\n",
    "labels_bad = np.ones(len(scores_bad))\n",
    "scores = np.concatenate((scores_good,scores_bad))\n",
    "labels = np.concatenate((labels_good,labels_bad))\n",
    "_ = pu.plot_score_dist( scores, labels, nbins=50, normalize=True,\n",
    "                        title='output score distributions for signal and background',\n",
    "                        xaxtitle='output score', yaxtitle=None)"
   ]
  },
  {
   "cell_type": "code",
   "execution_count": null,
   "id": "minus-terror",
   "metadata": {},
   "outputs": [],
   "source": [
    "### check some examples\n",
    "\n",
    "nplot = 5\n",
    "\n",
    "inds_good = np.random.choice(np.array(list(range(len(hists_good)))),size=nplot)\n",
    "print('example histograms from good test set:')\n",
    "for i in inds_good:\n",
    "    histlist = [hists_good[i],classifier.reconstruct(np.array([hists_good[i]]))[0]]\n",
    "    subtitles = ['good test histogram','NMF reconstruction']\n",
    "    title = 'index: {}, run: {}, lumisection: {}, MSE: {}'.format(i, runnbs_good[i],lsnbs_good[i],scores_good[i])\n",
    "    pu.plot_hists_2d(histlist, ncols=2, title = title, subtitles=subtitles, xaxtitle=None, yaxtitle=None)\n",
    "plt.show()\n",
    "\n",
    "inds_bad = np.random.choice(np.array(range(len(hists_bad))),size=nplot)\n",
    "print('example histograms from bad test set:')\n",
    "for i in inds_bad:\n",
    "    histlist = [hists_bad[i],classifier.reconstruct(np.array([hists_bad[i]]))[0]]\n",
    "    subtitles = ['bad test histogram','NMF reconstruction']\n",
    "    title = 'index: {}, run: {}, lumisection: {}, MSE: {}'.format(i, runnbs_bad[i],lsnbs_bad[i],scores_bad[i])\n",
    "    pu.plot_hists_2d(histlist, ncols=2, title = title, subtitles=subtitles, xaxtitle=None, yaxtitle=None)\n",
    "plt.show()"
   ]
  },
  {
   "cell_type": "code",
   "execution_count": null,
   "id": "wooden-assurance",
   "metadata": {},
   "outputs": [],
   "source": []
  }
 ],
 "metadata": {
  "kernelspec": {
   "display_name": "Python 3",
   "language": "python",
   "name": "python3"
  },
  "language_info": {
   "codemirror_mode": {
    "name": "ipython",
    "version": 3
   },
   "file_extension": ".py",
   "mimetype": "text/x-python",
   "name": "python",
   "nbconvert_exporter": "python",
   "pygments_lexer": "ipython3",
   "version": "3.8.6"
  }
 },
 "nbformat": 4,
 "nbformat_minor": 5
}
