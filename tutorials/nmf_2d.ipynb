{
 "cells": [
  {
   "cell_type": "markdown",
   "id": "convinced-sport",
   "metadata": {},
   "source": [
    "**Two-dimensional histogram classification based on non-negative matrix factorization**  \n",
    "Preliminary version, as a first check/ proof-of-principle.  \n",
    "Need to pay more attention to definition of training and testing set(s) and hyperparameters."
   ]
  },
  {
   "cell_type": "code",
   "execution_count": null,
   "id": "usual-earthquake",
   "metadata": {},
   "outputs": [],
   "source": [
    "### imports\n",
    "\n",
    "# external modules\n",
    "import sys\n",
    "import numpy as np\n",
    "import matplotlib.pyplot as plt\n",
    "import importlib\n",
    "\n",
    "# local modules\n",
    "sys.path.append('../utils')\n",
    "import csv_utils as csvu\n",
    "import dataframe_utils as dfu\n",
    "import plot_utils as pu\n",
    "import hist_utils as hu\n",
    "import generate_data_2d_utils as g2u\n",
    "import json_utils as jsonu\n",
    "importlib.reload(csvu)\n",
    "importlib.reload(dfu)\n",
    "importlib.reload(pu)\n",
    "importlib.reload(hu)\n",
    "importlib.reload(g2u)\n",
    "importlib.reload(jsonu)\n",
    "sys.path.append('../src/classifiers')\n",
    "import NMFClassifier\n",
    "importlib.reload(NMFClassifier)\n",
    "sys.path.append('../omsapi')\n",
    "from get_oms_data import get_oms_api,get_oms_data,get_oms_response_attribute"
   ]
  },
  {
   "cell_type": "code",
   "execution_count": null,
   "id": "relative-wales",
   "metadata": {},
   "outputs": [],
   "source": [
    "### load the histograms\n",
    "\n",
    "# note: you might need to change the path or file name, depending on where you have a valid csv file stored!\n",
    "dffile = '../data/DF2017B_clusterposition_zphi_ontrack_PXLayer_1_subset.csv'\n",
    "histdf = csvu.read_csv(dffile)\n",
    "histdf = dfu.select_dcson(histdf)\n",
    "(hists_ref) = hu.preparedatafromdf(histdf, cropslices=[slice(1,-1,None),slice(81,221,None)], rebinningfactor=(2,2), donormalize=True, doplot=False)\n",
    "_ = pu.plot_hists_2d(hists_ref[:4], ncols=4, title='some example histograms for NMF model')\n",
    "print('number of lumisections: '+str(len(histdf)))\n",
    "\n",
    "dffile = '../data/DF2017B_clusterposition_zphi_ontrack_PXLayer_1_run297056.csv'\n",
    "histdf = csvu.read_csv(dffile)\n",
    "histdf = dfu.select_dcson(histdf)\n",
    "(hists_good, runnbs_good, lsnbs_good) = hu.preparedatafromdf(histdf, returnrunls=True, cropslices=[slice(1,-1,None),slice(81,221,None)], rebinningfactor=(2,2), donormalize=True, doplot=False)\n",
    "_ = pu.plot_hists_2d(hists_good[:4], ncols=4, title='some example histograms in good test set')\n",
    "print('number of lumisections: '+str(len(histdf)))\n",
    "\n",
    "dffile = '../data/DF2017B_clusterposition_zphi_ontrack_PXLayer_1_run297289.csv'\n",
    "histdf = csvu.read_csv(dffile)\n",
    "histdf = dfu.select_dcson(histdf)\n",
    "(hists_bad, runnbs_bad, lsnbs_bad) = hu.preparedatafromdf(histdf, returnrunls=True, cropslices=[slice(1,-1,None),slice(81,221,None)], rebinningfactor=(2,2), donormalize=True, doplot=False)\n",
    "_ = pu.plot_hists_2d(hists_bad[:4], ncols=4, title='some example histograms in bad test set')\n",
    "print('number of lumisections: '+str(len(histdf)))"
   ]
  },
  {
   "cell_type": "code",
   "execution_count": null,
   "id": "exotic-binary",
   "metadata": {},
   "outputs": [],
   "source": [
    "### build an NMF model\n",
    "\n",
    "classifier = NMFClassifier.NMFClassifier( hists_ref, ncomponents=10, nmax=50 )"
   ]
  },
  {
   "cell_type": "code",
   "execution_count": null,
   "id": "great-student",
   "metadata": {},
   "outputs": [],
   "source": [
    "### plot some of the components\n",
    "\n",
    "components = classifier.get_components()\n",
    "_ = pu.plot_hists_2d(components, ncols=4, title='NMF model components')"
   ]
  },
  {
   "cell_type": "code",
   "execution_count": null,
   "id": "presidential-while",
   "metadata": {},
   "outputs": [],
   "source": [
    "### optionally enlarge the test set using resampling\n",
    "\n",
    "do_resampling = False\n",
    "\n",
    "if do_resampling:\n",
    "    hists_good_ext = g2u.fourier_noise_nd(hists_good, nresamples=4, nonnegative=True, \n",
    "                     stdfactor=10., kmaxscale=0.5, ncomponents=3)\n",
    "    print(hists_good_ext.shape)\n",
    "    hists_bad_ext = g2u.fourier_noise_nd(hists_bad, nresamples=40, nonnegative=True, stdfactor=5., kmaxscale=0.5, ncomponents=3)\n",
    "    print(hists_bad_ext.shape)"
   ]
  },
  {
   "cell_type": "code",
   "execution_count": null,
   "id": "threaded-cheat",
   "metadata": {},
   "outputs": [],
   "source": [
    "### perform the classification\n",
    "\n",
    "classifier.set_nmax( 50 )\n",
    "hists_good_appl = hists_good\n",
    "hists_bad_appl = hists_bad\n",
    "if do_resampling:\n",
    "    hists_good_appl = hists_good_ext\n",
    "    hists_bad_appl = hists_bad_ext\n",
    "    \n",
    "scores_good = classifier.evaluate( hists_good_appl )\n",
    "labels_good = np.zeros(len(scores_good))\n",
    "scores_bad = classifier.evaluate( hists_bad_appl )\n",
    "labels_bad = np.ones(len(scores_bad))\n",
    "scores = np.concatenate((scores_good,scores_bad))\n",
    "labels = np.concatenate((labels_good,labels_bad))\n",
    "_ = pu.plot_score_dist( scores, labels, nbins=100, normalize=True,\n",
    "                        title='output score distributions for signal and background',\n",
    "                        xaxtitle='output score', yaxtitle=None)"
   ]
  },
  {
   "cell_type": "code",
   "execution_count": null,
   "id": "spare-mailman",
   "metadata": {},
   "outputs": [],
   "source": [
    "### check some random examples\n",
    "\n",
    "nplot = 5\n",
    "\n",
    "inds_good = np.random.choice(np.array(list(range(len(hists_good)))),size=nplot)\n",
    "print('example histograms from good test set:')\n",
    "for i in inds_good:\n",
    "    histlist = [hists_good[i],classifier.reconstruct(np.array([hists_good[i]]))[0]]\n",
    "    subtitles = ['good test histogram','NMF reconstruction']\n",
    "    title = 'index: {}, run: {}, lumisection: {}, MSE: {}'.format(i, runnbs_good[i],lsnbs_good[i],scores_good[i])\n",
    "    pu.plot_hists_2d(histlist, ncols=2, title = title, subtitles=subtitles, xaxtitle=None, yaxtitle=None)\n",
    "plt.show()\n",
    "\n",
    "inds_bad = np.random.choice(np.array(range(len(hists_bad))),size=nplot)\n",
    "print('example histograms from bad test set:')\n",
    "for i in inds_bad:\n",
    "    histlist = [hists_bad[i],classifier.reconstruct(np.array([hists_bad[i]]))[0]]\n",
    "    subtitles = ['bad test histogram','NMF reconstruction']\n",
    "    title = 'index: {}, run: {}, lumisection: {}, MSE: {}'.format(i, runnbs_bad[i],lsnbs_bad[i],scores_bad[i])\n",
    "    pu.plot_hists_2d(histlist, ncols=2, title = title, subtitles=subtitles, xaxtitle=None, yaxtitle=None)\n",
    "plt.show()"
   ]
  },
  {
   "cell_type": "code",
   "execution_count": null,
   "id": "comparative-thunder",
   "metadata": {},
   "outputs": [],
   "source": [
    "### check some examples in a given MSE range\n",
    "\n",
    "mserange = (0.125,0.3)\n",
    "test_histograms = hists_good\n",
    "test_scores = scores_good\n",
    "test_runnbs = runnbs_good\n",
    "test_lsnbs = lsnbs_good\n",
    "\n",
    "inds = np.where( (test_scores>mserange[0]) & (test_scores<mserange[1]) )[0]\n",
    "print('{} out of {} histograms fall within this MSE range'.format(len(inds),len(test_scores)))\n",
    "\n",
    "for indx in inds:\n",
    "    hist = test_histograms[indx]\n",
    "    title = 'index: {}, run: {}, lumisection: {}, MSE: {}'.format(indx, test_runnbs[indx], test_lsnbs[indx], test_scores[indx])\n",
    "    pu.plot_hist_2d(hist, title = title)\n",
    "    plt.show()"
   ]
  },
  {
   "cell_type": "code",
   "execution_count": null,
   "id": "aerial-maple",
   "metadata": {},
   "outputs": [],
   "source": [
    "### extra: retrieve information from OMS on pileup, lumi and/or trigger rates\n",
    "\n",
    "omsapi = get_oms_api()\n",
    "# pileup and luminosity in good test set\n",
    "oms_target_run_good = 297056\n",
    "ls_info_good = get_oms_data( omsapi, 'lumisections', oms_target_run_good, \n",
    "                            attributes=['lumisection_number','pileup','delivered_lumi','recorded_lumi'] )\n",
    "# pileup and luminosity in bad test set\n",
    "oms_target_run_bad = 297289\n",
    "ls_info_bad = get_oms_data( omsapi, 'lumisections', oms_target_run_bad, \n",
    "                          attributes=['lumisection_number','pileup','delivered_lumi','recorded_lumi'])"
   ]
  },
  {
   "cell_type": "code",
   "execution_count": null,
   "id": "simple-surgery",
   "metadata": {},
   "outputs": [],
   "source": [
    "### make plots of OMS info\n",
    "\n",
    "# plots for good run\n",
    "ls_good = get_oms_response_attribute(ls_info_good,'lumisection_number')\n",
    "pileup_good = get_oms_response_attribute(ls_info_good,'pileup')\n",
    "lumi_del_good = get_oms_response_attribute(ls_info_good,'delivered_lumi')\n",
    "lumi_rec_good = get_oms_response_attribute(ls_info_good,'recorded_lumi')\n",
    "dcson_good = jsonu.isdcson( [oms_target_run_good]*len(ls_good), ls_good )\n",
    "pu.plot_hists([pileup_good], colorlist=['b'], labellist=['pileup'], xlims=(ls_good[0],ls_good[-1]),\n",
    "              title='pileup for good run', xaxtitle='lumisection number', yaxtitle='pileup',\n",
    "              bkgcolor=dcson_good,bkgcmap='cool')\n",
    "pu.plot_hists([lumi_rec_good,lumi_del_good], colorlist=['g','b'], labellist=['recorded luminosity','delivered luminosity'], xlims=(ls_good[0],ls_good[-1]),\n",
    "              title='luminosity for good run', xaxtitle='lumisection number', yaxtitle='luminosity',\n",
    "              bkgcolor=dcson_good,bkgcmap='cool')\n",
    "\n",
    "ls_bad = get_oms_response_attribute(ls_info_bad,'lumisection_number')\n",
    "pileup_bad = get_oms_response_attribute(ls_info_bad,'pileup')\n",
    "lumi_del_bad = get_oms_response_attribute(ls_info_bad,'delivered_lumi')\n",
    "lumi_rec_bad = get_oms_response_attribute(ls_info_bad,'recorded_lumi')\n",
    "dcson_bad = jsonu.isdcson( [oms_target_run_bad]*len(ls_bad), ls_bad )\n",
    "pu.plot_hists([pileup_bad], colorlist=['b'], labellist=['pileup'], xlims=(ls_bad[0],ls_bad[-1]),\n",
    "              title='pileup for bad run', xaxtitle='lumisection number', yaxtitle='pileup',\n",
    "              bkgcolor=dcson_bad,bkgcmap='cool')\n",
    "pu.plot_hists([lumi_rec_bad,lumi_del_bad], colorlist=['g','b'], labellist=['recorded luminosity','delivered luminosity'], xlims=(ls_bad[0],ls_bad[-1]),\n",
    "              title='luminosity for bad run', xaxtitle='lumisection number', yaxtitle='luminosity',\n",
    "              bkgcolor=dcson_bad,bkgcmap='cool')"
   ]
  },
  {
   "cell_type": "code",
   "execution_count": null,
   "id": "accessory-beach",
   "metadata": {},
   "outputs": [],
   "source": [
    "### plot particular lumisections based on the OMS info above\n",
    "\n",
    "lsnbs_tocheck = list(range(25,40))\n",
    "idx_oms = [np.where(np.array(ls_good)==lsnb)[0][0] for lsnb in lsnbs_tocheck]\n",
    "idx_hist = [np.where(lsnbs_good==lsnb)[0][0] for lsnb in lsnbs_tocheck]\n",
    "print(idx_oms)\n",
    "print(idx_hist)\n",
    "histlist = [hists_good[i] for i in idx_hist]\n",
    "subtitles = ['lumisection: {}, pileup: {}'.format(lsnbs_tocheck[i],pileup_good[idx_oms[i]]) for i in range(len(lsnbs_tocheck))]\n",
    "_ = pu.plot_hists_2d(histlist, subtitles=subtitles)"
   ]
  },
  {
   "cell_type": "code",
   "execution_count": null,
   "id": "chubby-mortgage",
   "metadata": {},
   "outputs": [],
   "source": []
  }
 ],
 "metadata": {
  "kernelspec": {
   "display_name": "Python 3",
   "language": "python",
   "name": "python3"
  },
  "language_info": {
   "codemirror_mode": {
    "name": "ipython",
    "version": 3
   },
   "file_extension": ".py",
   "mimetype": "text/x-python",
   "name": "python",
   "nbconvert_exporter": "python",
   "pygments_lexer": "ipython3",
   "version": "3.8.6"
  }
 },
 "nbformat": 4,
 "nbformat_minor": 5
}
