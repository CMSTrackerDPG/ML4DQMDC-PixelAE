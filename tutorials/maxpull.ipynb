{
 "cells": [
  {
   "cell_type": "markdown",
   "id": "varied-taxation",
   "metadata": {},
   "source": [
    "**Two-dimensional histogram classification based on the max bin-per-bin pull with respect to a reference histogram**  \n",
    "Very preliminary version, used for running on a small test file"
   ]
  },
  {
   "cell_type": "code",
   "execution_count": null,
   "id": "instrumental-paragraph",
   "metadata": {},
   "outputs": [],
   "source": [
    "### imports\n",
    "\n",
    "# external modules\n",
    "import sys\n",
    "import numpy as np\n",
    "import matplotlib.pyplot as plt\n",
    "import importlib\n",
    "\n",
    "# local modules\n",
    "sys.path.append('../utils')\n",
    "import csv_utils as csvu\n",
    "import dataframe_utils as dfu\n",
    "import plot_utils as pu\n",
    "import hist_utils as hu\n",
    "importlib.reload(csvu)\n",
    "importlib.reload(dfu)\n",
    "importlib.reload(pu)\n",
    "importlib.reload(hu)\n",
    "sys.path.append('../src/classifiers')\n",
    "import MaxPullClassifier\n",
    "importlib.reload(MaxPullClassifier)"
   ]
  },
  {
   "cell_type": "code",
   "execution_count": null,
   "id": "vanilla-bandwidth",
   "metadata": {},
   "outputs": [],
   "source": [
    "### load the histogram dataframe\n",
    "\n",
    "# note: you might need to change the path or file name, depending on where you have a valid csv file stored!\n",
    "dffile = '../data/DF2017B_clusterposition_zphi_ontrack_PXLayer_1_subset.csv'\n",
    "histdf = csvu.read_csv(dffile)\n",
    "print('number of lumisections: '+str(len(histdf)))\n",
    "\n",
    "# select DCS-bit on data\n",
    "histdf = dfu.select_dcson(histdf)\n",
    "print('number of selected lumisections: '+str(len(histdf)))\n",
    "\n",
    "# select a single run\n",
    "#runs = dfu.get_runs(histdf)\n",
    "#print('number of runs: '+str(len(runs)))\n",
    "#print(runs) # uncomment this to see a printed list of available runs\n",
    "#runnbs = [297050] # you can also add multiple runs to the list to plot them all together\n",
    "#histdf = dfu.select_runs(histdf,runnbs)\n",
    "#print('number of selected lumisections: '+str(len(histdf)))"
   ]
  },
  {
   "cell_type": "code",
   "execution_count": null,
   "id": "opening-retention",
   "metadata": {},
   "outputs": [],
   "source": [
    "### extract the histograms as a numpy array from the dataframe\n",
    "\n",
    "(histograms,runnbs,lsnbs) = dfu.get_hist_values(histdf)\n",
    "print('shape of histogram array: {}'.format(histograms.shape))\n",
    "print('shape of run number array: {}'.format(runnbs.shape))\n",
    "print('shape of lumisection number array: {}'.format(lsnbs.shape))\n",
    "\n",
    "### further preprocessing of the data (cropping, rebinning, normalizing)\n",
    "\n",
    "histograms = hu.crophists(histograms,[slice(1,-1,None),slice(1,-1,None)]) # remove under- and overflow bins\n",
    "histograms = hu.crophists(histograms,[slice(None,None,None),slice(80,220,None)]) # cut out uninteresting parts\n",
    "histograms = hu.rebinhists(histograms,(5,5))"
   ]
  },
  {
   "cell_type": "code",
   "execution_count": null,
   "id": "roman-paper",
   "metadata": {},
   "outputs": [],
   "source": [
    "### print indices of run boundaries\n",
    "\n",
    "if len(dfu.get_runs(histdf))<50:\n",
    "    \n",
    "    for i in range(1,len(runnbs)):\n",
    "        if runnbs[i]!=runnbs[i-1]:\n",
    "            print('index {}: run {} -> {}'.format(i,runnbs[i-1],runnbs[i]))"
   ]
  },
  {
   "cell_type": "code",
   "execution_count": null,
   "id": "demographic-sponsorship",
   "metadata": {},
   "outputs": [],
   "source": [
    "### define a reference histogram as the average of the set\n",
    "### and a max pull classifier based on this reference histogram\n",
    "\n",
    "refhist = hu.averagehists( histograms, nout=1 )[0,:,:]\n",
    "print('shape of averaged histogram: {}'.format(refhist.shape))\n",
    "classifier = MaxPullClassifier.MaxPullClassifier( refhist )"
   ]
  },
  {
   "cell_type": "code",
   "execution_count": null,
   "id": "funky-mobile",
   "metadata": {},
   "outputs": [],
   "source": [
    "### calculate max pull for each histogram\n",
    "\n",
    "maxpulls = classifier.evaluate( histograms )\n",
    "pu.plot_distance(maxpulls)\n",
    "avg,std = pu.plot_distance(maxpulls,doplot=False)\n",
    "print(avg)\n",
    "print(std)"
   ]
  },
  {
   "cell_type": "code",
   "execution_count": null,
   "id": "infectious-lawsuit",
   "metadata": {},
   "outputs": [],
   "source": [
    "### plot examples for histograms with large pulls\n",
    "\n",
    "threshold = avg+3*std\n",
    "\n",
    "for i in range(len(histograms)):\n",
    "    if maxpulls[i] < threshold: continue\n",
    "    histlist = [histograms[i],classifier.refhist,classifier.getpull(histograms[i])]\n",
    "    subtitles = ['test histogram','reference histogram','pull']\n",
    "    pu.plot_hists_2d(histlist, ncols=3, title = None, subtitles=subtitles, xaxtitle=None, yaxtitle=None)"
   ]
  },
  {
   "cell_type": "code",
   "execution_count": null,
   "id": "protecting-recognition",
   "metadata": {},
   "outputs": [],
   "source": [
    "### plot examples of histograms with small pulls\n",
    "\n",
    "inds = np.argsort(maxpulls)[:3]\n",
    "for i in inds:\n",
    "    histlist = [histograms[i],classifier.refhist,classifier.getpull(histograms[i])]\n",
    "    subtitles = ['test histogram','reference histogram','pull']\n",
    "    pu.plot_hists_2d(histlist, ncols=3, title = None, subtitles=subtitles, xaxtitle=None, yaxtitle=None)"
   ]
  },
  {
   "cell_type": "code",
   "execution_count": null,
   "id": "baking-arthritis",
   "metadata": {},
   "outputs": [],
   "source": [
    "### investigate a particular lumisection in more detail\n",
    "\n",
    "idx = 0\n",
    "print('run: {}, lumisection: {}'.format(runnbs[idx],lsnbs[idx]))\n",
    "print('maximum pull for this lumisection: {}'.format(maxpulls[idx]))\n",
    "histlist = [histograms[idx],classifier.refhist,classifier.getpull(histograms[idx])]\n",
    "subtitles = ['test histogram','reference histogram','pull']\n",
    "_ = pu.plot_hists_2d( histlist, ncols=3, title = None, subtitles=subtitles, xaxtitle=None, yaxtitle=None)"
   ]
  },
  {
   "cell_type": "code",
   "execution_count": null,
   "id": "duplicate-sydney",
   "metadata": {},
   "outputs": [],
   "source": [
    "### local approach\n",
    "\n",
    "nprev = 5\n",
    "\n",
    "maxpulls = np.zeros(len(histograms))\n",
    "classifiers = [None]*nprev\n",
    "for i in range(nprev,len(histograms)):\n",
    "    hist = histograms[i]\n",
    "    refhist = hu.averagehists( histograms[i-nprev:i], nout=1 )[0,:,:]\n",
    "    classifier = MaxPullClassifier.MaxPullClassifier( refhist )\n",
    "    classifiers.append(classifier)\n",
    "    maxpulls[i] = classifier.evaluate( np.array([hist]) )\n",
    "\n",
    "pu.plot_distance(maxpulls)\n",
    "avg,std = pu.plot_distance(maxpulls,doplot=False)\n",
    "print(avg)\n",
    "print(std)\n",
    "\n",
    "threshold = avg+3*std\n",
    "print('histograms with largest pulls:')\n",
    "for i in range(len(histograms)):\n",
    "    if maxpulls[i] < threshold: continue\n",
    "    histlist = [histograms[i],classifiers[i].refhist,classifiers[i].getpull(histograms[i])]\n",
    "    subtitles = ['test histogram','reference histogram','pull']\n",
    "    title = 'index: {}, run: {}, lumisection: {}, max pull: {}'.format(i, runnbs[i],lsnbs[i],maxpulls[i])\n",
    "    pu.plot_hists_2d(histlist, ncols=3, title = title, subtitles=subtitles, xaxtitle=None, yaxtitle=None)\n",
    "plt.show()\n",
    "\n",
    "inds = np.argsort(maxpulls)[nprev:nprev+5]\n",
    "print(inds)\n",
    "print('histograms with smalles pulls:')\n",
    "for i in inds:\n",
    "    histlist = [histograms[i],classifiers[i].refhist,classifiers[i].getpull(histograms[i])]\n",
    "    subtitles = ['test histogram','reference histogram','pull']\n",
    "    title = 'index: {}, run: {}, lumisection: {}, max pull: {}'.format(i, runnbs[i],lsnbs[i],maxpulls[i])\n",
    "    pu.plot_hists_2d(histlist, ncols=3, title = title, subtitles=subtitles, xaxtitle=None, yaxtitle=None)\n",
    "plt.show()"
   ]
  },
  {
   "cell_type": "code",
   "execution_count": null,
   "id": "vietnamese-housing",
   "metadata": {},
   "outputs": [],
   "source": [
    "### investigate a particular lumisection in more detail\n",
    "\n",
    "idx = 136\n",
    "if idx < nprev:\n",
    "    raise Exception('ERROR: cannot plot index {} since classification is done based on {} previous lumisections'.format(idx,nprev))\n",
    "print('run: {}, lumisection: {}'.format(runnbs[idx],lsnbs[idx]))\n",
    "print('maximum pull for this lumisection: {}'.format(maxpulls[idx]))\n",
    "histlist = [histograms[idx],classifiers[idx].refhist,classifiers[idx].getpull(histograms[idx])]\n",
    "subtitles = ['test histogram','reference histogram','pull']\n",
    "print('test histogram, reference histogram and pulls:')\n",
    "_ = pu.plot_hists_2d( histlist, ncols=3, title = None, subtitles=subtitles, xaxtitle=None, yaxtitle=None)\n",
    "plt.show()\n",
    "print('histograms that were averaged to make the reference histograms:')\n",
    "_ = pu.plot_hists_2d( histograms[idx-nprev:idx], ncols=3, title = None, xaxtitle=None, yaxtitle=None)"
   ]
  },
  {
   "cell_type": "code",
   "execution_count": null,
   "id": "suburban-nicaragua",
   "metadata": {},
   "outputs": [],
   "source": []
  }
 ],
 "metadata": {
  "kernelspec": {
   "display_name": "Python 3",
   "language": "python",
   "name": "python3"
  },
  "language_info": {
   "codemirror_mode": {
    "name": "ipython",
    "version": 3
   },
   "file_extension": ".py",
   "mimetype": "text/x-python",
   "name": "python",
   "nbconvert_exporter": "python",
   "pygments_lexer": "ipython3",
   "version": "3.8.6"
  }
 },
 "nbformat": 4,
 "nbformat_minor": 5
}
