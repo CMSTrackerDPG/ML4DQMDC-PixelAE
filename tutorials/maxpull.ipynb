{
 "cells": [
  {
   "cell_type": "markdown",
   "id": "formed-capacity",
   "metadata": {},
   "source": [
    "**Two-dimensional histogram classification based on the max bin-per-bin pull with respect to a reference histogram**  "
   ]
  },
  {
   "cell_type": "code",
   "execution_count": null,
   "id": "adjusted-charity",
   "metadata": {},
   "outputs": [],
   "source": [
    "### imports\n",
    "\n",
    "# external modules\n",
    "import sys\n",
    "import numpy as np\n",
    "import matplotlib.pyplot as plt\n",
    "import importlib\n",
    "\n",
    "# local modules\n",
    "sys.path.append('../utils')\n",
    "import csv_utils as csvu\n",
    "import dataframe_utils as dfu\n",
    "import plot_utils as pu\n",
    "import hist_utils as hu\n",
    "importlib.reload(csvu)\n",
    "importlib.reload(dfu)\n",
    "importlib.reload(pu)\n",
    "importlib.reload(hu)\n",
    "sys.path.append('../src/classifiers')\n",
    "import MaxPullClassifier\n",
    "importlib.reload(MaxPullClassifier)"
   ]
  },
  {
   "cell_type": "markdown",
   "id": "bound-insertion",
   "metadata": {},
   "source": [
    "**Part 1**  \n",
    "Exploratoring the possibilities (e.g. for plotting) for this classification method on a test file."
   ]
  },
  {
   "cell_type": "code",
   "execution_count": null,
   "id": "opposite-accuracy",
   "metadata": {},
   "outputs": [],
   "source": [
    "### load the histogram dataframe\n",
    "\n",
    "# note: you might need to change the path or file name, depending on where you have a valid csv file stored!\n",
    "dffile = '../data/DF2017B_clusterposition_zphi_ontrack_PXLayer_1_subset.csv'\n",
    "histdf = csvu.read_csv(dffile)\n",
    "print('number of lumisections: '+str(len(histdf)))\n",
    "\n",
    "# select DCS-bit on data\n",
    "histdf = dfu.select_dcson(histdf)\n",
    "print('number of selected lumisections: '+str(len(histdf)))\n",
    "\n",
    "# select a single run\n",
    "#runs = dfu.get_runs(histdf)\n",
    "#print('number of runs: '+str(len(runs)))\n",
    "#print(runs) # uncomment this to see a printed list of available runs\n",
    "#runnbs = [297050] # you can also add multiple runs to the list to plot them all together\n",
    "#histdf = dfu.select_runs(histdf,runnbs)\n",
    "#print('number of selected lumisections: '+str(len(histdf)))"
   ]
  },
  {
   "cell_type": "code",
   "execution_count": null,
   "id": "japanese-philosophy",
   "metadata": {},
   "outputs": [],
   "source": [
    "### extract the histograms as a numpy array from the dataframe\n",
    "\n",
    "(histograms,runnbs,lsnbs) = dfu.get_hist_values(histdf)\n",
    "print('shape of histogram array: {}'.format(histograms.shape))\n",
    "print('shape of run number array: {}'.format(runnbs.shape))\n",
    "print('shape of lumisection number array: {}'.format(lsnbs.shape))\n",
    "\n",
    "### further preprocessing of the data (cropping, rebinning, normalizing)\n",
    "\n",
    "histograms = hu.crophists(histograms,[slice(1,-1,None),slice(1,-1,None)]) # remove under- and overflow bins\n",
    "histograms = hu.crophists(histograms,[slice(None,None,None),slice(80,220,None)]) # cut out uninteresting parts\n",
    "histograms = hu.rebinhists(histograms,(5,5))"
   ]
  },
  {
   "cell_type": "code",
   "execution_count": null,
   "id": "technical-amendment",
   "metadata": {},
   "outputs": [],
   "source": [
    "### print indices of run boundaries\n",
    "\n",
    "if len(dfu.get_runs(histdf))<50:\n",
    "    \n",
    "    for i in range(1,len(runnbs)):\n",
    "        if runnbs[i]!=runnbs[i-1]:\n",
    "            print('index {}: run {} -> {}'.format(i,runnbs[i-1],runnbs[i]))"
   ]
  },
  {
   "cell_type": "code",
   "execution_count": null,
   "id": "outer-colony",
   "metadata": {},
   "outputs": [],
   "source": [
    "### define a reference histogram as the average of the set\n",
    "### and a max pull classifier based on this reference histogram\n",
    "\n",
    "refhist = hu.averagehists( histograms, nout=1 )[0,:,:]\n",
    "print('shape of averaged histogram: {}'.format(refhist.shape))\n",
    "classifier = MaxPullClassifier.MaxPullClassifier( refhist )"
   ]
  },
  {
   "cell_type": "code",
   "execution_count": null,
   "id": "laughing-grave",
   "metadata": {},
   "outputs": [],
   "source": [
    "### calculate max pull for each histogram\n",
    "\n",
    "maxpulls = classifier.evaluate( histograms )\n",
    "pu.plot_distance(maxpulls)\n",
    "avg,std = pu.plot_distance(maxpulls,doplot=False)\n",
    "print(avg)\n",
    "print(std)"
   ]
  },
  {
   "cell_type": "code",
   "execution_count": null,
   "id": "driving-three",
   "metadata": {},
   "outputs": [],
   "source": [
    "### plot examples for histograms with large pulls\n",
    "\n",
    "threshold = avg+3*std\n",
    "\n",
    "for i in range(len(histograms)):\n",
    "    if maxpulls[i] < threshold: continue\n",
    "    histlist = [histograms[i],classifier.refhist,classifier.getpull(histograms[i])]\n",
    "    subtitles = ['test histogram','reference histogram','pull']\n",
    "    pu.plot_hists_2d(histlist, ncols=3, title = None, subtitles=subtitles, xaxtitle=None, yaxtitle=None)"
   ]
  },
  {
   "cell_type": "code",
   "execution_count": null,
   "id": "maritime-evolution",
   "metadata": {},
   "outputs": [],
   "source": [
    "### plot examples of histograms with small pulls\n",
    "\n",
    "inds = np.argsort(maxpulls)[:3]\n",
    "for i in inds:\n",
    "    histlist = [histograms[i],classifier.refhist,classifier.getpull(histograms[i])]\n",
    "    subtitles = ['test histogram','reference histogram','pull']\n",
    "    pu.plot_hists_2d(histlist, ncols=3, title = None, subtitles=subtitles, xaxtitle=None, yaxtitle=None)"
   ]
  },
  {
   "cell_type": "code",
   "execution_count": null,
   "id": "young-johns",
   "metadata": {},
   "outputs": [],
   "source": [
    "### investigate a particular lumisection in more detail\n",
    "\n",
    "idx = 0\n",
    "print('run: {}, lumisection: {}'.format(runnbs[idx],lsnbs[idx]))\n",
    "print('maximum pull for this lumisection: {}'.format(maxpulls[idx]))\n",
    "histlist = [histograms[idx],classifier.refhist,classifier.getpull(histograms[idx])]\n",
    "subtitles = ['test histogram','reference histogram','pull']\n",
    "_ = pu.plot_hists_2d( histlist, ncols=3, title = None, subtitles=subtitles, xaxtitle=None, yaxtitle=None)"
   ]
  },
  {
   "cell_type": "code",
   "execution_count": null,
   "id": "inclusive-sterling",
   "metadata": {},
   "outputs": [],
   "source": [
    "### local approach\n",
    "\n",
    "nprev = 5\n",
    "\n",
    "maxpulls = np.zeros(len(histograms))\n",
    "classifiers = [None]*nprev\n",
    "for i in range(nprev,len(histograms)):\n",
    "    hist = histograms[i]\n",
    "    refhist = hu.averagehists( histograms[i-nprev:i], nout=1 )[0,:,:]\n",
    "    classifier = MaxPullClassifier.MaxPullClassifier( refhist )\n",
    "    classifiers.append(classifier)\n",
    "    maxpulls[i] = classifier.evaluate( np.array([hist]) )\n",
    "\n",
    "pu.plot_distance(maxpulls)\n",
    "avg,std = pu.plot_distance(maxpulls,doplot=False)\n",
    "print(avg)\n",
    "print(std)\n",
    "\n",
    "threshold = avg+3*std\n",
    "print('histograms with largest pulls:')\n",
    "for i in range(len(histograms)):\n",
    "    if maxpulls[i] < threshold: continue\n",
    "    histlist = [histograms[i],classifiers[i].refhist,classifiers[i].getpull(histograms[i])]\n",
    "    subtitles = ['test histogram','reference histogram','pull']\n",
    "    title = 'index: {}, run: {}, lumisection: {}, max pull: {}'.format(i, runnbs[i],lsnbs[i],maxpulls[i])\n",
    "    pu.plot_hists_2d(histlist, ncols=3, title = title, subtitles=subtitles, xaxtitle=None, yaxtitle=None)\n",
    "plt.show()\n",
    "\n",
    "inds = np.argsort(maxpulls)[nprev:nprev+5]\n",
    "print(inds)\n",
    "print('histograms with smalles pulls:')\n",
    "for i in inds:\n",
    "    histlist = [histograms[i],classifiers[i].refhist,classifiers[i].getpull(histograms[i])]\n",
    "    subtitles = ['test histogram','reference histogram','pull']\n",
    "    title = 'index: {}, run: {}, lumisection: {}, max pull: {}'.format(i, runnbs[i],lsnbs[i],maxpulls[i])\n",
    "    pu.plot_hists_2d(histlist, ncols=3, title = title, subtitles=subtitles, xaxtitle=None, yaxtitle=None)\n",
    "plt.show()"
   ]
  },
  {
   "cell_type": "code",
   "execution_count": null,
   "id": "acute-stand",
   "metadata": {},
   "outputs": [],
   "source": [
    "### investigate a particular lumisection in more detail\n",
    "\n",
    "idx = 136\n",
    "if idx < nprev:\n",
    "    raise Exception('ERROR: cannot plot index {} since classification is done based on {} previous lumisections'.format(idx,nprev))\n",
    "print('run: {}, lumisection: {}'.format(runnbs[idx],lsnbs[idx]))\n",
    "print('maximum pull for this lumisection: {}'.format(maxpulls[idx]))\n",
    "histlist = [histograms[idx],classifiers[idx].refhist,classifiers[idx].getpull(histograms[idx])]\n",
    "subtitles = ['test histogram','reference histogram','pull']\n",
    "print('test histogram, reference histogram and pulls:')\n",
    "_ = pu.plot_hists_2d( histlist, ncols=3, title = None, subtitles=subtitles, xaxtitle=None, yaxtitle=None)\n",
    "plt.show()\n",
    "print('histograms that were averaged to make the reference histograms:')\n",
    "_ = pu.plot_hists_2d( histograms[idx-nprev:idx], ncols=3, title = None, xaxtitle=None, yaxtitle=None)"
   ]
  },
  {
   "cell_type": "markdown",
   "id": "missing-enterprise",
   "metadata": {},
   "source": [
    "**Part 2**  \n",
    "Load a set of histograms to define a reference, a good test set and a bad test set, and test the discrimination"
   ]
  },
  {
   "cell_type": "code",
   "execution_count": null,
   "id": "thermal-compound",
   "metadata": {},
   "outputs": [],
   "source": [
    "### load the histograms\n",
    "\n",
    "# note: you might need to change the path or file name, depending on where you have a valid csv file stored!\n",
    "dffile = '../data/DF2017B_clusterposition_zphi_ontrack_PXLayer_1_subset.csv'\n",
    "histdf = csvu.read_csv(dffile)\n",
    "histdf = dfu.select_dcson(histdf)\n",
    "(hists_ref) = hu.preparedatafromdf(histdf, cropslices=[slice(1,-1,None),slice(81,221,None)], rebinningfactor=(2,2), donormalize=False, doplot=False)\n",
    "_ = pu.plot_hists_2d(hists_ref[:4], ncols=4, title='some example histograms for averaging')\n",
    "print('number of lumisections: '+str(len(histdf)))\n",
    "refhist = hu.averagehists( hists_ref, nout=1 )[0,:,:]\n",
    "_ = pu.plot_hist_2d(refhist, title='averaged histogram (used as reference)')\n",
    "print('shape of averaged histogram: {}'.format(refhist.shape))\n",
    "classifier = MaxPullClassifier.MaxPullClassifier( refhist )\n",
    "\n",
    "dffile = '../data/DF2017B_clusterposition_zphi_ontrack_PXLayer_1_run297056.csv'\n",
    "histdf = csvu.read_csv(dffile)\n",
    "histdf = dfu.select_dcson(histdf)\n",
    "(hists_good, runnbs_good, lsnbs_good) = hu.preparedatafromdf(histdf, returnrunls=True, cropslices=[slice(1,-1,None),slice(81,221,None)], rebinningfactor=(2,2), donormalize=False, doplot=False)\n",
    "_ = pu.plot_hists_2d(hists_good[:4], ncols=4, title='some example histograms in good test set')\n",
    "print('number of lumisections: '+str(len(histdf)))\n",
    "\n",
    "dffile = '../data/DF2017B_clusterposition_zphi_ontrack_PXLayer_1_run297289.csv'\n",
    "histdf = csvu.read_csv(dffile)\n",
    "histdf = dfu.select_dcson(histdf)\n",
    "(hists_bad, runnbs_bad, lsnbs_bad) = hu.preparedatafromdf(histdf, returnrunls=True, cropslices=[slice(1,-1,None),slice(81,221,None)], rebinningfactor=(2,2), donormalize=False, doplot=False)\n",
    "_ = pu.plot_hists_2d(hists_bad[:4], ncols=4, title='some example histograms in bad test set')\n",
    "print('number of lumisections: '+str(len(histdf)))"
   ]
  },
  {
   "cell_type": "code",
   "execution_count": null,
   "id": "educational-posting",
   "metadata": {},
   "outputs": [],
   "source": [
    "### perform the classification\n",
    "\n",
    "scores_good = classifier.evaluate( hists_good )\n",
    "labels_good = np.zeros(len(scores_good))\n",
    "scores_bad = classifier.evaluate( hists_bad )\n",
    "labels_bad = np.ones(len(scores_bad))\n",
    "scores = np.concatenate((scores_good,scores_bad))\n",
    "labels = np.concatenate((labels_good,labels_bad))\n",
    "_ = pu.plot_score_dist( scores, labels, nbins=50, normalize=True,\n",
    "                        title='output score distributions for signal and background',\n",
    "                        xaxtitle='output score', yaxtitle=None)"
   ]
  },
  {
   "cell_type": "code",
   "execution_count": null,
   "id": "exact-privilege",
   "metadata": {},
   "outputs": [],
   "source": [
    "### check some examples\n",
    "\n",
    "nplot = 5\n",
    "\n",
    "inds_good = np.random.choice(np.array(list(range(len(hists_good)))),size=nplot)\n",
    "print('example histograms from good test set:')\n",
    "for i in inds_good:\n",
    "    histlist = [hists_good[i],classifier.refhist,classifier.getpull(hists_good[i])]\n",
    "    subtitles = ['good test histogram','reference histogram','pull']\n",
    "    title = 'index: {}, run: {}, lumisection: {}, max pull: {}'.format(i, runnbs_good[i],lsnbs_good[i],scores_good[i])\n",
    "    pu.plot_hists_2d(histlist, ncols=3, title = title, subtitles=subtitles, xaxtitle=None, yaxtitle=None)\n",
    "plt.show()\n",
    "\n",
    "inds_bad = np.random.choice(np.array(range(len(hists_bad))),size=nplot)\n",
    "print('example histograms from bad test set:')\n",
    "for i in inds_bad:\n",
    "    histlist = [hists_bad[i],classifier.refhist,classifier.getpull(hists_bad[i])]\n",
    "    subtitles = ['bad test histogram','reference histogram','pull']\n",
    "    title = 'index: {}, run: {}, lumisection: {}, max pull: {}'.format(i, runnbs_bad[i],lsnbs_bad[i],scores_bad[i])\n",
    "    pu.plot_hists_2d(histlist, ncols=3, title = title, subtitles=subtitles, xaxtitle=None, yaxtitle=None)\n",
    "plt.show()"
   ]
  },
  {
   "cell_type": "code",
   "execution_count": null,
   "id": "focused-desert",
   "metadata": {},
   "outputs": [],
   "source": [
    "### re-define the classifier with a nondefault number of maximum pull bins to consider in a loop to determin optimal value\n",
    "\n",
    "ns = [1,5,10,20,50,100,200,500]\n",
    "\n",
    "for n in ns:\n",
    "    \n",
    "    classifier = classifier = MaxPullClassifier.MaxPullClassifier( refhist, n=n )\n",
    "    scores_good = classifier.evaluate( hists_good )\n",
    "    labels_good = np.zeros(len(scores_good))\n",
    "    scores_bad = classifier.evaluate( hists_bad )\n",
    "    labels_bad = np.ones(len(scores_bad))\n",
    "    scores = np.concatenate((scores_good,scores_bad))\n",
    "    labels = np.concatenate((labels_good,labels_bad))\n",
    "    _ = pu.plot_score_dist( scores, labels, nbins=50, normalize=True,\n",
    "                        title='output score distributions for signal and background',\n",
    "                        xaxtitle='output score', yaxtitle=None)"
   ]
  },
  {
   "cell_type": "code",
   "execution_count": null,
   "id": "activated-juice",
   "metadata": {},
   "outputs": [],
   "source": []
  }
 ],
 "metadata": {
  "kernelspec": {
   "display_name": "Python 3",
   "language": "python",
   "name": "python3"
  },
  "language_info": {
   "codemirror_mode": {
    "name": "ipython",
    "version": 3
   },
   "file_extension": ".py",
   "mimetype": "text/x-python",
   "name": "python",
   "nbconvert_exporter": "python",
   "pygments_lexer": "ipython3",
   "version": "3.8.6"
  }
 },
 "nbformat": 4,
 "nbformat_minor": 5
}
