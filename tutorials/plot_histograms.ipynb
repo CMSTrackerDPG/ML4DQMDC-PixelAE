{
 "cells": [
  {
   "cell_type": "markdown",
   "metadata": {},
   "source": [
    "**Plot the histograms for general investigation and visual inspection**  \n",
    "Functionality for selecting a single run and plotting all lumisections belonging to that run.\n",
    "Functionality for plotting the moments of the distributions as a function of LS number."
   ]
  },
  {
   "cell_type": "code",
   "execution_count": null,
   "metadata": {},
   "outputs": [],
   "source": [
    "### imports\n",
    "\n",
    "# external modules\n",
    "import sys\n",
    "import os\n",
    "import numpy as np\n",
    "import importlib\n",
    "\n",
    "# local modules\n",
    "sys.path.append('../utils')\n",
    "import dataframe_utils as dfu\n",
    "import plot_utils as pu\n",
    "import hist_utils as hu\n",
    "importlib.reload(dfu)\n",
    "importlib.reload(pu)\n",
    "importlib.reload(hu)\n",
    "sys.path.append('../src')\n",
    "import DataLoader\n",
    "importlib.reload(DataLoader)"
   ]
  },
  {
   "cell_type": "code",
   "execution_count": null,
   "metadata": {},
   "outputs": [],
   "source": [
    "### read the data\n",
    "# note: this cell assumes you have a csv file stored at the specified location,\n",
    "#       containing only histograms of the specified type;\n",
    "#       see the tutorial read_and_write_data for examples on how to create such files!\n",
    "\n",
    "histname = 'chargeInner_PXLayer_2'\n",
    "filename = 'DF2017_'+histname+'.csv'\n",
    "datadir = '../data'\n",
    "\n",
    "dloader = DataLoader.DataLoader()\n",
    "df = dloader.get_dataframe_from_file( os.path.join(datadir, filename) )\n",
    "print('raw input data shape: {}'.format( dfu.get_hist_values(df)[0].shape ))\n",
    "\n",
    "# select a single run\n",
    "runs = dfu.get_runs(df)\n",
    "print('number of runs: '+str(len(runs)))\n",
    "#print(runs) # uncomment this to see a printed list of available runs\n",
    "runnbs = [305351] # you can also add multiple runs to the list to plot them all together\n",
    "df = dfu.select_runs(df,runnbs)\n",
    "\n",
    "# select DCS-bit on data\n",
    "#df = dfu.select_dcson(df)"
   ]
  },
  {
   "cell_type": "code",
   "execution_count": null,
   "metadata": {},
   "outputs": [],
   "source": [
    "# make a plot of the histograms\n",
    "xmin = df.at[0,'Xmin']\n",
    "xmax = df.at[0,'Xmax']\n",
    "nbins = df.at[0,'Xbins']\n",
    "(values,_,ls) = dfu.get_hist_values(df)\n",
    "# (note: get_hist_values returns the raw histograms as stored in the dataframe;\n",
    "# check out utils/hist_utils.py/preparedatafromdf for more advanced data loading, e.g. normalizing)\n",
    "print('shape of histogram array: '+str(values.shape))\n",
    "# just plot all the histograms:\n",
    "pu.plot_hists_multi(values,xlims=(xmin,xmax))\n",
    "# plot the histograms with a color according to their lumisection number:\n",
    "pu.plot_hists_multi(values,colorlist=ls,xlims=(xmin,xmax))\n",
    "# same as before but normalizing each histogram:\n",
    "pu.plot_hists_multi(hu.normalizehists(values),colorlist=ls,xlims=(xmin,xmax))"
   ]
  },
  {
   "cell_type": "code",
   "execution_count": null,
   "metadata": {},
   "outputs": [],
   "source": [
    "# select a single lumisection and plot it on top of all the other lumisections\n",
    "lsnumber = 869\n",
    "pu.plot_anomalous(values,ls,highlight=lsnumber,hrange=10)"
   ]
  },
  {
   "cell_type": "code",
   "execution_count": null,
   "metadata": {},
   "outputs": [],
   "source": [
    "# make a plot of the moments of the (normalized) histograms\n",
    "# use xmin = 0 and xmax = 1 as a kind of normalization\n",
    "hists = values[:,1:-1]\n",
    "bins = np.linspace(0,1,num=hists.shape[1],endpoint=True)\n",
    "moments = hu.histmoments(bins,hists,orders=[1,2,3])\n",
    "_ = pu.plot_moments(moments,ls,(0,1))"
   ]
  },
  {
   "cell_type": "code",
   "execution_count": null,
   "metadata": {},
   "outputs": [],
   "source": []
  }
 ],
 "metadata": {
  "kernelspec": {
   "display_name": "Python 3",
   "language": "python",
   "name": "python3"
  },
  "language_info": {
   "codemirror_mode": {
    "name": "ipython",
    "version": 3
   },
   "file_extension": ".py",
   "mimetype": "text/x-python",
   "name": "python",
   "nbconvert_exporter": "python",
   "pygments_lexer": "ipython3",
   "version": "3.9.6"
  }
 },
 "nbformat": 4,
 "nbformat_minor": 2
}
