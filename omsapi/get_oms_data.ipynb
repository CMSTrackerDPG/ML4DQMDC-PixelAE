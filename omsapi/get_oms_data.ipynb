{
 "cells": [
  {
   "cell_type": "markdown",
   "id": "conscious-effects",
   "metadata": {},
   "source": [
    "**Functionality to call the API with the correct query based on input parameters**  \n",
    "See example.ipynb for some examples on how to use"
   ]
  },
  {
   "cell_type": "code",
   "execution_count": null,
   "id": "central-madison",
   "metadata": {},
   "outputs": [],
   "source": [
    "### imports\n",
    "\n",
    "# external modules\n",
    "import sys\n",
    "import os\n",
    "\n",
    "# local modules\n",
    "from omsapi import OMSAPI\n",
    "from urls import API_URL, API_VERSION, API_AUDIENCE\n",
    "from clientid import API_CLIENT_ID, API_CLIENT_SECRET\n",
    "sys.path.append(os.path.abspath('../utils/notebook_utils'))\n",
    "from notebook_to_script import save_notebook_as_script"
   ]
  },
  {
   "cell_type": "code",
   "execution_count": null,
   "id": "centered-daisy",
   "metadata": {},
   "outputs": [],
   "source": [
    "### set names of filter attributes\n",
    "\n",
    "attribute_name = 'attribute_name'\n",
    "value = 'value'\n",
    "operator = 'operator'"
   ]
  },
  {
   "cell_type": "code",
   "execution_count": null,
   "id": "instant-greene",
   "metadata": {},
   "outputs": [],
   "source": [
    "def get_oms_api():\n",
    "    ### get an OMSAPI instance\n",
    "    # takes no input arguments, as the configuration parameters are unlikely to change very often\n",
    "    # if needed, these parameters can be changed in the file urls.py\n",
    "    \n",
    "    omsapi = OMSAPI(api_url=API_URL, api_version=API_VERSION, cert_verify=False)\n",
    "    omsapi.auth_oidc(API_CLIENT_ID, API_CLIENT_SECRET, audience=API_AUDIENCE)\n",
    "    return omsapi"
   ]
  },
  {
   "cell_type": "code",
   "execution_count": null,
   "id": "lovely-fifth",
   "metadata": {},
   "outputs": [],
   "source": [
    "def get_oms_data( omsapi, api_endpoint, runnb, extrafilters=[], sort=None, attributes=[]):\n",
    "    ### query some data from OMS\n",
    "    # input arguments:\n",
    "    # - omsapi: an OMSAPI instance, e.g. created by get_oms_api()\n",
    "    # - api_endpoint: string, target information, e.g. 'runs' or 'lumisections'\n",
    "    #   (see the readme for a link where the available endpoints are listed)\n",
    "    # - runnb: run number(s) to retrieve the info for,\n",
    "    #   either integer (for single run) or tuple or list of two elements (first run and last run)\n",
    "    #   (can also be None to not filter on run number but this is not recommended)\n",
    "    # - extrafilters: list of extra filters (apart from run number),\n",
    "    #   each filter is supposed to be a dict of the form {'attribute_name':<name>,'value':<value>,'operator':<operator>}\n",
    "    #   where <name> must be a valid field name in the OMS data, <value> its value, and <operator> chosen from \"EQ\", \"NEQ\", \"LT\", \"GT\", \"LE\", \"GE\" or \"LIKE\"\n",
    "    # - sort: valid field name in the OMS data by which to sort\n",
    "    # - attributes: list of valid field names in the OMS data to return (if not specified, all information is returned)\n",
    "    \n",
    "    filters = []\n",
    "    \n",
    "    # check omsapi argument\n",
    "    if not isinstance(omsapi,OMSAPI):\n",
    "        raise Exception('ERROR in get_oms_data.py/get_oms_data:'\n",
    "                       +' first argument is of type '+str(type(omsapi))+' while and OMSAPI object is expected.'\n",
    "                       +' You can use get_oms_api() to create this object.')\n",
    "    # check runnb argument\n",
    "    if runnb is None:\n",
    "        pass # special case: do not apply run number filter\n",
    "    elif isinstance(runnb,int):\n",
    "        filters.append({attribute_name:'run_number',value:str(runnb),operator:'EQ'})\n",
    "    elif isinstance(runnb,tuple) or isinstance(runnb,list):\n",
    "        filters.append({attribute_name:'run_number',value:str(runnb[0]),operator:'GE'})\n",
    "        filters.append({attribute_name:'run_number',value:str(runnb[1]),operator:'LE'})\n",
    "    else:\n",
    "        print('WARNING in get_oms_data.py/get_oms_data:'\n",
    "             +' run number {} not recognized'.format(runnb)\n",
    "             +' (supposed to be an int, a tuple or list of 2 elements, or None).')\n",
    "    # check extrafilters argument\n",
    "    expected_keys = sorted([attribute_name,value,operator])\n",
    "    for extrafilter in extrafilters:\n",
    "        keys = sorted(extrafilter.keys())\n",
    "        if not keys==expected_keys:\n",
    "            print('WARNING in get_oms_data.py/get_oms_data:'\n",
    "                 +' filter {} contains unexpected keys'.format(extrafilter)\n",
    "                 +' (expecting only {}).'.format(expected_keys)\n",
    "                 +' The filter will be added but the query might fail...')\n",
    "        filters.append(extrafilter)\n",
    "        \n",
    "    q = omsapi.query(api_endpoint)\n",
    "    if len(filters)>0: q.filters(filters)\n",
    "    if sort is not None: q.sort(sort)\n",
    "    if len(attributes) is not None: q.attrs(attributes)\n",
    "    q.paginate(1,1000)\n",
    "    print(q.data_query())\n",
    "    response = q.data()\n",
    "    return response.json()"
   ]
  },
  {
   "cell_type": "code",
   "execution_count": null,
   "id": "lucky-sweet",
   "metadata": {},
   "outputs": [],
   "source": [
    "def get_oms_response_attribute( omsresponse, attribute ):\n",
    "    ### small helper function to retrieve a list of values for a single attribute\n",
    "    # input arguments:\n",
    "    # - omsresponse: the json-like object returned by get_oms_data\n",
    "    # - attribute: name of one of the attributes present in omsresponse\n",
    "    \n",
    "    return [omsresponse['data'][i]['attributes'][attribute] for i in range(len(omsresponse['data']))]"
   ]
  },
  {
   "cell_type": "code",
   "execution_count": null,
   "id": "atlantic-empire",
   "metadata": {},
   "outputs": [],
   "source": [
    "save_notebook_as_script( 'get_oms_data.ipynb' )"
   ]
  }
 ],
 "metadata": {
  "kernelspec": {
   "display_name": "Python 3",
   "language": "python",
   "name": "python3"
  },
  "language_info": {
   "codemirror_mode": {
    "name": "ipython",
    "version": 3
   },
   "file_extension": ".py",
   "mimetype": "text/x-python",
   "name": "python",
   "nbconvert_exporter": "python",
   "pygments_lexer": "ipython3",
   "version": "3.8.6"
  }
 },
 "nbformat": 4,
 "nbformat_minor": 5
}
