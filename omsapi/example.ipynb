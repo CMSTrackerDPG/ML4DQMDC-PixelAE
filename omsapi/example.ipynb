{
 "cells": [
  {
   "cell_type": "code",
   "execution_count": null,
   "id": "speaking-savannah",
   "metadata": {},
   "outputs": [],
   "source": [
    "### imports\n",
    "\n",
    "# external modules\n",
    "import matplotlib.pyplot as plt\n",
    "import importlib\n",
    "\n",
    "# local modules\n",
    "import get_oms_data\n",
    "importlib.reload(get_oms_data)\n",
    "from get_oms_data import get_oms_api, get_oms_data, get_oms_response_attribute"
   ]
  },
  {
   "cell_type": "code",
   "execution_count": null,
   "id": "deluxe-inspiration",
   "metadata": {},
   "outputs": [],
   "source": [
    "# get the omsapi instance\n",
    "\n",
    "omsapi = get_oms_api()"
   ]
  },
  {
   "cell_type": "code",
   "execution_count": null,
   "id": "swedish-indian",
   "metadata": {},
   "outputs": [],
   "source": [
    "# example: get run information for a single run\n",
    "\n",
    "runnb = 297050\n",
    "run_info = get_oms_data( omsapi, 'runs', runnb )\n",
    "print(run_info)"
   ]
  },
  {
   "cell_type": "code",
   "execution_count": null,
   "id": "starting-liechtenstein",
   "metadata": {},
   "outputs": [],
   "source": [
    "# example: get only specific info for a single run\n",
    "\n",
    "runnb = 297050\n",
    "run_info_spec = get_oms_data( omsapi, 'runs', runnb, attributes=['l1_rate','l1_menu'] )\n",
    "print(run_info_spec)\n",
    "print(run_info_spec['data'])\n",
    "print(run_info_spec['data'][0]['attributes'])"
   ]
  },
  {
   "cell_type": "code",
   "execution_count": null,
   "id": "outside-eclipse",
   "metadata": {},
   "outputs": [],
   "source": [
    "# example: get specific run information for multiple runs\n",
    "\n",
    "runnb = (297050,297056)\n",
    "run_info_mult = get_oms_data( omsapi, 'runs', runnb, attributes=['l1_rate','l1_menu'] )\n",
    "print(run_info_mult)\n",
    "l1_rate = get_oms_response_attribute( run_info_mult, 'l1_rate' )\n",
    "print(l1_rate)"
   ]
  },
  {
   "cell_type": "code",
   "execution_count": null,
   "id": "outdoor-ticket",
   "metadata": {},
   "outputs": [],
   "source": [
    "# example: get lumisection information\n",
    "\n",
    "runnb = 297050\n",
    "ls_info = get_oms_data( omsapi, 'lumisections', runnb, attributes=['lumisection_number','pileup','delivered_lumi','recorded_lumi'] )\n",
    "#print(ls_info)\n",
    "ls_nbs = get_oms_response_attribute(ls_info,'lumisection_number')\n",
    "pileup = get_oms_response_attribute(ls_info,'pileup')\n",
    "del_lumi = get_oms_response_attribute(ls_info,'delivered_lumi')\n",
    "rec_lumi = get_oms_response_attribute(ls_info,'recorded_lumi')\n",
    "\n",
    "plt.figure()\n",
    "plt.plot(ls_nbs,pileup)\n",
    "plt.figure()\n",
    "plt.plot(ls_nbs,del_lumi,color='b')\n",
    "plt.plot(ls_nbs,rec_lumi,color='g')"
   ]
  },
  {
   "cell_type": "code",
   "execution_count": null,
   "id": "modified-browser",
   "metadata": {},
   "outputs": [],
   "source": []
  }
 ],
 "metadata": {
  "kernelspec": {
   "display_name": "Python 3",
   "language": "python",
   "name": "python3"
  },
  "language_info": {
   "codemirror_mode": {
    "name": "ipython",
    "version": 3
   },
   "file_extension": ".py",
   "mimetype": "text/x-python",
   "name": "python",
   "nbconvert_exporter": "python",
   "pygments_lexer": "ipython3",
   "version": "3.8.6"
  }
 },
 "nbformat": 4,
 "nbformat_minor": 5
}
