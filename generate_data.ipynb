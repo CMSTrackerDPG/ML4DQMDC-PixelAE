{
 "cells": [
  {
   "cell_type": "markdown",
   "metadata": {},
   "source": [
    "**Testing of data generation (resampling) methods.**"
   ]
  },
  {
   "cell_type": "code",
   "execution_count": null,
   "metadata": {},
   "outputs": [],
   "source": [
    "%run utils/utils.ipynb\n",
    "%run utils/generate_data_utils.ipynb\n",
    "%matplotlib inline\n",
    "import pandas as pd\n",
    "import numpy as np\n",
    "import matplotlib.pyplot as plt"
   ]
  },
  {
   "cell_type": "code",
   "execution_count": null,
   "metadata": {},
   "outputs": [],
   "source": [
    "### load the data\n",
    "\n",
    "name = 'chargeInner_PXLayer_2'\n",
    "df = read_csv('data/DF2017_'+name+'.csv')\n",
    "allhists = preparedatafromdf(df)\n",
    "\n",
    "goodrunsls = {'2017':\n",
    "              [\n",
    "                (297056,[-1]),\n",
    "                (297177,[-1]),\n",
    "                (301449,[-1])\n",
    "              ]} \n",
    "\n",
    "badrunsls = {'2017':\n",
    "                [\n",
    "                (297287,[-1]),\n",
    "                (297288,[-1]),\n",
    "                (297289,[-1]),\n",
    "                (299316,[-1]),\n",
    "                (299324,[-1]),\n",
    "                ]}\n",
    "\n",
    "goodhists = preparedatafromdf(select_runsls(df,goodrunsls['2017']))\n",
    "badhists = preparedatafromdf(select_runsls(df,badrunsls['2017']))\n",
    "\n",
    "# plot some together\n",
    "plt.figure()\n",
    "xlims = (0,len(goodhists[0]))\n",
    "xax = np.linspace(xlims[0],xlims[1],num=len(goodhists[0]))\n",
    "for i in range(len(goodhists)): plt.step(xax,goodhists[int(i),:],color='b')\n",
    "for i in range(len(badhists)): plt.step(xax,badhists[int(i),:],color='r')\n",
    "plt.title('Histograms in file')\n",
    "\n",
    "# alternatively loading full set and selecting a seed on the run\n",
    "#df = read_csv('DF2017_'+name+'.csv')\n",
    "#print('raw input data shape: '+str(get_hist_values(df)[0].shape))\n",
    "#seed = select_ls(df,[(297056,[100])])\n",
    "#test = select_runs(df,[297056])\n",
    "#allhists = preparedatafromdf(df)\n",
    "#seedhist = preparedatafromdf(seed)\n",
    "\n",
    "#plt.figure()\n",
    "#plt.plot(seedhist[0,:])\n",
    "#plt.title('seed')"
   ]
  },
  {
   "cell_type": "code",
   "execution_count": null,
   "metadata": {},
   "outputs": [],
   "source": [
    "### testing section 2\n",
    "\n",
    "#reshists = fourier_noise_on_mean(allhists,nresamples=10,nonnegative=True,figname='f')\n",
    "\n",
    "#greshists = fourier_noise(goodhists,nresamples=10,nonnegative=True,figname='f')\n",
    "#breshists = fourier_noise(badhists,nresamples=9,nonnegative=True,stdfactor=3.,figname='f')\n",
    "\n",
    "#reshists = resample_bin_per_bin(allhists,nresamples=10,nonnegative=True,smoothinghalfwidth=0,figname='f')\n",
    "\n",
    "#reshists = resample_similar_bin_per_bin(allhists,goodhists,nresamples=3,nonnegative=True,keeppercentage=0.005,figname='f')\n",
    "#reshists = resample_similar_bin_per_bin(allhists,badhists,nresamples=3,nonnegative=True,keeppercentage=0.003,figname='f')\n",
    "\n",
    "#reshists = resample_similar_fourier_noise(allhists,goodhists,nresamples=3,nonnegative=True,keeppercentage=0.001,figname='f')\n",
    "#reshists = resample_similar_fourier_noise(allhists,badhists,nresamples=3,nonnegative=True,keeppercentage=0.001,figname='f')\n",
    "\n",
    "greshists = resample_similar_lico(allhists,goodhists,nresamples=10,nonnegative=True,keeppercentage=0.1,figname='f')\n",
    "#greshists = fourier_noise(greshists,nresamples=1,nonnegative=True,stdfactor=8.,figname='f')\n",
    "#reshists = resample_similar_lico(allhists,badhists,nresamples=1,nonnegative=False,keeppercentage=0.001,figname='f')\n",
    "\n",
    "#reshists = mc_sampling(seedhist,nresamples=10,nMC=10000)\n",
    "\n",
    "breshists = white_noise(badhists,stdfactor=3.)"
   ]
  },
  {
   "cell_type": "code",
   "execution_count": null,
   "metadata": {},
   "outputs": [],
   "source": [
    "# plot some together\n",
    "plt.figure()\n",
    "xlims = (0,len(greshists[0]))\n",
    "xax = np.linspace(xlims[0],xlims[1],num=len(greshists[0]))\n",
    "for i in range(len(greshists)): \n",
    "    plt.step(xax,greshists[int(i),:],color='b',alpha=0.3)\n",
    "for i in range(len(breshists)): \n",
    "    plt.step(xax,breshists[int(i),:],color='r',alpha=0.3)\n",
    "#plt.ylim((0,0.15))\n",
    "plt.title('Generated histograms')"
   ]
  },
  {
   "cell_type": "code",
   "execution_count": null,
   "metadata": {},
   "outputs": [],
   "source": []
  }
 ],
 "metadata": {
  "kernelspec": {
   "display_name": "Python 3",
   "language": "python",
   "name": "python3"
  },
  "language_info": {
   "codemirror_mode": {
    "name": "ipython",
    "version": 3
   },
   "file_extension": ".py",
   "mimetype": "text/x-python",
   "name": "python",
   "nbconvert_exporter": "python",
   "pygments_lexer": "ipython3",
   "version": "3.7.6"
  }
 },
 "nbformat": 4,
 "nbformat_minor": 4
}
