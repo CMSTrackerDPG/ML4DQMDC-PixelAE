{
 "cells": [
  {
   "cell_type": "markdown",
   "metadata": {},
   "source": [
    "**Plot histograms in a loop, making a plot per run**  \n",
    "This allows to relatively quickly scan all runs or a collection of runs for either general characteristics of the histograms under investigation or spot anomalies by eye"
   ]
  },
  {
   "cell_type": "code",
   "execution_count": null,
   "metadata": {},
   "outputs": [],
   "source": [
    "### imports\n",
    "\n",
    "# external modules\n",
    "import sys\n",
    "import numpy as np\n",
    "import matplotlib.pyplot as plt\n",
    "import importlib\n",
    "\n",
    "# internal modules\n",
    "sys.path.append('utils')\n",
    "import csv_utils as csvu\n",
    "import hist_utils as hu\n",
    "import dataframe_utils as dfu\n",
    "import plot_utils as pu\n",
    "import clustering_utils as cu\n",
    "importlib.reload(csvu)\n",
    "importlib.reload(hu)\n",
    "importlib.reload(dfu)\n",
    "importlib.reload(pu)\n",
    "importlib.reload(cu)"
   ]
  },
  {
   "cell_type": "code",
   "execution_count": null,
   "metadata": {},
   "outputs": [],
   "source": [
    "# global settings\n",
    "plot_type1 = True\n",
    "plot_type2 = True\n",
    "plot_moment = True\n",
    "\n",
    "# load the data\n",
    "df = csvu.read_csv('data/DF2017_chargeInner_PXLayer_2.csv')\n",
    "print('total number of LS: '+str(len(df)))\n",
    "\n",
    "# first select a set of reference histograms (for plot type 2)\n",
    "refhists = hu.preparedatafromdf(dfu.select_dcson(dfu.select_runs(df,[297056,297177,301449])))\n",
    "\n",
    "# filter the data\n",
    "#df = dfu.select_golden(df)\n",
    "#df = dfu.select_notgolden(df)\n",
    "df = dfu.select_dcson(df)\n",
    "#df = dfu.select_dcsoff(df)\n",
    "print('filtered number of LS: '+str(len(df)))\n",
    "\n",
    "# start loop over runs\n",
    "runs = dfu.get_runs(df)\n",
    "print('number of runs: '+str(len(runs)))\n",
    "runs = runs[:10]\n",
    "print('will loop over following runs: '+str(runs))\n",
    "for run in runs:\n",
    "    print('run '+str(run))\n",
    "    dfr = dfu.select_runs(df,[run])\n",
    "    # get histograms\n",
    "    (hists,_,ls) = dfu.get_hist_values(dfr)\n",
    "    hists = hists[:,1:-1]\n",
    "    # plot type 1\n",
    "    if plot_type1:\n",
    "        pu.plot_hists_multi(hists.tolist(),colorlist=ls)\n",
    "        plt.show()\n",
    "    # plot type 2\n",
    "    if plot_type2:\n",
    "        normhists = hu.normalizehists(hists)\n",
    "        pu.plot_sets([refhists,normhists],colorlist=['blue','red'],labellist=['reference runs','this run'],transparencylist=[0.1,1.])\n",
    "        plt.show()\n",
    "    # get moments\n",
    "    if plot_moment:\n",
    "        nmoments = 3\n",
    "        moments = np.zeros((len(hists),nmoments))\n",
    "        xmin = 0. # some sort of normalization\n",
    "        xmax = 1. # some sort of normalization\n",
    "        nbins = dfr.at[0,'Xbins']\n",
    "        binwidth = (xmax-xmin)/nbins\n",
    "        bins = np.linspace(xmin+binwidth/2,xmax-binwidth/2,num=nbins,endpoint=True)\n",
    "        for i in range(1,nmoments+1):\n",
    "            moments[:,i-1] = hu.moment(bins,hists,i)\n",
    "        pu.plot_moments(moments,ls,(0,1))\n",
    "        dists = np.zeros(len(ls))\n",
    "        for i in range(len(ls)):\n",
    "            dists[i] = cu.avgnndist(moments,i,2)\n",
    "        pu.plot_distance(dists,ls)\n",
    "        plt.show()"
   ]
  },
  {
   "cell_type": "code",
   "execution_count": null,
   "metadata": {},
   "outputs": [],
   "source": []
  }
 ],
 "metadata": {
  "kernelspec": {
   "display_name": "Python 3",
   "language": "python",
   "name": "python3"
  },
  "language_info": {
   "codemirror_mode": {
    "name": "ipython",
    "version": 3
   },
   "file_extension": ".py",
   "mimetype": "text/x-python",
   "name": "python",
   "nbconvert_exporter": "python",
   "pygments_lexer": "ipython3",
   "version": "3.8.6"
  }
 },
 "nbformat": 4,
 "nbformat_minor": 4
}
