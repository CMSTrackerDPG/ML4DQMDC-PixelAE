{
 "cells": [
  {
   "cell_type": "code",
   "execution_count": null,
   "id": "preceding-arrangement",
   "metadata": {},
   "outputs": [],
   "source": [
    "### imports\n",
    "\n",
    "# external modules\n",
    "import json\n",
    "\n",
    "# local modules\n",
    "from get_oms_data import get_oms_data"
   ]
  },
  {
   "cell_type": "code",
   "execution_count": null,
   "id": "legendary-oracle",
   "metadata": {},
   "outputs": [],
   "source": [
    "### define configuration\n",
    "\n",
    "mode = 'lumisections' # choose from 'run' or 'lumisections'\n",
    "run = 297050 # run number to retrieve info for\n",
    "authmode = 'login' # choose from 'login' (username and password)\n",
    "                   # or 'certificate' (not yet implemented) "
   ]
  },
  {
   "cell_type": "code",
   "execution_count": null,
   "id": "metallic-student",
   "metadata": {},
   "outputs": [],
   "source": [
    "response = get_oms_data( mode, run, authmode=authmode )"
   ]
  },
  {
   "cell_type": "code",
   "execution_count": null,
   "id": "demonstrated-woman",
   "metadata": {},
   "outputs": [],
   "source": [
    "### write data\n",
    "\n",
    "outfilename = 'test' # name of the output json file\n",
    "outfilename = os.path.splitext(outfilename)[0]+'.json'\n",
    "jsonstr = json.dumps(response, indent=2)\n",
    "with open(outfilename, \"w\") as file:\n",
    "    try:\n",
    "        file.write(jsonstr)\n",
    "    except TypeError:\n",
    "        file.write(jsonstr.decode(\"utf-8\"))\n",
    "print('done!')"
   ]
  },
  {
   "cell_type": "code",
   "execution_count": null,
   "id": "north-collapse",
   "metadata": {},
   "outputs": [],
   "source": []
  }
 ],
 "metadata": {
  "kernelspec": {
   "display_name": "Python 3",
   "language": "python",
   "name": "python3"
  }
 },
 "nbformat": 4,
 "nbformat_minor": 5
}
