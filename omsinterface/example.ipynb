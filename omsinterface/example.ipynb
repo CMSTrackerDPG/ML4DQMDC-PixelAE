{
 "cells": [
  {
   "cell_type": "code",
   "execution_count": null,
   "id": "christian-secondary",
   "metadata": {},
   "outputs": [],
   "source": [
    "### imports\n",
    "\n",
    "# external modules\n",
    "import json\n",
    "import matplotlib.pyplot as plt\n",
    "import importlib\n",
    "\n",
    "# local modules\n",
    "import get_oms_data\n",
    "importlib.reload(get_oms_data)\n",
    "from get_oms_data import get_oms_data"
   ]
  },
  {
   "cell_type": "code",
   "execution_count": null,
   "id": "periodic-awareness",
   "metadata": {},
   "outputs": [],
   "source": [
    "### define configuration\n",
    "\n",
    "mode = 'lumisections' # choose from 'run' or 'lumisections' or 'hltpathinfos' or 'hltrate' or 'hltrates'\n",
    "run = 297050 # run number to retrieve info for \n",
    "             #(can be tuple of format (run_first,run_last) if mode is 'run', else integer run number)\n",
    "hltpathname = 'AlCa_EcalEtaEBonly_v9' # ignored except if mode is 'hltrate'\n",
    "authmode = 'login' # choose from 'login' (username and password)\n",
    "                   # or 'certificate' (does not fully work yet, need username and password anyway) "
   ]
  },
  {
   "cell_type": "code",
   "execution_count": null,
   "id": "controlling-words",
   "metadata": {},
   "outputs": [],
   "source": [
    "response = get_oms_data( mode, run, hltpathname=hltpathname, authmode=authmode )"
   ]
  },
  {
   "cell_type": "code",
   "execution_count": null,
   "id": "computational-carrier",
   "metadata": {},
   "outputs": [],
   "source": [
    "### inspect the data\n",
    "\n",
    "if mode=='lumisections':\n",
    "    print(type(response))\n",
    "    ls = response[0]\n",
    "    print(ls)\n",
    "    print(ls['lumisection_number'])\n",
    "    print(ls['delivered_lumi'])\n",
    "    print(ls['recorded_lumi'])\n",
    "    print(ls['pileup'])\n",
    "    ls_nbs = [ls['lumisection_number'] for ls in response]\n",
    "    pileup = [ls['pileup'] for ls in response]\n",
    "    del_lumi = [ls['delivered_lumi'] for ls in response]\n",
    "    rec_lumi = [ls['recorded_lumi'] for ls in response]\n",
    "    plt.figure()\n",
    "    plt.plot(ls_nbs,pileup)\n",
    "    plt.figure()\n",
    "    plt.plot(ls_nbs,del_lumi,color='b')\n",
    "    plt.plot(ls_nbs,rec_lumi,color='g')\n",
    "    \n",
    "if mode=='hltpathinfos':\n",
    "    print(type(response))\n",
    "    pathinfo = response[0]\n",
    "    print(pathinfo)\n",
    "    \n",
    "if mode=='hltrate':\n",
    "    print(type(response))\n",
    "    lumisection_rate = response[0]\n",
    "    print(lumisection_rate)\n",
    "    ls = [el['first_lumisection_number'] for el in response]\n",
    "    rate = [el['rate'] for el in response]\n",
    "    plt.plot(ls,rate)\n",
    "    \n",
    "if mode=='hltrates':\n",
    "    print(type(response))\n",
    "    print(response[0])"
   ]
  },
  {
   "cell_type": "code",
   "execution_count": null,
   "id": "apparent-disability",
   "metadata": {},
   "outputs": [],
   "source": [
    "### write data\n",
    "\n",
    "outfilename = 'test' # name of the output json file\n",
    "outfilename = os.path.splitext(outfilename)[0]+'.json'\n",
    "jsonstr = json.dumps(response, indent=2)\n",
    "with open(outfilename, \"w\") as file:\n",
    "    try:\n",
    "        file.write(jsonstr)\n",
    "    except TypeError:\n",
    "        file.write(jsonstr.decode(\"utf-8\"))\n",
    "print('done!')"
   ]
  },
  {
   "cell_type": "code",
   "execution_count": null,
   "id": "bigger-extension",
   "metadata": {},
   "outputs": [],
   "source": []
  }
 ],
 "metadata": {
  "kernelspec": {
   "display_name": "Python 3",
   "language": "python",
   "name": "python3"
  },
  "language_info": {
   "codemirror_mode": {
    "name": "ipython",
    "version": 3
   },
   "file_extension": ".py",
   "mimetype": "text/x-python",
   "name": "python",
   "nbconvert_exporter": "python",
   "pygments_lexer": "ipython3",
   "version": "3.8.6"
  }
 },
 "nbformat": 4,
 "nbformat_minor": 5
}
