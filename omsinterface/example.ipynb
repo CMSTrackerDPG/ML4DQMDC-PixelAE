{
 "cells": [
  {
   "cell_type": "code",
   "execution_count": 1,
   "id": "several-charge",
   "metadata": {},
   "outputs": [],
   "source": [
    "### imports\n",
    "\n",
    "# external modules\n",
    "import json\n",
    "import matplotlib.pyplot as plt\n",
    "import importlib\n",
    "\n",
    "# local modules\n",
    "import get_oms_data\n",
    "importlib.reload(get_oms_data)\n",
    "from get_oms_data import get_oms_data"
   ]
  },
  {
   "cell_type": "code",
   "execution_count": 2,
   "id": "bridal-measurement",
   "metadata": {},
   "outputs": [],
   "source": [
    "### define configuration\n",
    "\n",
    "mode = 'lumisections' # choose from 'run' or 'lumisections' or 'hltpathinfos' or 'hltrate' or 'hltrates'\n",
    "run = 297056 # run number to retrieve info for \n",
    "             #(can be tuple of format (run_first,run_last) if mode is 'run', else integer run number)\n",
    "hltpathname = 'AlCa_EcalEtaEBonly_v9' # ignored except if mode is 'hltrate'\n",
    "authmode = 'login' # choose from 'login' (username and password)\n",
    "                   # or 'certificate' (does not fully work yet, need username and password anyway) "
   ]
  },
  {
   "cell_type": "code",
   "execution_count": 3,
   "id": "seven-termination",
   "metadata": {},
   "outputs": [
    {
     "name": "stdout",
     "output_type": "stream",
     "text": [
      "WARNING: login or certificate required for authentication.\n",
      "Enter CERN username:llambrec\n",
      "Enter CERN password: ········\n",
      "obtaining cookies for https://cmsoms.cern.ch/agg/api/v1/ from provided login for username llambrec ...\n"
     ]
    },
    {
     "name": "stderr",
     "output_type": "stream",
     "text": [
      "/cvmfs/sft.cern.ch/lcg/views/LCG_99/x86_64-centos7-gcc8-opt/lib/python3.8/site-packages/urllib3/connectionpool.py:846: InsecureRequestWarning: Unverified HTTPS request is being made. Adding certificate verification is strongly advised. See: https://urllib3.readthedocs.io/en/latest/advanced-usage.html#ssl-warnings\n",
      "  warnings.warn((\n",
      "/cvmfs/sft.cern.ch/lcg/views/LCG_99/x86_64-centos7-gcc8-opt/lib/python3.8/site-packages/urllib3/connectionpool.py:846: InsecureRequestWarning: Unverified HTTPS request is being made. Adding certificate verification is strongly advised. See: https://urllib3.readthedocs.io/en/latest/advanced-usage.html#ssl-warnings\n",
      "  warnings.warn((\n",
      "/cvmfs/sft.cern.ch/lcg/views/LCG_99/x86_64-centos7-gcc8-opt/lib/python3.8/site-packages/urllib3/connectionpool.py:846: InsecureRequestWarning: Unverified HTTPS request is being made. Adding certificate verification is strongly advised. See: https://urllib3.readthedocs.io/en/latest/advanced-usage.html#ssl-warnings\n",
      "  warnings.warn((\n",
      "/cvmfs/sft.cern.ch/lcg/views/LCG_99/x86_64-centos7-gcc8-opt/lib/python3.8/site-packages/urllib3/connectionpool.py:846: InsecureRequestWarning: Unverified HTTPS request is being made. Adding certificate verification is strongly advised. See: https://urllib3.readthedocs.io/en/latest/advanced-usage.html#ssl-warnings\n",
      "  warnings.warn((\n",
      "/cvmfs/sft.cern.ch/lcg/views/LCG_99/x86_64-centos7-gcc8-opt/lib/python3.8/site-packages/urllib3/connectionpool.py:846: InsecureRequestWarning: Unverified HTTPS request is being made. Adding certificate verification is strongly advised. See: https://urllib3.readthedocs.io/en/latest/advanced-usage.html#ssl-warnings\n",
      "  warnings.warn((\n",
      "/cvmfs/sft.cern.ch/lcg/views/LCG_99/x86_64-centos7-gcc8-opt/lib/python3.8/site-packages/urllib3/connectionpool.py:846: InsecureRequestWarning: Unverified HTTPS request is being made. Adding certificate verification is strongly advised. See: https://urllib3.readthedocs.io/en/latest/advanced-usage.html#ssl-warnings\n",
      "  warnings.warn((\n",
      "/cvmfs/sft.cern.ch/lcg/views/LCG_99/x86_64-centos7-gcc8-opt/lib/python3.8/site-packages/urllib3/connectionpool.py:846: InsecureRequestWarning: Unverified HTTPS request is being made. Adding certificate verification is strongly advised. See: https://urllib3.readthedocs.io/en/latest/advanced-usage.html#ssl-warnings\n",
      "  warnings.warn((\n"
     ]
    },
    {
     "name": "stdout",
     "output_type": "stream",
     "text": [
      "obtaining cookies for https://cmsoms.cern.ch/agg/api/v1/ from provided login for username llambrec ...\n"
     ]
    },
    {
     "name": "stderr",
     "output_type": "stream",
     "text": [
      "/cvmfs/sft.cern.ch/lcg/views/LCG_99/x86_64-centos7-gcc8-opt/lib/python3.8/site-packages/urllib3/connectionpool.py:846: InsecureRequestWarning: Unverified HTTPS request is being made. Adding certificate verification is strongly advised. See: https://urllib3.readthedocs.io/en/latest/advanced-usage.html#ssl-warnings\n",
      "  warnings.warn((\n",
      "/cvmfs/sft.cern.ch/lcg/views/LCG_99/x86_64-centos7-gcc8-opt/lib/python3.8/site-packages/urllib3/connectionpool.py:846: InsecureRequestWarning: Unverified HTTPS request is being made. Adding certificate verification is strongly advised. See: https://urllib3.readthedocs.io/en/latest/advanced-usage.html#ssl-warnings\n",
      "  warnings.warn((\n",
      "/cvmfs/sft.cern.ch/lcg/views/LCG_99/x86_64-centos7-gcc8-opt/lib/python3.8/site-packages/urllib3/connectionpool.py:846: InsecureRequestWarning: Unverified HTTPS request is being made. Adding certificate verification is strongly advised. See: https://urllib3.readthedocs.io/en/latest/advanced-usage.html#ssl-warnings\n",
      "  warnings.warn((\n",
      "/cvmfs/sft.cern.ch/lcg/views/LCG_99/x86_64-centos7-gcc8-opt/lib/python3.8/site-packages/urllib3/connectionpool.py:846: InsecureRequestWarning: Unverified HTTPS request is being made. Adding certificate verification is strongly advised. See: https://urllib3.readthedocs.io/en/latest/advanced-usage.html#ssl-warnings\n",
      "  warnings.warn((\n",
      "/cvmfs/sft.cern.ch/lcg/views/LCG_99/x86_64-centos7-gcc8-opt/lib/python3.8/site-packages/urllib3/connectionpool.py:846: InsecureRequestWarning: Unverified HTTPS request is being made. Adding certificate verification is strongly advised. See: https://urllib3.readthedocs.io/en/latest/advanced-usage.html#ssl-warnings\n",
      "  warnings.warn((\n",
      "/cvmfs/sft.cern.ch/lcg/views/LCG_99/x86_64-centos7-gcc8-opt/lib/python3.8/site-packages/urllib3/connectionpool.py:846: InsecureRequestWarning: Unverified HTTPS request is being made. Adding certificate verification is strongly advised. See: https://urllib3.readthedocs.io/en/latest/advanced-usage.html#ssl-warnings\n",
      "  warnings.warn((\n",
      "/cvmfs/sft.cern.ch/lcg/views/LCG_99/x86_64-centos7-gcc8-opt/lib/python3.8/site-packages/urllib3/connectionpool.py:846: InsecureRequestWarning: Unverified HTTPS request is being made. Adding certificate verification is strongly advised. See: https://urllib3.readthedocs.io/en/latest/advanced-usage.html#ssl-warnings\n",
      "  warnings.warn((\n"
     ]
    },
    {
     "name": "stdout",
     "output_type": "stream",
     "text": [
      "                                                                                                    \r",
      "Total number of lumisections: 212\n",
      "\n",
      "\n",
      "\n"
     ]
    }
   ],
   "source": [
    "response = get_oms_data( mode, run, hltpathname=hltpathname, authmode=authmode )"
   ]
  },
  {
   "cell_type": "code",
   "execution_count": 4,
   "id": "proof-compound",
   "metadata": {},
   "outputs": [
    {
     "name": "stdout",
     "output_type": "stream",
     "text": [
      "<class 'list'>\n",
      "{'rp_time_ready': None, 'cscp_ready': True, 'physics_flag': False, 'dt0_ready': True, 'beam1_present': True, 'bpix_ready': False, 'ho_ready': True, 'dtp_ready': True, 'tecm_ready': False, 'gem_ready': None, 'lumisection_number': 1, 'tibtid_ready': False, 'fpix_ready': False, 'rpc_ready': True, 'rp_sect_56_ready': None, 'castor_ready': False, 'init_lumi': 6371.27490234, 'pileup': 37.36563492, 'esp_ready': True, 'eep_ready': True, 'hbhea_ready': True, 'ebm_ready': True, 'delivered_lumi': 0.0, 'recorded_lumi': 0.0, 'dtm_ready': True, 'eem_ready': True, 'end_lumi': 5915.9296875, 'fill_number': 5840, 'esm_ready': True, 'tecp_ready': False, 'end_time': '2017-06-17T04:56:52Z', 'ebp_ready': True, 'hf_ready': True, 'rp_sect_45_ready': None, 'cscm_ready': True, 'cms_active': True, 'zdc_ready': False, 'start_time': '2017-06-17T04:56:28Z', 'hbheb_ready': True, 'tob_ready': False, 'beam1_stable': False, 'hbhec_ready': True, 'run_number': 297056, 'beam2_stable': False, 'beam2_present': True}\n",
      "1\n",
      "0.0\n",
      "0.0\n",
      "37.36563492\n"
     ]
    }
   ],
   "source": [
    "### inspect the data\n",
    "\n",
    "if mode=='lumisections':\n",
    "    print(type(response))\n",
    "    ls = response[0]\n",
    "    print(ls)\n",
    "    print(ls['lumisection_number'])\n",
    "    print(ls['delivered_lumi'])\n",
    "    print(ls['recorded_lumi'])\n",
    "    print(ls['pileup'])\n",
    "    \n",
    "if mode=='hltpathinfos':\n",
    "    print(type(response))\n",
    "    pathinfo = response[0]\n",
    "    print(pathinfo)\n",
    "    \n",
    "if mode=='hltrate':\n",
    "    print(type(response))\n",
    "    lumisection_rate = response[0]\n",
    "    print(lumisection_rate)\n",
    "    ls = [el['first_lumisection_number'] for el in response]\n",
    "    rate = [el['rate'] for el in response]\n",
    "    plt.plot(ls,rate)\n",
    "    \n",
    "if mode=='hltrates':\n",
    "    print(type(response))\n",
    "    print(response[0])"
   ]
  },
  {
   "cell_type": "code",
   "execution_count": null,
   "id": "tested-cheat",
   "metadata": {},
   "outputs": [],
   "source": [
    "### write data\n",
    "\n",
    "outfilename = 'test' # name of the output json file\n",
    "outfilename = os.path.splitext(outfilename)[0]+'.json'\n",
    "jsonstr = json.dumps(response, indent=2)\n",
    "with open(outfilename, \"w\") as file:\n",
    "    try:\n",
    "        file.write(jsonstr)\n",
    "    except TypeError:\n",
    "        file.write(jsonstr.decode(\"utf-8\"))\n",
    "print('done!')"
   ]
  },
  {
   "cell_type": "code",
   "execution_count": null,
   "id": "basic-reynolds",
   "metadata": {},
   "outputs": [],
   "source": []
  }
 ],
 "metadata": {
  "kernelspec": {
   "display_name": "Python 3",
   "language": "python",
   "name": "python3"
  },
  "language_info": {
   "codemirror_mode": {
    "name": "ipython",
    "version": 3
   },
   "file_extension": ".py",
   "mimetype": "text/x-python",
   "name": "python",
   "nbconvert_exporter": "python",
   "pygments_lexer": "ipython3",
   "version": "3.8.6"
  }
 },
 "nbformat": 4,
 "nbformat_minor": 5
}
