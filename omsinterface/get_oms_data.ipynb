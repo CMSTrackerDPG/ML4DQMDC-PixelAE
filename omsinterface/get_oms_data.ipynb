{
 "cells": [
  {
   "cell_type": "code",
   "execution_count": null,
   "id": "union-pressing",
   "metadata": {},
   "outputs": [],
   "source": [
    "### imports\n",
    "\n",
    "# external modules\n",
    "import sys\n",
    "import os\n",
    "import json\n",
    "from getpass import getpass\n",
    "\n",
    "# local modules\n",
    "import omstools\n",
    "import cert\n",
    "sys.path.append(os.path.abspath('../utils/notebook_utils'))\n",
    "from notebook_to_script import save_notebook_as_script"
   ]
  },
  {
   "cell_type": "code",
   "execution_count": null,
   "id": "impressive-elder",
   "metadata": {},
   "outputs": [],
   "source": [
    "def get_oms_data( mode, run, authmode='login' ):\n",
    "\n",
    "    # parse arguments\n",
    "    \n",
    "    if mode=='run':\n",
    "        method = omstools.get_runs\n",
    "        args = [run,run]\n",
    "    elif mode=='lumisections':\n",
    "        method = omstools.get_lumisections\n",
    "        args = [run]\n",
    "    else:\n",
    "        raise Exception('ERROR: mode {} not recognized'.format(mode))\n",
    "\n",
    "    kwargs = {}\n",
    "\n",
    "    if not omstools.check_oms_connectivity():\n",
    "        print('WARNING: login or certificate required for authentication.')\n",
    "        if authmode=='login':\n",
    "            cern_username = input('Enter CERN username:')\n",
    "            cern_password = getpass('Enter CERN password: ')\n",
    "            login = (cern_username,cern_password)\n",
    "            kwargs['authmode'] = 'login'\n",
    "            kwargs['login'] = login\n",
    "        elif authmode=='certificate':\n",
    "            # WARNING: does not yet work without additionally providing username and password,\n",
    "            #          temporarily added for now\n",
    "            cern_username = input('Enter CERN username:')\n",
    "            cern_password = getpass('Enter CERN password: ')\n",
    "            login = (cern_username,cern_password)\n",
    "            kwargs['authmode'] = 'certificate'\n",
    "            kwargs['login'] = login\n",
    "            if not (os.path.exists(cert.CERT_TUPLE[0]) and os.path.exists(cert.CERT_TUPLE[1])):\n",
    "                raise Exception('ERROR: path to certificate files is invalid')\n",
    "            else:\n",
    "                print('using certificates: {}'.format(cert.CERT_TUPLE))\n",
    "            kwargs['certificate'] = cert.CERT_TUPLE\n",
    "        else:\n",
    "            raise Exception('ERROR: authentication mode {} not recognized'.format(authmode))\n",
    "            \n",
    "    # get data\n",
    "\n",
    "    response = method(*args,**kwargs)\n",
    "    \n",
    "    # return the result\n",
    "    return response"
   ]
  },
  {
   "cell_type": "code",
   "execution_count": null,
   "id": "aerial-information",
   "metadata": {},
   "outputs": [],
   "source": [
    "save_notebook_as_script( 'get_oms_data.ipynb' )"
   ]
  }
 ],
 "metadata": {
  "kernelspec": {
   "display_name": "Python 3",
   "language": "python",
   "name": "python3"
  },
  "language_info": {
   "codemirror_mode": {
    "name": "ipython",
    "version": 3
   },
   "file_extension": ".py",
   "mimetype": "text/x-python",
   "name": "python",
   "nbconvert_exporter": "python",
   "pygments_lexer": "ipython3",
   "version": "3.8.6"
  }
 },
 "nbformat": 4,
 "nbformat_minor": 5
}
