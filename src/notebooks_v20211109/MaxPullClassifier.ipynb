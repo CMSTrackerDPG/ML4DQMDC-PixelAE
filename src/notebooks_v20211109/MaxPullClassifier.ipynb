{
 "cells": [
  {
   "cell_type": "markdown",
   "id": "fossil-christopher",
   "metadata": {},
   "source": [
    "**Histogram classification based on maximum pull between test histogram and reference histogram.**\n",
    "\n",
    "Specifically intended for 2D histograms, but should in principle work for 1D as well.  \n",
    "Ssee static function 'pull' for definition of bin-per-bin pull and other notes."
   ]
  },
  {
   "cell_type": "code",
   "execution_count": null,
   "id": "featured-integration",
   "metadata": {},
   "outputs": [],
   "source": [
    "### imports\n",
    "\n",
    "# external modules\n",
    "import sys\n",
    "import numpy as np\n",
    "\n",
    "# local modules\n",
    "from HistogramClassifier import HistogramClassifier\n",
    "sys.path.append('../../utils')\n",
    "from notebook_utils.notebook_to_script import save_notebook_as_script"
   ]
  },
  {
   "cell_type": "code",
   "execution_count": null,
   "id": "naughty-completion",
   "metadata": {},
   "outputs": [],
   "source": [
    "def pull( testhist, refhist ):\n",
    "    ### calculate bin-per-bin pull between two histograms\n",
    "    # bin-per-bin pull is defined here preliminarily as (testhist(bin)-refhist(bin))/sqrt(refhist(bin))\n",
    "    # notes: \n",
    "    # - bins in the denominator where refhist is < 1 are set to one! This is for histograms with absolute counts, and they should not be normalized!\n",
    "    # - instead another normalization is applied: the test histogram is multiplied by sum(refhist)/sum(testhist) before computing the pulls\n",
    "    # input arguments:\n",
    "    # - testhist, refhist: numpy arrays of the same shape\n",
    "    # output:\n",
    "    # numpy array of same shape as testhist and refhist\n",
    "    denom = np.power(refhist,1/2)\n",
    "    denom = np.where( denom<1, 1, denom )\n",
    "    norm = np.sum(refhist)/np.sum(testhist)\n",
    "    return (norm*testhist-refhist)/np.power(denom,1/2)\n",
    "\n",
    "def maxabspull( testhist, refhist, n=1 ):\n",
    "    ### calculate maximum of bin-per-bin pulls (in absolute value) between two histograms\n",
    "    # see definition of bin-per-bin pull in function pull (above)\n",
    "    # input arguments:\n",
    "    # - testhist, refhist: numpy arrays of the same shape\n",
    "    # - n: nubmer of largest pull values to average over (default: 1, just take single maximum)\n",
    "    # output:\n",
    "    # a float\n",
    "    abspull = np.abs( pull(testhist,refhist) ).flatten()\n",
    "    largest = np.partition( abspull, -n )[-n:]\n",
    "    return np.mean(largest)\n",
    "\n",
    "class MaxPullClassifier(HistogramClassifier):\n",
    "    ### histogram classification based on maximum pull between test histogram and reference histogram.\n",
    "    # specifically intended for 2D histograms, but should in principle work for 1D as well.\n",
    "    # see static function pull (above) for definition of bin-per-bin pull and other notes.\n",
    "    \n",
    "    def __init__( self, nmaxpulls=1 ):\n",
    "        ### initializer\n",
    "        # input arguments:\n",
    "        # - nmaxpulls: number of largest pull values to average over \n",
    "        #   (default: 1, just take single maximum)\n",
    "        super( MaxPullClassifier,self ).__init__()\n",
    "        self.n = nmaxpulls\n",
    "        \n",
    "    def set_nmaxpulls( self, nmaxpulls ):\n",
    "        ### set the nmaxpulls parameter (see also initializer)\n",
    "        self.n = nmaxpulls\n",
    "        \n",
    "    def train( self, refhist ):\n",
    "        ### 'train' the classifier, i.e. set the reference histogram.\n",
    "        # input arguments:\n",
    "        # - refhist: a numpy array of shape (1,nbins) or (1,nybins,nxbins)\n",
    "        super( MaxPullClassifier,self).train( refhist )\n",
    "        if not refhist.shape[0]==1:\n",
    "            raise Exception('ERROR in MaxPullClassifier/train: first dimension of training set is expected to be 1'\n",
    "                           +' (only one reference histogram allowed, provided in format (1,nbins) or (1,nybins,nxbins))')\n",
    "        self.refhist = refhist[0]\n",
    "        \n",
    "    def evaluate( self, histograms ):\n",
    "        ### classify the histograms based on their max bin-per-bin pull (in absolute value) with respect to a reference histogram\n",
    "        super( MaxPullClassifier,self).evaluate( histograms )\n",
    "        maxpulls = np.zeros(len(histograms))\n",
    "        for i,hist in enumerate(histograms):\n",
    "            maxpulls[i] = maxabspull( hist, self.refhist, n=self.n )\n",
    "        return maxpulls\n",
    "    \n",
    "    def getpull( self, histogram ):\n",
    "        ### get the pull histogram for a given test histogram\n",
    "        # input arguments:\n",
    "        # histogram: a single histogram, i.e. numpy array of shape (nbins) for 1D or (nybins,nxbins) for 2D.\n",
    "        # output:\n",
    "        # numpy array of same shape as histogram containing bin-per-bin pull w.r.t. reference histogram\n",
    "        return pull( histogram, self.refhist )"
   ]
  },
  {
   "cell_type": "code",
   "execution_count": null,
   "id": "unsigned-midnight",
   "metadata": {},
   "outputs": [],
   "source": [
    "save_notebook_as_script( 'MaxPullClassifier.ipynb' )"
   ]
  }
 ],
 "metadata": {
  "kernelspec": {
   "display_name": "Python 3",
   "language": "python",
   "name": "python3"
  },
  "language_info": {
   "codemirror_mode": {
    "name": "ipython",
    "version": 3
   },
   "file_extension": ".py",
   "mimetype": "text/x-python",
   "name": "python",
   "nbconvert_exporter": "python",
   "pygments_lexer": "ipython3",
   "version": "3.9.6"
  }
 },
 "nbformat": 4,
 "nbformat_minor": 5
}
