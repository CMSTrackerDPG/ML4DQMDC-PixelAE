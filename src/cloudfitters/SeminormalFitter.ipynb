{
 "cells": [
  {
   "cell_type": "code",
   "execution_count": null,
   "id": "light-spice",
   "metadata": {},
   "outputs": [],
   "source": [
    "### imports\n",
    "\n",
    "# external modules\n",
    "import sys\n",
    "import numpy as np\n",
    "from scipy.stats import multivariate_normal\n",
    "import importlib\n",
    "\n",
    "# local modules\n",
    "from CloudFitter import CloudFitter\n",
    "sys.path.append('../../utils')\n",
    "from notebook_utils.notebook_to_script import save_notebook_as_script"
   ]
  },
  {
   "cell_type": "code",
   "execution_count": null,
   "id": "therapeutic-kitty",
   "metadata": {},
   "outputs": [],
   "source": [
    "class SeminormalFitter(CloudFitter):\n",
    "    ### class for fitting a 'seminormal' distribution to a point cloud\n",
    "    # this is not strictly speaking a probability distribution,\n",
    "    # only the first quadrant of the result of fitting a normal distribution\n",
    "    # to the data + its mirror image wrt the origin.\n",
    "    # parameters\n",
    "    # - cov: multidim covariance matrix of normal distribution\n",
    "    # - mvn: scipy.stats multivariate_normal object built from the cov\n",
    "        \n",
    "    def __init__(self,points):\n",
    "        ### constructor\n",
    "        # points is a np array of shape (npoints,ndims)\n",
    "        # note: points can also be an array or list with length 0,\n",
    "        #       in that case the object is initialized empty.\n",
    "        #       use this followed by the 'load' method to load a previously saved fit!\n",
    "        if len(points)==0: \n",
    "            self.ndims = 0\n",
    "            self.npoints = 0\n",
    "            self.cov = None\n",
    "            self.mvn = None\n",
    "            return\n",
    "        super( SeminormalFitter, self ).__init__(points)\n",
    "        points = np.vstack((points,-points))\n",
    "        self.cov = np.cov(points,rowvar=False)\n",
    "        self.mvn = multivariate_normal(np.zeros(self.ndims),self.cov)\n",
    "        \n",
    "    def pdf(self,points):\n",
    "        ### get pdf at points\n",
    "        super( SeminormalFitter, self ).pdf(points)\n",
    "        return self.mvn.pdf(points)\n",
    "    \n",
    "    def save(self,path):\n",
    "        ### save the covariance matrix as a .npy file specified by path\n",
    "        np.save(path,self.cov)\n",
    "        \n",
    "    def load(self,path):\n",
    "        ### load a covariance matrix from a .npy file specified by path and build the fit from it\n",
    "        self.cov = np.load(path)\n",
    "        self.ndims = len(self.cov)\n",
    "        self.mvn = multivariate_normal(np.zeros(self.ndims),self.cov)"
   ]
  },
  {
   "cell_type": "code",
   "execution_count": null,
   "id": "integral-surge",
   "metadata": {},
   "outputs": [],
   "source": [
    "save_notebook_as_script( 'SeminormalFitter.ipynb' )"
   ]
  }
 ],
 "metadata": {
  "kernelspec": {
   "display_name": "Python 3",
   "language": "python",
   "name": "python3"
  },
  "language_info": {
   "codemirror_mode": {
    "name": "ipython",
    "version": 3
   },
   "file_extension": ".py",
   "mimetype": "text/x-python",
   "name": "python",
   "nbconvert_exporter": "python",
   "pygments_lexer": "ipython3",
   "version": "3.8.6"
  }
 },
 "nbformat": 4,
 "nbformat_minor": 5
}
