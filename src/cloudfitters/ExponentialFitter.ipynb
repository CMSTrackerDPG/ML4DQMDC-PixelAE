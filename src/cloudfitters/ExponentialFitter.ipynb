{
 "cells": [
  {
   "cell_type": "markdown",
   "id": "naval-ready",
   "metadata": {},
   "source": [
    "**Class for fitting an exponential distribution to a point cloud**\n",
    "\n",
    "An exponential distribution in N dimensions is fully determined by an N-dimensional vector, representing the N-dimensional decay parameter (or lambda parameter) of the distribution. "
   ]
  },
  {
   "cell_type": "code",
   "execution_count": null,
   "id": "digital-butler",
   "metadata": {},
   "outputs": [],
   "source": [
    "### imports\n",
    "\n",
    "# external modules\n",
    "import sys\n",
    "import numpy as np\n",
    "import importlib\n",
    "\n",
    "# local modules\n",
    "from CloudFitter import CloudFitter\n",
    "sys.path.append('../../utils')\n",
    "from notebook_utils.notebook_to_script import save_notebook_as_script"
   ]
  },
  {
   "cell_type": "code",
   "execution_count": null,
   "id": "dying-beijing",
   "metadata": {},
   "outputs": [],
   "source": [
    "class ExponentialFitter(CloudFitter):\n",
    "    ### class for fitting an exponential distribution to a point cloud\n",
    "    # parameters\n",
    "    # - l: multidimensional lambda parameter of exponential\n",
    "    \n",
    "    def __init__(self, points):\n",
    "        ### constructor\n",
    "        # input arguments:\n",
    "        # - points: a np array of shape (npoints,ndims)\n",
    "        super( ExponentialFitter, self ).__init__(points)\n",
    "        # for now use mean for beta, maybe change later!\n",
    "        self.l = np.reciprocal(np.mean(points,axis=0))\n",
    "        \n",
    "    def pdf(self, points):\n",
    "        ### get pdf at points\n",
    "        super( ExponentialFitter, self ).pdf(points)\n",
    "        temp = np.repeat(np.transpose(np.expand_dims(self.l,axis=1)),len(points),axis=0)\n",
    "        temp = np.multiply(temp,points)\n",
    "        temp = np.sum(temp,axis=1)\n",
    "        return np.prod(self.l)*np.exp(-temp)"
   ]
  },
  {
   "cell_type": "code",
   "execution_count": null,
   "id": "seeing-crack",
   "metadata": {},
   "outputs": [],
   "source": [
    "save_notebook_as_script( 'ExponentialFitter.ipynb' )"
   ]
  }
 ],
 "metadata": {
  "kernelspec": {
   "display_name": "Python 3",
   "language": "python",
   "name": "python3"
  },
  "language_info": {
   "codemirror_mode": {
    "name": "ipython",
    "version": 3
   },
   "file_extension": ".py",
   "mimetype": "text/x-python",
   "name": "python",
   "nbconvert_exporter": "python",
   "pygments_lexer": "ipython3",
   "version": "3.8.6"
  }
 },
 "nbformat": 4,
 "nbformat_minor": 5
}
