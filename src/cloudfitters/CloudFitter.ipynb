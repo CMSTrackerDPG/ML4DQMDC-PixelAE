{
 "cells": [
  {
   "cell_type": "markdown",
   "id": "sitting-addition",
   "metadata": {},
   "source": [
    "**Abstract base class for all point cloud fitting algorithms** \n",
    "\n",
    "Note that all concrete point cloud fitters must inherit from CloudFitter!  \n",
    "\n",
    "How to make a concrete CloudFitter class:\n",
    "- define a class that inherits from CloudFitter\n",
    "- make sure all functions with @abstractmethod are implemented in your class\n",
    "- it is recommended to start each overriding function with a call to super(), but this is not strictly necessary\n",
    "\n",
    "See also the existing examples!"
   ]
  },
  {
   "cell_type": "code",
   "execution_count": null,
   "id": "extreme-nudist",
   "metadata": {},
   "outputs": [],
   "source": [
    "### imports\n",
    "\n",
    "# external modules\n",
    "import sys\n",
    "import numpy as np\n",
    "from abc import ABC,abstractmethod\n",
    "import importlib\n",
    "\n",
    "# local modules\n",
    "sys.path.append('../../utils')\n",
    "from notebook_utils.notebook_to_script import save_notebook_as_script"
   ]
  },
  {
   "cell_type": "code",
   "execution_count": null,
   "id": "recognized-integration",
   "metadata": {},
   "outputs": [],
   "source": [
    "class CloudFitter(ABC):\n",
    "    ### abstract base class for all point cloud fitting algorithms\n",
    "    # note that all concrete point cloud fitters must inherit from CloudFitter!\n",
    "    # how to make a concrete CloudFitter class:\n",
    "    # - define a class that inherits from CloudFitter\n",
    "    # - make sure all functions with @abstractmethod are implemented in your class\n",
    "    # - it is recommended to start each overriding function with a call to super(), but this is not strictly necessary\n",
    "    # see also the existing examples!\n",
    "    \n",
    "    @abstractmethod\n",
    "    def __init__( self, points ):\n",
    "        ### default intializer\n",
    "        # this is an @abstractmethod and must be overridden in any concrete deriving class!\n",
    "        # input arguments:\n",
    "        # - points: 2D numpy array of shape (npoints,ndims)\n",
    "        if not isinstance( points, np.ndarray ):\n",
    "            raise Exception('ERROR in CloudFitter.init: points must be a numpy array but found type {}'.format(type(points)))\n",
    "        if len(points.shape)!=2:\n",
    "             raise Exception('ERROR in CloudFitter.init: points must be a 2D numpy array but found shape {}'.format(points.shape))\n",
    "        (self.npoints,self.ndims) = points.shape\n",
    "        \n",
    "    @abstractmethod\n",
    "    def pdf( self, points ):\n",
    "        ### evaluate the pdf (probability density function) at given points\n",
    "        # this is an @abstractmethod and must be overridden in any concrete deriving class!\n",
    "        # input arguments:\n",
    "        # - points: a 2D numpy array of shape (npoints,ndims)\n",
    "        # output: a 1D array of shape (npoints)\n",
    "        if not isinstance( points, np.ndarray ):\n",
    "            raise Exception('ERROR in CloudFitter.pdf: points must be a numpy array but found type {}'.format(type(points)))\n",
    "        if len(points.shape)!=2:\n",
    "            raise Exception('ERROR in CloudFitter.pdf: points must be a 2D numpy array but found shape {}'.format(points.shape))\n",
    "        if points.shape[1]!=self.ndims:\n",
    "            raise Exception('ERROR in CloudFitter.pdf: points must have {} dimensions but found {}'.format(self.ndims,points.shape[1]))"
   ]
  },
  {
   "cell_type": "code",
   "execution_count": null,
   "id": "indoor-alignment",
   "metadata": {},
   "outputs": [],
   "source": [
    "save_notebook_as_script( 'CloudFitter.ipynb' )"
   ]
  }
 ],
 "metadata": {
  "kernelspec": {
   "display_name": "Python 3",
   "language": "python",
   "name": "python3"
  },
  "language_info": {
   "codemirror_mode": {
    "name": "ipython",
    "version": 3
   },
   "file_extension": ".py",
   "mimetype": "text/x-python",
   "name": "python",
   "nbconvert_exporter": "python",
   "pygments_lexer": "ipython3",
   "version": "3.9.6"
  }
 },
 "nbformat": 4,
 "nbformat_minor": 5
}
