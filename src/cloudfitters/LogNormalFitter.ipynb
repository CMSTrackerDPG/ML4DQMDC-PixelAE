{
 "cells": [
  {
   "cell_type": "markdown",
   "id": "equipped-cisco",
   "metadata": {},
   "source": [
    "**Class for fitting a log-normal distribution to a point cloud**\n",
    "\n",
    "A log-normal distribution is constructed by fitting a normal distribution to the logarithm of the point coordinates."
   ]
  },
  {
   "cell_type": "code",
   "execution_count": null,
   "id": "thrown-representative",
   "metadata": {},
   "outputs": [],
   "source": [
    "### imports\n",
    "\n",
    "# external modules\n",
    "import sys\n",
    "import numpy as np\n",
    "from scipy.stats import multivariate_normal\n",
    "import importlib\n",
    "\n",
    "# local modules\n",
    "from CloudFitter import CloudFitter\n",
    "sys.path.append('../../utils')\n",
    "from notebook_utils.notebook_to_script import save_notebook_as_script"
   ]
  },
  {
   "cell_type": "code",
   "execution_count": null,
   "id": "increased-ballet",
   "metadata": {},
   "outputs": [],
   "source": [
    "class LogNormalFitter(CloudFitter):\n",
    "    ### class for fitting a log-normal distribution to a point cloud\n",
    "    # parameters:\n",
    "    # - mean: multidim mean of underlying normal\n",
    "    # - cov: multidim covariance matrix of underlying normal\n",
    "    # - mvn: scipy.stats multivariate_normal object built from the mean and cov\n",
    "    \n",
    "    def __init__(self,points):\n",
    "        ### constructor\n",
    "        # input arguments:\n",
    "        # - points: a np array of shape (npoints,ndims)\n",
    "        super( LogNormalFitter, self ).__init__(points)\n",
    "        # transform the data from assumed log-normal to normal\n",
    "        points_log = np.log(points)\n",
    "        # fit a total multivariate normal distribution\n",
    "        self.mean = np.mean(points_log,axis=0)\n",
    "        self.cov = np.cov(points_log,rowvar=False)\n",
    "        self.mvn = multivariate_normal(self.mean,self.cov)\n",
    "        \n",
    "    def pdf(self,points):\n",
    "        ### get pdf at points\n",
    "        super( LogNormalFitter, self ).pdf(points)\n",
    "        return self.mvn.pdf(np.log(points))"
   ]
  },
  {
   "cell_type": "code",
   "execution_count": null,
   "id": "decimal-wells",
   "metadata": {},
   "outputs": [],
   "source": [
    "save_notebook_as_script( 'LogNormalFitter.ipynb' )"
   ]
  }
 ],
 "metadata": {
  "kernelspec": {
   "display_name": "Python 3",
   "language": "python",
   "name": "python3"
  },
  "language_info": {
   "codemirror_mode": {
    "name": "ipython",
    "version": 3
   },
   "file_extension": ".py",
   "mimetype": "text/x-python",
   "name": "python",
   "nbconvert_exporter": "python",
   "pygments_lexer": "ipython3",
   "version": "3.8.6"
  }
 },
 "nbformat": 4,
 "nbformat_minor": 5
}
