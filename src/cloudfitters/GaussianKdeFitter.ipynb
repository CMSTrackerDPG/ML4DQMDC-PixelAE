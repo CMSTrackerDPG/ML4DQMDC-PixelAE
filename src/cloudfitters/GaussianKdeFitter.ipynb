{
 "cells": [
  {
   "cell_type": "code",
   "execution_count": null,
   "id": "atlantic-endorsement",
   "metadata": {},
   "outputs": [],
   "source": [
    "### imports\n",
    "\n",
    "# external modules\n",
    "import sys\n",
    "import numpy as np\n",
    "from scipy.stats import gaussian_kde\n",
    "import importlib\n",
    "\n",
    "# local modules\n",
    "from CloudFitter import CloudFitter\n",
    "sys.path.append('../../utils')\n",
    "from notebook_utils.notebook_to_script import save_notebook_as_script"
   ]
  },
  {
   "cell_type": "code",
   "execution_count": null,
   "id": "grateful-detector",
   "metadata": {},
   "outputs": [],
   "source": [
    "class GaussianKdeFitter(CloudFitter):\n",
    "    ### class for fitting a gaussian kernel density to a point cloud\n",
    "    # basically a wrapper for scipy.stats.gaussian_kde.\n",
    "    # parameters\n",
    "    # - kernel: scipy.stats.gaussian_kde object\n",
    "    # - cov: covariance matrix \n",
    "    # (use np.cov for now, maybe later replace by internal kernel.covariance)\n",
    "    \n",
    "    def __init__(self,points,bw_method='scott'):\n",
    "        ### constructor\n",
    "        # input arguments:\n",
    "        # - points: a np array of shape (npoints,ndims)\n",
    "        # - bw_method: method to calculate the bandwidth of the gaussians,\n",
    "        #   see https://docs.scipy.org/doc/scipy/reference/generated/scipy.stats.gaussian_kde.html\n",
    "        super( GaussianKdeFitter, self ).__init__(points)\n",
    "        self.cov = np.cov(points,rowvar=False)\n",
    "        self.kernel = gaussian_kde(np.transpose(points),bw_method=bw_method)\n",
    "        \n",
    "    def pdf(self,points):\n",
    "        ### get pdf at points\n",
    "        super( GaussianKdeFitter, self ).pdf(points)\n",
    "        return self.kernel.pdf(np.transpose(points))"
   ]
  },
  {
   "cell_type": "code",
   "execution_count": null,
   "id": "commercial-sharp",
   "metadata": {},
   "outputs": [],
   "source": [
    "save_notebook_as_script( 'GaussianKdeFitter.ipynb' )"
   ]
  }
 ],
 "metadata": {
  "kernelspec": {
   "display_name": "Python 3",
   "language": "python",
   "name": "python3"
  },
  "language_info": {
   "codemirror_mode": {
    "name": "ipython",
    "version": 3
   },
   "file_extension": ".py",
   "mimetype": "text/x-python",
   "name": "python",
   "nbconvert_exporter": "python",
   "pygments_lexer": "ipython3",
   "version": "3.8.6"
  }
 },
 "nbformat": 4,
 "nbformat_minor": 5
}
