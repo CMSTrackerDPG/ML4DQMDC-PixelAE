{
 "cells": [
  {
   "cell_type": "markdown",
   "id": "official-discrimination",
   "metadata": {},
   "source": [
    "**Simple fitter making a hard cut in each dimension**\n",
    "\n"
   ]
  },
  {
   "cell_type": "code",
   "execution_count": null,
   "id": "regional-appointment",
   "metadata": {},
   "outputs": [],
   "source": [
    "### imports\n",
    "\n",
    "# external modules\n",
    "import sys\n",
    "import numpy as np\n",
    "import importlib\n",
    "\n",
    "# local modules\n",
    "from CloudFitter import CloudFitter\n",
    "sys.path.append('../../utils')\n",
    "from notebook_utils.notebook_to_script import save_notebook_as_script"
   ]
  },
  {
   "cell_type": "code",
   "execution_count": null,
   "id": "copyrighted-cinema",
   "metadata": {},
   "outputs": [],
   "source": [
    "def calculate_cut_values( values, quantile, side='both' ):\n",
    "    ### calculate the appropriate cut values to discard a given quantile of values\n",
    "    # input arguments:\n",
    "    # - values: a 1D numpy array\n",
    "    # - quantile: quantile of values to discard, a float between 0 and 1\n",
    "    #   (or between 0 and 0.5 for side='both')\n",
    "    # - side: either 'both', 'down' or 'up'\n",
    "    #   for 'up', the cut will discard the quantile highest values,\n",
    "    #   for 'down', cut will discard the quantile lowest values,\n",
    "    #   for 'both', the cut(s) will discard the quantile values both at the high and low end.\n",
    "    # returns:\n",
    "    # - a tuple of shape (lower cut, upper cut), with None entries if not applicable\n",
    "    ucut = None\n",
    "    dcut = None\n",
    "    if( side=='up' or side=='both' ):\n",
    "        ucut = np.quantile( values, 1-quantile )\n",
    "    if( side=='down' or side=='both' ):\n",
    "        dcut = np.quantile( values, quantile )\n",
    "    return (dcut,ucut)\n",
    "        \n",
    "class HyperRectangleFitter(CloudFitter):\n",
    "    ### Simple fitter making a hard cut in each dimension\n",
    "    # \n",
    "    \n",
    "    def __init__(self, points, quantiles=0, side='both', verbose=False ):\n",
    "        ### constructor\n",
    "        # input arguments:\n",
    "        # - points: a np array of shape (npoints,ndims)\n",
    "        # - quantiles: quantiles of values to discard.\n",
    "        #   can either be a float between 0 and 1 (applied in all dimensions),\n",
    "        #   or a list of such floats with same length as number of dimensions in points.\n",
    "        #   (note: for side='both', quantiles above 0.5 will discard everything)\n",
    "        # - side: either 'both', 'down' or 'up'\n",
    "        #   for 'up', the cut will discard the quantile highest values,\n",
    "        #   for 'down', cut will discard the quantile lowest values,\n",
    "        #   for 'both', the cut(s) will discard the quantile values both at the high and low end.\n",
    "        super( HyperRectangleFitter, self ).__init__(points)\n",
    "        # parse arguments\n",
    "        sideoptions = ['both','up','down']\n",
    "        if not side in sideoptions:\n",
    "            raise Exception('ERROR in HyperRectanlgeFitter.__init__:'\n",
    "                           +' keyword argument \"side\" is {}'.format(side)\n",
    "                           +' while the allowed options are {}'.format(sideoptions))\n",
    "        if isinstance(quantiles,float):\n",
    "            quantiles = [quantiles]*self.ndims\n",
    "        if len(quantiles)!=self.ndims:\n",
    "            raise Exception('ERROR in HyperRectangleFitter.__init__:'\n",
    "                           +' quantiles must have same length as number of dimensions,'\n",
    "                           +' found {} and {} respectively'.format(len(quantiles),ndims))\n",
    "        self.cuts = []\n",
    "        for dim in range(self.ndims): \n",
    "            self.cuts.append( calculate_cut_values(points[:,dim], quantiles[dim], side=side) )\n",
    "        if verbose:\n",
    "            print('Constructed a HyperRectangleFitter with following cut values:')\n",
    "            for dim in range(self.ndims): print('dimension {}: {}'.format(dim,self.cuts[dim]))\n",
    "        \n",
    "    def apply_cuts(self, point):\n",
    "        ### apply the cuts to a point and return whether it passes them\n",
    "        # input arguments:\n",
    "        # - point: a 1D numpy array of shape (ndims,)\n",
    "        # returns:\n",
    "        # - boolean\n",
    "        for cut,value in zip(self.cuts,point):\n",
    "            if( cut[0] is not None and value<cut[0] ): return False\n",
    "            if( cut[1] is not None and value>cut[1] ): return False\n",
    "        return True\n",
    "        \n",
    "    def pdf(self, points):\n",
    "        ### get pdf at points\n",
    "        # note that the pdf is either 0 (does not pass cuts) or 1 (passes cuts)\n",
    "        super( HyperRectangleFitter, self ).pdf(points)\n",
    "        pdf = np.zeros(len(points))\n",
    "        for i,point in enumerate(points):\n",
    "            pdf[i] = self.apply_cuts( point )\n",
    "        return pdf"
   ]
  },
  {
   "cell_type": "code",
   "execution_count": null,
   "id": "induced-armor",
   "metadata": {},
   "outputs": [],
   "source": [
    "save_notebook_as_script( 'HyperRectangleFitter.ipynb' )"
   ]
  },
  {
   "cell_type": "code",
   "execution_count": null,
   "id": "successful-point",
   "metadata": {},
   "outputs": [],
   "source": []
  }
 ],
 "metadata": {
  "kernelspec": {
   "display_name": "Python 3",
   "language": "python",
   "name": "python3"
  },
  "language_info": {
   "codemirror_mode": {
    "name": "ipython",
    "version": 3
   },
   "file_extension": ".py",
   "mimetype": "text/x-python",
   "name": "python",
   "nbconvert_exporter": "python",
   "pygments_lexer": "ipython3",
   "version": "3.9.6"
  }
 },
 "nbformat": 4,
 "nbformat_minor": 5
}
