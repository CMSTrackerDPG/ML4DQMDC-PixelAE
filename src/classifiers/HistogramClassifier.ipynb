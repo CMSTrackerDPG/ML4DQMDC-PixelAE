{
 "cells": [
  {
   "cell_type": "code",
   "execution_count": null,
   "id": "right-commitment",
   "metadata": {},
   "outputs": [],
   "source": [
    "### imports\n",
    "\n",
    "# external modules\n",
    "import sys\n",
    "import numpy as np\n",
    "from abc import ABC,abstractmethod\n",
    "import importlib\n",
    "\n",
    "# local modules\n",
    "sys.path.append('../../utils')\n",
    "from notebook_utils.notebook_to_script import save_notebook_as_script"
   ]
  },
  {
   "cell_type": "code",
   "execution_count": null,
   "id": "vietnamese-chorus",
   "metadata": {},
   "outputs": [],
   "source": [
    "class HistogramClassifier(ABC):\n",
    "    ### abstract base class for histogram classifying objects\n",
    "    # note that all concrete histogram classifiers must inherit from HistogramClassifier!\n",
    "    # a HistogramClassifier can be any object that classifies a histogram; in more detail:\n",
    "    # - the input is a collection of histograms (of the same type), represented by a numpy array of shape (nhists,nbins).\n",
    "    # - the output is an array of numbers of shape (nhists).\n",
    "    # - the processing between input and output can in principle be anything, but usually some sort of discriminating power is assumed.\n",
    "    # how to make a concrete HistogramClassifier class:\n",
    "    # - define a class that inherits from HistogramClassifier\n",
    "    # - make sure all functions with @abstractmethod are implemented in your class\n",
    "    # - it is recommended to start each overriding function with a call to super(), but this is not strictly necessary\n",
    "    # see also the existing examples!\n",
    "    \n",
    "    @abstractmethod\n",
    "    def __init__( self ):\n",
    "        ### empty intializer\n",
    "        pass\n",
    "    \n",
    "    @abstractmethod\n",
    "    def evaluate( self, histograms ):\n",
    "        ### main function used to process a set of histograms\n",
    "        # input arguments:\n",
    "        # - histograms: 2D numpy array of shape (nhists,nbins).\n",
    "        # output: 1D numpy array of shape (nhists), one number per histogram.\n",
    "        \n",
    "        # check input args\n",
    "        if not isinstance( histograms, np.ndarray ):\n",
    "            raise Exception('ERROR in HistogramClassifier.evaluate: input is of type {}'.format(type(histograms))\n",
    "                           +' while a numpy array is expected.')\n",
    "        if( len(histograms.shape)!=2 ):\n",
    "            raise Exception('ERROR in HistogramClassifier.evaluate: input array has shape {}'.format(histograms.shape)\n",
    "                            +' while a 2D array is expected.')"
   ]
  },
  {
   "cell_type": "code",
   "execution_count": null,
   "id": "round-print",
   "metadata": {},
   "outputs": [],
   "source": [
    "save_notebook_as_script( 'HistogramClassifier.ipynb' )"
   ]
  }
 ],
 "metadata": {
  "kernelspec": {
   "display_name": "Python 3",
   "language": "python",
   "name": "python3"
  },
  "language_info": {
   "codemirror_mode": {
    "name": "ipython",
    "version": 3
   },
   "file_extension": ".py",
   "mimetype": "text/x-python",
   "name": "python",
   "nbconvert_exporter": "python",
   "pygments_lexer": "ipython3",
   "version": "3.8.6"
  }
 },
 "nbformat": 4,
 "nbformat_minor": 5
}
