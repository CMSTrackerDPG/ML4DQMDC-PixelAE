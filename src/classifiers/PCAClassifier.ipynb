{
 "cells": [
  {
   "cell_type": "markdown",
   "id": "f42d4514",
   "metadata": {},
   "source": [
    "**Histogram classification based on principal component analysis**\n",
    " \n",
    "It is basically a wrapper for a sklearn.decomposition.PCA instance."
   ]
  },
  {
   "cell_type": "code",
   "execution_count": null,
   "id": "a8ee0cba",
   "metadata": {},
   "outputs": [],
   "source": [
    "### imports\n",
    "\n",
    "# external modules\n",
    "import sys\n",
    "import numpy as np\n",
    "from sklearn.decomposition import PCA\n",
    "\n",
    "# local modules\n",
    "from HistogramClassifier import HistogramClassifier\n",
    "sys.path.append('../../utils')\n",
    "from autoencoder_utils import mseTopNRaw, chiSquaredTopNRaw\n",
    "from notebook_utils.notebook_to_script import save_notebook_as_script"
   ]
  },
  {
   "cell_type": "code",
   "execution_count": null,
   "id": "f25e527b",
   "metadata": {},
   "outputs": [],
   "source": [
    "class PCAClassifier(HistogramClassifier):\n",
    "    ### histogram classification based on principal component analysis\n",
    "    # it is basically a wrapper for a sklearn.decomposition.PCA instance.\n",
    "    \n",
    "    def __init__( self, ncomponents=None, svd_solver='auto', loss_type='mse', nmax=10 ):\n",
    "        ### initializer\n",
    "        # input arguments:\n",
    "        # - ncomponents: number of PCA components (aka clusters aka basis vectors) to use in the decomposition\n",
    "        # - svd_solver: solver method to extract the PCA components\n",
    "        #   note: both ncomponents and svd_solver are arguments passed down to sklearn.decomposition.PCA,\n",
    "        #         see https://scikit-learn.org/stable/modules/generated/sklearn.decomposition.PCA.html\n",
    "        # - loss_type: choose from 'mse' (mean-squared-error) or 'chi2' (chi squared error)\n",
    "        # - nmax: number of largest elements to keep in error calculation\n",
    "        # TODO: add keyword arguments to pass down to sklearn.decomposition.PCA\n",
    "        super( PCAClassifier,self ).__init__()\n",
    "        self.PCA = PCA( n_components=ncomponents, svd_solver=svd_solver )\n",
    "        self.loss_type = loss_type\n",
    "        self.nmax = nmax\n",
    "        \n",
    "    def train( self, histograms ):\n",
    "        ### train the PCA model on a given set of input histograms\n",
    "        # input arguments:\n",
    "        # - histograms: a numpy array of shape (nhists,nbins) or (nhists,nybins,nxbins) that will be used to fit a PCA model\n",
    "        super( PCAClassifier,self ).train( histograms )\n",
    "        self.shape = list(histograms.shape)[1:]\n",
    "        if len(histograms.shape)==3:\n",
    "            histograms = histograms.reshape(histograms.shape[0],-1)\n",
    "        self.PCA.fit( histograms )\n",
    "        \n",
    "    def set_nmax( self, nmax ):\n",
    "        ### set number of largest elements to keep in mean square error calculation\n",
    "        # useful to quickly re-evaluate the model with different nmax without retraining\n",
    "        # input arguments:\n",
    "        # - nmax: number of largest elements to keep in mean square error calculation\n",
    "        self.nmax = nmax\n",
    "        \n",
    "    def set_loss_type( self, loss_type ):\n",
    "        ### set loss type\n",
    "        # useful to quickly re-evaluate the model with different loss without retraining\n",
    "        # input arguments:\n",
    "        # - loss_type: choose from 'mse' (mean-squared-error) or 'chi2' (chi squared error)\n",
    "        self.loss_type = loss_type\n",
    "        \n",
    "    def evaluate( self, histograms ):\n",
    "        ### classify the given histograms based on the MSE with respect to their reconstructed version\n",
    "        # input arguments:\n",
    "        # - histograms: numpy array of shape (nhists,nbins) or (nhists,nybins,nxbins)\n",
    "        \n",
    "        super( PCAClassifier,self ).evaluate( histograms )\n",
    "        if len(histograms.shape)==3:\n",
    "            histograms = histograms.reshape(histograms.shape[0],-1)\n",
    "        reco = self.PCA.inverse_transform(self.PCA.transform(histograms))\n",
    "        if self.loss_type=='mse': return mseTopNRaw( histograms, reco, n=self.nmax )\n",
    "        elif self.loss_type=='chi2': return chiSquaredTopNRaw( histograms, reco, n=self.nmax )\n",
    "        else: raise Exception('ERROR in PCAClassifier.evaluate: loss_type {} not recognized'.format(self.loss_type))\n",
    "    \n",
    "    def get_components( self ):\n",
    "        ### return the PCA components (aka cluster centers aka basis vectors)\n",
    "        # output:\n",
    "        # a numpy array of shape (ncomponents,nbins) or (ncomponents,nybins,nxbins)\n",
    "        if len(self.shape)==1: return self.PCA.components_\n",
    "        if len(self.shape)==2: return self.PCA.components_.reshape(self.PCA.n_components_,self.shape[0],self.shape[1])\n",
    "        \n",
    "    def reconstruct( self, histograms ):\n",
    "        ### return the PCA reconstruction for a given set of histograms\n",
    "        # input arguments:\n",
    "        # - histograms: numpy array of shape (nhists,nbins) or (nhists,nybins,nxbins)\n",
    "        if len(histograms.shape)==3:\n",
    "            histograms = histograms.reshape(histograms.shape[0],-1)\n",
    "        reco = self.PCA.inverse_transform(self.PCA.transform(histograms))\n",
    "        if len(self.shape)==2: reco = reco.reshape(len(histograms),self.shape[0],self.shape[1])\n",
    "        return reco"
   ]
  },
  {
   "cell_type": "code",
   "execution_count": null,
   "id": "9029651a",
   "metadata": {},
   "outputs": [],
   "source": [
    "save_notebook_as_script( 'PCAClassifier.ipynb' )"
   ]
  }
 ],
 "metadata": {
  "kernelspec": {
   "display_name": "Python 3",
   "language": "python",
   "name": "python3"
  },
  "language_info": {
   "codemirror_mode": {
    "name": "ipython",
    "version": 3
   },
   "file_extension": ".py",
   "mimetype": "text/x-python",
   "name": "python",
   "nbconvert_exporter": "python",
   "pygments_lexer": "ipython3",
   "version": "3.8.6"
  }
 },
 "nbformat": 4,
 "nbformat_minor": 5
}
