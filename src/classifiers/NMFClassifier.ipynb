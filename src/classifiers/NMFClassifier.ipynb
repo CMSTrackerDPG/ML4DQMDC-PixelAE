{
 "cells": [
  {
   "cell_type": "code",
   "execution_count": null,
   "id": "mechanical-matthew",
   "metadata": {},
   "outputs": [],
   "source": [
    "### imports\n",
    "\n",
    "# external modules\n",
    "import sys\n",
    "import numpy as np\n",
    "from sklearn.decomposition import NMF\n",
    "\n",
    "# local modules\n",
    "from HistogramClassifier import HistogramClassifier\n",
    "sys.path.append('../../utils')\n",
    "from autoencoder_utils import mseTopNRaw\n",
    "from notebook_utils.notebook_to_script import save_notebook_as_script"
   ]
  },
  {
   "cell_type": "code",
   "execution_count": null,
   "id": "front-masters",
   "metadata": {},
   "outputs": [],
   "source": [
    "class NMFClassifier(HistogramClassifier):\n",
    "    ### histogram classification based on nonnegative matrix factorization\n",
    "    # specifically intended for 2D histograms, but should in principle work for 1D as well.\n",
    "    # it is basically a wrapper for a sklearn.decomposition.NMF instance.\n",
    "    \n",
    "    def __init__( self, histograms, ncomponents ):\n",
    "        ### initializer from a collection of histograms\n",
    "        # input arguments:\n",
    "        # - histograms: a numpy array of shape (nhists,nbins) or (nhists,nybins,nxbins) that will be used to fit a NMF model\n",
    "        # - ncomponents: number of NMF components (aka clusters aka basis vectors) to use in the decomposition\n",
    "        # TODO: add keyword arguments to pass down to sklearn.decomposition.NMF\n",
    "        \n",
    "        super( NMFClassifier,self ).__init__()\n",
    "        self.shape = list(histograms.shape)[1:]\n",
    "        if len(histograms.shape)==3:\n",
    "            histograms = histograms.reshape(histograms.shape[0],-1)\n",
    "        self.NMF = NMF( n_components=ncomponents )\n",
    "        self.NMF.fit( histograms )\n",
    "        \n",
    "    def evaluate( self, histograms, nmax ):\n",
    "        ### classify the given histograms based on the MSE with respect to their reconstructed version\n",
    "        # input arguments:\n",
    "        # - histograms: numpy array of shape (nhists,nbins) or (nhists,nybins,nxbins)\n",
    "        # - nmax: number of largest elements to keep in mean square error calculation\n",
    "        \n",
    "        super( NMFClassifier,self ).__init__()\n",
    "        if len(histograms.shape)==3:\n",
    "            histograms = histograms.reshape(histograms.shape[0],-1)\n",
    "        reco = self.NMF.inverse_transform(self.NMF.transform(histograms))\n",
    "        return mseTopNRaw( histograms, reco, n=nmax )\n",
    "    \n",
    "    def getcomponents( self ):\n",
    "        ### return the NMF components (aka cluster centers aka basis vectors)\n",
    "        # output:\n",
    "        # a numpy array of shape (ncomponents,nbins) or (ncomponents,nybins,nxbins)\n",
    "        if len(self.shape)==1: return self.NMF.components_\n",
    "        if len(self.shape)==2: return self.NMF.components_.reshape(self.NMF.n_components_,self.shape[0],self.shape[1])\n",
    "        \n",
    "    def reconstruct( self, histograms ):\n",
    "        ### return the NMF reconstruction for a given set of histograms\n",
    "        # input arguments:\n",
    "        # - histograms: numpy array of shape (nhists,nbins) or (nhists,nybins,nxbins)\n",
    "        if len(histograms.shape)==3:\n",
    "            histograms = histograms.reshape(histograms.shape[0],-1)\n",
    "        reco = self.NMF.inverse_transform(self.NMF.transform(histograms))\n",
    "        if len(self.shape)==2: reco = reco.reshape(len(histograms),self.shape[0],self.shape[1])\n",
    "        return reco"
   ]
  },
  {
   "cell_type": "code",
   "execution_count": null,
   "id": "assisted-threat",
   "metadata": {},
   "outputs": [],
   "source": [
    "save_notebook_as_script( 'NMFClassifier.ipynb' )"
   ]
  }
 ],
 "metadata": {
  "kernelspec": {
   "display_name": "Python 3",
   "language": "python",
   "name": "python3"
  },
  "language_info": {
   "codemirror_mode": {
    "name": "ipython",
    "version": 3
   },
   "file_extension": ".py",
   "mimetype": "text/x-python",
   "name": "python",
   "nbconvert_exporter": "python",
   "pygments_lexer": "ipython3",
   "version": "3.8.6"
  }
 },
 "nbformat": 4,
 "nbformat_minor": 5
}
