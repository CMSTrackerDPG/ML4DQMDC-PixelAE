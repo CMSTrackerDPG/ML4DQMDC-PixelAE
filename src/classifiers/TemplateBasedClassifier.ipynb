{
 "cells": [
  {
   "cell_type": "markdown",
   "id": "backed-burst",
   "metadata": {},
   "source": [
    "**Histogram classifier based on a direct comparison with templates (i.e. reference histograms)**"
   ]
  },
  {
   "cell_type": "code",
   "execution_count": null,
   "id": "stable-solid",
   "metadata": {},
   "outputs": [],
   "source": [
    "### imports\n",
    "\n",
    "# external modules\n",
    "import sys\n",
    "import numpy as np\n",
    "import tensorflow\n",
    "import importlib\n",
    "\n",
    "# local modules\n",
    "from HistogramClassifier import HistogramClassifier\n",
    "sys.path.append('../../utils')\n",
    "from notebook_utils.notebook_to_script import save_notebook_as_script"
   ]
  },
  {
   "cell_type": "code",
   "execution_count": null,
   "id": "loaded-sixth",
   "metadata": {},
   "outputs": [],
   "source": [
    "def mseTopN_templates( histograms, templates, n=-1 ):\n",
    "    ### calculate the mse between each histogram in histograms and each histogram in templates\n",
    "    # input arguments:\n",
    "    # - histograms: 2D numpy array of shape (nhistograms, nbins)\n",
    "    # - templates: 2D numpy array of shape (ntemplates,nbins)\n",
    "    # - n: integer representing the number of (sorted) bin squared errors to take into account (default: all)\n",
    "    # output:\n",
    "    # 2D numpy array of shape (nhistograms,ntemplates) holding the mseTopN between each\n",
    "    \n",
    "    nhistograms,nbins = histograms.shape\n",
    "    ntemplates,_ = templates.shape\n",
    "    res = np.zeros( (nhistograms,ntemplates) )\n",
    "    for i in range(ntemplates):\n",
    "        temp = np.tile( templates[i,:], (nhistograms,1) )\n",
    "        sqdiff = np.power(histograms-temp,2)\n",
    "        sqdiff[:,::-1].sort()\n",
    "        if n>0: sqdiff = sqdiff[:,:n]\n",
    "        mean = np.mean(sqdiff,axis=-1)\n",
    "        res[:,i] = mean\n",
    "    return res\n",
    "\n",
    "def mseTopN_min( histograms, templates, n=-1 ):\n",
    "    ### calculate the mse betwee a histogram and each template and return the minimum\n",
    "    # input arguments:\n",
    "    # - histograms: 2D numpy array of shape (nhistograms, nbins)\n",
    "    # - templates: 2D numpy array of shape (ntemplates,nbins)\n",
    "    # - n: integer representing the number of (sorted) bin squared errors to take into account (default: all)\n",
    "    # output:\n",
    "    # 1D numpy array of shape (nhistograms) holding the minimum mseTopN for each histogram\n",
    "    \n",
    "    allmses = mseTopN_templates( histograms, templates, n=n )\n",
    "    return np.amin( allmses, axis=-1 )\n",
    "\n",
    "def mseTop10_min( histograms, templates ):\n",
    "    ### special case of above with n=10\n",
    "    return mseTopN_min( histograms,templates,n=10)\n",
    "\n",
    "def mseTopN_avg( histograms, templates, n=-1 ):\n",
    "    ### calculate the mse betwee a histogram and each template and return the average\n",
    "    # input arguments:\n",
    "    # - histograms: 2D numpy array of shape (nhistograms, nbins)\n",
    "    # - templates: 2D numpy array of shape (ntemplates,nbins)\n",
    "    # - n: integer representing the number of (sorted) bin squared errors to take into account (default: all)\n",
    "    # output:\n",
    "    # 1D numpy array of shape (nhistograms) holding the average mseTopN for each histogram\n",
    "    \n",
    "    allmses = mseTopN_templates( histograms, templates, n=n )\n",
    "    return np.mean( allmses, axis=-1 )\n",
    "\n",
    "def mseTop10_avg( histograms, templates ):\n",
    "    ### special case of above with n=10\n",
    "    return mseTopN_avg( histograms,templates,n=10)"
   ]
  },
  {
   "cell_type": "code",
   "execution_count": null,
   "id": "restricted-greensboro",
   "metadata": {},
   "outputs": [],
   "source": [
    "class TemplateBasedClassifier(HistogramClassifier):\n",
    "    ### histogram classifier based on a direct comparison with templates (i.e. reference histograms)\n",
    "    \n",
    "    def __init__( self, comparemethod='minmse' ):\n",
    "        ### initializer\n",
    "        # input arguments:\n",
    "        # - comparemethod: string representing the method by which to compare a histogram with a set of templates\n",
    "        #   currently supported methods are:\n",
    "        #   - minmse: minimum mean square error between histogram and all templates\n",
    "        #   - avgmse: average mean square error between histogram and all templates\n",
    "        \n",
    "        self.methods = ({'minmse':mseTopN_min,\n",
    "                         'minmsetop10': mseTop10_min,\n",
    "                         'avgmse':mseTopN_avg,\n",
    "                         'avgmsetop10': mseTop10_avg })\n",
    "        if not comparemethod in self.methods.keys():\n",
    "            raise Exception('ERROR in TemplateBasedClassifier.__init__: comparemethod not recognized: {}'.format(comparemethod))\n",
    "        self.comparemethod = comparemethod\n",
    "        \n",
    "    def train( self, templates ):\n",
    "        ### 'train' the classifier, i.e. set the templates (reference histograms)\n",
    "        # input arguments:\n",
    "        # - templates: a 2D numpy array of shape (nhistograms,nbins)\n",
    "        super(TemplateBasedClassifier,self).evaluate( histograms )\n",
    "        self.templates = templates\n",
    "        \n",
    "    def evaluate( self, histograms ):\n",
    "        ### classification of a collection of histograms based on their deviation from templates\n",
    "        super(TemplateBasedClassifier,self).evaluate( histograms )\n",
    "        return self.methods[self.comparemethod]( histograms, self.templates )"
   ]
  },
  {
   "cell_type": "code",
   "execution_count": null,
   "id": "greatest-change",
   "metadata": {},
   "outputs": [],
   "source": [
    "save_notebook_as_script( 'TemplateBasedClassifier.ipynb' )"
   ]
  },
  {
   "cell_type": "code",
   "execution_count": null,
   "id": "collective-giving",
   "metadata": {},
   "outputs": [],
   "source": []
  }
 ],
 "metadata": {
  "kernelspec": {
   "display_name": "Python 3",
   "language": "python",
   "name": "python3"
  },
  "language_info": {
   "codemirror_mode": {
    "name": "ipython",
    "version": 3
   },
   "file_extension": ".py",
   "mimetype": "text/x-python",
   "name": "python",
   "nbconvert_exporter": "python",
   "pygments_lexer": "ipython3",
   "version": "3.8.6"
  }
 },
 "nbformat": 4,
 "nbformat_minor": 5
}
