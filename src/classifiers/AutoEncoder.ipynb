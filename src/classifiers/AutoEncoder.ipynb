{
 "cells": [
  {
   "cell_type": "markdown",
   "id": "fifth-roulette",
   "metadata": {},
   "source": [
    "**Histogram classfier based on the MSE of an autoencoder reconstruction**\n",
    "\n",
    "The AutoEncoder derives from the generic HistogramClassifier.  \n",
    "For this specific classifier, the output score of a histogram is the mean-square-error (MSE) between the original histogram and its autoencoder reconstruction.  \n",
    "In essence, it is just a wrapper for a tensorflow model.  "
   ]
  },
  {
   "cell_type": "code",
   "execution_count": 1,
   "id": "interesting-computer",
   "metadata": {},
   "outputs": [
    {
     "name": "stderr",
     "output_type": "stream",
     "text": [
      "2021-10-28 17:08:30.725892: W tensorflow/stream_executor/platform/default/dso_loader.cc:64] Could not load dynamic library 'libcudart.so.11.0'; dlerror: libcudart.so.11.0: cannot open shared object file: No such file or directory; LD_LIBRARY_PATH: /cvmfs/sft.cern.ch/lcg/releases/MCGenerators/thepeg/2.2.1-8d929/x86_64-centos7-gcc8-opt/lib/ThePEG:/cvmfs/sft.cern.ch/lcg/releases/MCGenerators/herwig++/7.2.1-f3599/x86_64-centos7-gcc8-opt/lib/Herwig:/cvmfs/sft.cern.ch/lcg/views/LCG_101swan/x86_64-centos7-gcc8-opt/lib/python3.9/site-packages/torch/lib:/cvmfs/sft.cern.ch/lcg/views/LCG_101swan/x86_64-centos7-gcc8-opt/lib/python3.9/site-packages/tensorflow:/cvmfs/sft.cern.ch/lcg/views/LCG_101swan/x86_64-centos7-gcc8-opt/lib/python3.9/site-packages/tensorflow/contrib/tensor_forest:/cvmfs/sft.cern.ch/lcg/views/LCG_101swan/x86_64-centos7-gcc8-opt/lib/python3.9/site-packages/tensorflow/python/framework:/cvmfs/sft.cern.ch/lcg/releases/java/8u222-884d8/x86_64-centos7-gcc8-opt/jre/lib/amd64:/cvmfs/sft.cern.ch/lcg/views/LCG_101swan/x86_64-centos7-gcc8-opt/lib64:/cvmfs/sft.cern.ch/lcg/views/LCG_101swan/x86_64-centos7-gcc8-opt/lib:/cvmfs/sft.cern.ch/lcg/releases/gcc/8.3.0-cebb0/x86_64-centos7/lib:/cvmfs/sft.cern.ch/lcg/releases/gcc/8.3.0-cebb0/x86_64-centos7/lib64:/cvmfs/sft.cern.ch/lcg/releases/binutils/2.30-e5b21/x86_64-centos7/lib:/usr/local/lib/:/cvmfs/sft.cern.ch/lcg/releases/R/3.6.3-dfb24/x86_64-centos7-gcc8-opt/lib64/R/library/readr/rcon\n",
      "2021-10-28 17:08:30.725940: I tensorflow/stream_executor/cuda/cudart_stub.cc:29] Ignore above cudart dlerror if you do not have a GPU set up on your machine.\n"
     ]
    }
   ],
   "source": [
    "### imports\n",
    "\n",
    "# external modules\n",
    "import os\n",
    "import sys\n",
    "import numpy as np\n",
    "import tensorflow\n",
    "from tensorflow.keras.models import load_model\n",
    "import importlib\n",
    "\n",
    "# local modules\n",
    "from HistogramClassifier import HistogramClassifier\n",
    "sys.path.append('../../utils')\n",
    "from autoencoder_utils import mseTop10Raw, mseTop10\n",
    "import plot_utils\n",
    "from notebook_utils.notebook_to_script import save_notebook_as_script"
   ]
  },
  {
   "cell_type": "code",
   "execution_count": 2,
   "id": "color-promotion",
   "metadata": {},
   "outputs": [],
   "source": [
    "class AutoEncoder(HistogramClassifier):\n",
    "    ### histogram classfier based on the MSE of an autoencoder reconstruction\n",
    "    # the AutoEncoder derives from the generic HistogramClassifier. \n",
    "    # for this specific classifier, the output score of a histogram is the mean-square-error (MSE) \n",
    "    # between the original histogram and its autoencoder reconstruction.\n",
    "    # in essence, it is just a wrapper for a tensorflow model.\n",
    "    \n",
    "    def __init__( self, model=None ):\n",
    "        ### intializer from a tensorflow model\n",
    "        # the model is assumed to be a valid tensorflow model;\n",
    "        # it can be already trained before wrapping it in an AutoEncoder object,\n",
    "        # but if this is not the case, the AutoEncoder.train function can be called afterwards.\n",
    "        super( AutoEncoder,self ).__init__()\n",
    "        if model is None:\n",
    "            raise NotYetImplementedError('ERROR in AutoEncoder.__init__: init must take a fully trained and ready tensorflow model as input (for now)')\n",
    "        if not isinstance( model, tensorflow.keras.Model ):\n",
    "            raise Exception('ERROR in AutoEncoder.init: model has type {}'.format(type(model))\n",
    "                           +' while a tensorflow model is expected')\n",
    "        self.model = model\n",
    "        \n",
    "    def train( self, histograms, doplot=True, epochs=10, batch_size=500, shuffle=False, verbose=1, validation_split=0.1, **kwargs ):\n",
    "        ### train the model on a given set of input histograms\n",
    "        # input arguments:\n",
    "        # - histograms: set of training histograms, a numpy array of shape (nhistograms,nbins)\n",
    "        # - doplot: boolean whether to make a plot of the loss value\n",
    "        # - others: see the keras fit function\n",
    "        # - kwargs: additional arguments passed down to keras fit function\n",
    "        super( AutoEncoder,self ).train( histograms )\n",
    "        history = self.model.fit(histograms, histograms, epochs=epochs, \n",
    "                                 batch_size=batch_size, shuffle=shuffle, \n",
    "                                 verbose=verbose, validation_split=validation_split, \n",
    "                                 **kwargs)\n",
    "        if doplot: plot_utils.plot_loss(history)\n",
    "        \n",
    "    def evaluate( self, histograms ):\n",
    "        ### classification of a collection of histograms based on their autoencoder reconstruction\n",
    "        super( AutoEncoder,self ).evaluate( histograms )\n",
    "        predictions = self.model.predict( histograms )\n",
    "        return mseTop10Raw( histograms, predictions )\n",
    "    \n",
    "    def reconstruct( self, histograms ):\n",
    "        ### return the autoencoder reconstruction of a set of histograms\n",
    "        return self.model.predict( histograms )\n",
    "    \n",
    "    def save( self, path ):\n",
    "        ### save the underlying tensorflow model to a tensorflow SavedModel or H5 format.\n",
    "        # note: depending on the extension specified in path, the SavedModel or H5 format is chosen,\n",
    "        #       see https://www.tensorflow.org/guide/keras/save_and_serialize\n",
    "        super( AutoEncoder,self ).save( path )\n",
    "        self.model.save( path )\n",
    "        \n",
    "    @classmethod\n",
    "    def load( self, path, **kwargs ):\n",
    "        ### get an AutoEncoder instance from a saved tensorflow SavedModel or H5 file\n",
    "        super( AutoEncoder,self ).load( path )\n",
    "        model = load_model(path, custom_objects={'mseTop10':mseTop10}, **kwargs)\n",
    "        # to do: check if the above also works if mseTop10 is not in the model\n",
    "        # to do: check if it is possible to add all custom objects without using the kwargs\n",
    "        classifier = AutoEncoder( model=model )\n",
    "        return classifier"
   ]
  },
  {
   "cell_type": "code",
   "execution_count": 3,
   "id": "median-elephant",
   "metadata": {},
   "outputs": [
    {
     "name": "stderr",
     "output_type": "stream",
     "text": [
      "[NbConvertApp] Converting notebook AutoEncoder.ipynb to script\n",
      "[NbConvertApp] Writing 4396 bytes to AutoEncoder.py\n"
     ]
    }
   ],
   "source": [
    "save_notebook_as_script( 'AutoEncoder.ipynb' )"
   ]
  }
 ],
 "metadata": {
  "kernelspec": {
   "display_name": "Python 3",
   "language": "python",
   "name": "python3"
  },
  "language_info": {
   "codemirror_mode": {
    "name": "ipython",
    "version": 3
   },
   "file_extension": ".py",
   "mimetype": "text/x-python",
   "name": "python",
   "nbconvert_exporter": "python",
   "pygments_lexer": "ipython3",
   "version": "3.9.6"
  }
 },
 "nbformat": 4,
 "nbformat_minor": 5
}
