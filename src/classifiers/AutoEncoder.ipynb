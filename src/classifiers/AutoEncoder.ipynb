{
 "cells": [
  {
   "cell_type": "code",
   "execution_count": 4,
   "id": "swedish-municipality",
   "metadata": {},
   "outputs": [],
   "source": [
    "### imports\n",
    "\n",
    "# external modules\n",
    "import sys\n",
    "import numpy as np\n",
    "import tensorflow\n",
    "import importlib\n",
    "\n",
    "# local modules\n",
    "from HistogramClassifier import HistogramClassifier\n",
    "sys.path.append('../../utils')\n",
    "from autoencoder_utils import mseTop10Raw\n",
    "from notebook_utils.notebook_to_script import save_notebook_as_script"
   ]
  },
  {
   "cell_type": "code",
   "execution_count": 5,
   "id": "sunset-yorkshire",
   "metadata": {},
   "outputs": [],
   "source": [
    "class AutoEncoder(HistogramClassifier):\n",
    "    ### histogram classfier based on the MSE of an autoencoder reconstruction\n",
    "    # the AutoEncoder derives from the generic HistogramClassifier. \n",
    "    # for this specific classifier, the output score of a histogram is the mean-square-error (MSE) \n",
    "    # between the original histogram and its autoencoder reconstruction.\n",
    "    # in essence, it is just a wrapper for a tensorflow model.\n",
    "    \n",
    "    def __init__( self, model=None ):\n",
    "        ### intializer from a tensorflow model\n",
    "        # the model is assumed to be fully trained on a suitable training set and ready for use\n",
    "        # TODO: perhaps the functionality for initializing and training the model can be absorbed in the AutoEncoder class,\n",
    "        #       but this is not yet supported currently\n",
    "        \n",
    "        super( AutoEncoder,self ).__init__()\n",
    "        if model is None:\n",
    "            raise NotYetImplementedError('ERROR in AutoEncoder.init: init must take a fully trained and ready tensorflow model as input (for now)')\n",
    "        if not isinstance( model, tensorflow.keras.Model ):\n",
    "            # still to check if this is the correct type to check!\n",
    "            raise Exception('ERROR in AutoEncoder.init: model has type {}'.format(type(model))\n",
    "                           +' while a tensorflow model is expected')\n",
    "        self.model = model\n",
    "        \n",
    "    def evaluate( self, histograms ):\n",
    "        ### classification of a collection of histograms based on their autoencoder reconstruction\n",
    "        \n",
    "        super( AutoEncoder,self).evaluate( histograms )\n",
    "        predictions = self.model.predict( histograms )\n",
    "        return mseTop10Raw( histograms, predictions )"
   ]
  },
  {
   "cell_type": "code",
   "execution_count": 6,
   "id": "light-celtic",
   "metadata": {},
   "outputs": [],
   "source": [
    "save_notebook_as_script( 'AutoEncoder.ipynb' )"
   ]
  }
 ],
 "metadata": {
  "kernelspec": {
   "display_name": "Python 3",
   "language": "python",
   "name": "python3"
  },
  "language_info": {
   "codemirror_mode": {
    "name": "ipython",
    "version": 3
   },
   "file_extension": ".py",
   "mimetype": "text/x-python",
   "name": "python",
   "nbconvert_exporter": "python",
   "pygments_lexer": "ipython3",
   "version": "3.8.6"
  }
 },
 "nbformat": 4,
 "nbformat_minor": 5
}
