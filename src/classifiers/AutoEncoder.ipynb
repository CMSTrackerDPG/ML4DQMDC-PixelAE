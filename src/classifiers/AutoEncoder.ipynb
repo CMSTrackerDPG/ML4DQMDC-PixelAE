{
 "cells": [
  {
   "cell_type": "markdown",
   "id": "fifth-roulette",
   "metadata": {},
   "source": [
    "**Histogram classfier based on the MSE of an autoencoder reconstruction**\n",
    "\n",
    "The AutoEncoder derives from the generic HistogramClassifier.  \n",
    "For this specific classifier, the output score of a histogram is the mean-square-error (MSE) between the original histogram and its autoencoder reconstruction.  \n",
    "In essence, it is just a wrapper for a tensorflow model.  "
   ]
  },
  {
   "cell_type": "code",
   "execution_count": null,
   "id": "interesting-computer",
   "metadata": {},
   "outputs": [],
   "source": [
    "### imports\n",
    "\n",
    "# external modules\n",
    "import os\n",
    "import sys\n",
    "import numpy as np\n",
    "import tensorflow\n",
    "from tensorflow.keras.models import load_model\n",
    "import importlib\n",
    "\n",
    "# local modules\n",
    "from HistogramClassifier import HistogramClassifier\n",
    "sys.path.append('../../utils')\n",
    "from autoencoder_utils import mseTop10Raw, mseTop10\n",
    "import plot_utils\n",
    "from notebook_utils.notebook_to_script import save_notebook_as_script"
   ]
  },
  {
   "cell_type": "code",
   "execution_count": null,
   "id": "color-promotion",
   "metadata": {},
   "outputs": [],
   "source": [
    "class AutoEncoder(HistogramClassifier):\n",
    "    ### histogram classfier based on the MSE of an autoencoder reconstruction\n",
    "    # the AutoEncoder derives from the generic HistogramClassifier. \n",
    "    # for this specific classifier, the output score of a histogram is the mean-square-error (MSE) \n",
    "    # between the original histogram and its autoencoder reconstruction.\n",
    "    # in essence, it is just a wrapper for a tensorflow model.\n",
    "    \n",
    "    def __init__( self, model=None ):\n",
    "        ### intializer from a tensorflow model\n",
    "        # the model is assumed to be a valid tensorflow model;\n",
    "        # it can be already trained before wrapping it in an AutoEncoder object,\n",
    "        # but if this is not the case, the AutoEncoder.train function can be called afterwards.\n",
    "        super( AutoEncoder,self ).__init__()\n",
    "        if model is None:\n",
    "            raise NotYetImplementedError('ERROR in AutoEncoder.__init__: init must take a fully trained and ready tensorflow model as input (for now)')\n",
    "        if not isinstance( model, tensorflow.keras.Model ):\n",
    "            raise Exception('ERROR in AutoEncoder.init: model has type {}'.format(type(model))\n",
    "                           +' while a tensorflow model is expected')\n",
    "        self.model = model\n",
    "        \n",
    "    def train( self, histograms, doplot=True, **kwargs ):\n",
    "        ### train the model on a given set of input histograms\n",
    "        super( AutoEncoder,self ).train( histograms )\n",
    "        history = self.model.fit(histograms, histograms, **kwargs)\n",
    "        if doplot: plot_utils.plot_loss(history)\n",
    "        \n",
    "    def evaluate( self, histograms ):\n",
    "        ### classification of a collection of histograms based on their autoencoder reconstruction\n",
    "        super( AutoEncoder,self ).evaluate( histograms )\n",
    "        predictions = self.model.predict( histograms )\n",
    "        return mseTop10Raw( histograms, predictions )\n",
    "    \n",
    "    def reconstruct( self, histograms ):\n",
    "        ### return the autoencoder reconstruction of a set of histograms\n",
    "        return self.model.predict( histograms )\n",
    "    \n",
    "    def save( self, path ):\n",
    "        ### save the underlying tensorflow model to a tensorflow SavedModel or H5 format.\n",
    "        # note: depending on the extension specified in path, the SavedModel or H5 format is chosen,\n",
    "        #       see https://www.tensorflow.org/guide/keras/save_and_serialize\n",
    "        super( AutoEncoder,self ).save( path )\n",
    "        self.model.save( path )\n",
    "        \n",
    "    @classmethod\n",
    "    def load( self, path, **kwargs ):\n",
    "        ### get an AutoEncoder instance from a saved tensorflow SavedModel or H5 file\n",
    "        super( AutoEncoder,self ).load( path )\n",
    "        model = load_model(path, custom_objects={'mseTop10':mseTop10}, **kwargs)\n",
    "        # to do: check if the above also works if mseTop10 is not in the model\n",
    "        # to do: check if it is possible to add all custom objects without using the kwargs\n",
    "        classifier = AutoEncoder( model=model )\n",
    "        return classifier"
   ]
  },
  {
   "cell_type": "code",
   "execution_count": null,
   "id": "median-elephant",
   "metadata": {},
   "outputs": [],
   "source": [
    "save_notebook_as_script( 'AutoEncoder.ipynb' )"
   ]
  }
 ],
 "metadata": {
  "kernelspec": {
   "display_name": "Python 3",
   "language": "python",
   "name": "python3"
  },
  "language_info": {
   "codemirror_mode": {
    "name": "ipython",
    "version": 3
   },
   "file_extension": ".py",
   "mimetype": "text/x-python",
   "name": "python",
   "nbconvert_exporter": "python",
   "pygments_lexer": "ipython3",
   "version": "3.8.6"
  }
 },
 "nbformat": 4,
 "nbformat_minor": 5
}
