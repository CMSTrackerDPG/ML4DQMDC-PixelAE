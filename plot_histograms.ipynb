{
 "cells": [
  {
   "cell_type": "markdown",
   "metadata": {},
   "source": [
    "**Plot the histograms for general investigation and visual inspection**  \n",
    "Functionality for selecting a single run and plotting all lumisections belonging to that run.\n",
    "Functionality for plotting the moments of the distributions as a function of LS number."
   ]
  },
  {
   "cell_type": "code",
   "execution_count": null,
   "metadata": {},
   "outputs": [],
   "source": [
    "### imports\n",
    "\n",
    "%run utils/utils.ipynb\n",
    "%run utils/clustering_utils.ipynb\n",
    "import matplotlib.pyplot as plt\n",
    "import pandas as pd"
   ]
  },
  {
   "cell_type": "code",
   "execution_count": null,
   "metadata": {},
   "outputs": [],
   "source": [
    "# load the dataframe containing the histograms\n",
    "dffile = 'data/DF2017_chargeInner_PXLayer_2.csv'\n",
    "histdf_all = read_csv(dffile)\n",
    "print('number of lumisections: '+str(len(histdf_all)))\n",
    "\n",
    "# select a single run\n",
    "runs = get_runs(histdf_all)\n",
    "print('number of runs: '+str(len(runs)))\n",
    "#print(runs) # uncomment this to see a printed list of available runs\n",
    "runnbs = [297056] # you can also add multiple runs to the list to plot them all together\n",
    "histdf = select_runs(histdf_all,runnbs)\n",
    "\n",
    "# select DCS-bit on data\n",
    "histdf = select_dcson(histdf)"
   ]
  },
  {
   "cell_type": "code",
   "execution_count": null,
   "metadata": {},
   "outputs": [],
   "source": [
    "# make a plot of the histograms\n",
    "xmin = histdf.at[0,'Xmin']\n",
    "xmax = histdf.at[0,'Xmax']\n",
    "nbins = histdf.at[0,'Xbins']\n",
    "(values,_,ls) = get_hist_values(histdf)\n",
    "# (note: get_hist_values returns the raw histograms as stored in the dataframe;\n",
    "# check out utils/utils.py/preparedatafromdf for more advanced data loading, e.g. normalizing)\n",
    "print('shape of histogram array: '+str(values.shape))\n",
    "# just plot all the histograms:\n",
    "plot_hists_multi(values,xlims=(xmin,xmax))\n",
    "# plot the histograms with a color according to their lumisection number:\n",
    "plot_hists_multi(values,colorlist=ls,xlims=(xmin,xmax))\n",
    "# same as before but normalizing each histogram:\n",
    "plot_hists_multi(normalizehists(values),colorlist=ls,xlims=(xmin,xmax))"
   ]
  },
  {
   "cell_type": "code",
   "execution_count": null,
   "metadata": {},
   "outputs": [],
   "source": [
    "# select a single lumisection and plot it on top of all the other lumisections\n",
    "lsnumber = 75\n",
    "plot_anomalous(values,ls,highlight=lsnumber)"
   ]
  },
  {
   "cell_type": "code",
   "execution_count": null,
   "metadata": {},
   "outputs": [],
   "source": [
    "# make a plot of the moments of the (normalized) histograms\n",
    "# use xmin = 0 and xmax = 1 as a kind of normalization\n",
    "hists = values[:,1:-1]\n",
    "bins = np.linspace(0,1,num=hists.shape[1],endpoint=True)\n",
    "moments = histmoments(bins,hists,orders=[1,2,3])\n",
    "_ = plot_moments(moments,ls,(0,1))"
   ]
  },
  {
   "cell_type": "code",
   "execution_count": null,
   "metadata": {},
   "outputs": [],
   "source": []
  }
 ],
 "metadata": {
  "kernelspec": {
   "display_name": "Python 3",
   "language": "python",
   "name": "python3"
  },
  "language_info": {
   "codemirror_mode": {
    "name": "ipython",
    "version": 3
   },
   "file_extension": ".py",
   "mimetype": "text/x-python",
   "name": "python",
   "nbconvert_exporter": "python",
   "pygments_lexer": "ipython3",
   "version": "3.7.6"
  }
 },
 "nbformat": 4,
 "nbformat_minor": 2
}
