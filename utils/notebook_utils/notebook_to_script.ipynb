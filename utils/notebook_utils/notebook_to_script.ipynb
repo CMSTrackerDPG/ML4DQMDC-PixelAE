{
 "cells": [
  {
   "cell_type": "markdown",
   "id": "israeli-montgomery",
   "metadata": {},
   "source": [
    "**Functionality for automatic conversion between notebooks (.ipynb) and scripts (.py)**\n",
    "\n",
    "Motivation:   \n",
    "Code is being developed in python notebooks (.ipynb), but this format does not support full import flexibility.  \n",
    "One way to import functionality from a notebook into another notebook is using the so-called 'IPython magic', by using the '%run' command.  \n",
    "But this has the disadvantage that one cannot resolve potential ambiguity as is usually done using 'import ... (as ...)'.  \n",
    "The function save_notebook_as_script allows to easily save each notebook as an python (.py) file that can be imported in other notebooks or python files,  \n",
    "avoiding the need for shady IPython magic commands.\n",
    "\n",
    "Use: \n",
    "- Import this script in a notebook using 'from notebook_to_script import save_notebook_as_script' or something equivalent.\n",
    "- At the end of your notebook, add the following statement: 'save_notebook_as_script( \"your notebook name\" )'.\n",
    "- When running this cell, a file will be created with the same name as your notebook, but with extension .py instead of .ipynb.   \n",
    "  Note that the lines containing the import of notebook_to_script and the call to save_notebook_as_script will not be written to the .py file!  \n",
    "  Furthermore, all markdown cells are not written to the .py file! However, comments in code cells are retained as they are in the .ipynb file.\n",
    "  Also keep in mind that you need to save the notebook first, just running the cells is not enough!  "
   ]
  },
  {
   "cell_type": "code",
   "execution_count": null,
   "id": "maritime-syndicate",
   "metadata": {},
   "outputs": [],
   "source": [
    "import os\n",
    "import re"
   ]
  },
  {
   "cell_type": "code",
   "execution_count": null,
   "id": "normal-aquatic",
   "metadata": {},
   "outputs": [],
   "source": [
    "def save_notebook_as_script( notebook_name ):\n",
    "    \n",
    "    # make sure notebook_name has correct extension:\n",
    "    # take extension from notebook_name argument,\n",
    "    # but in case it has no extension, append '.ipynb' by default\n",
    "    notebook_name_split = os.path.splitext(notebook_name)\n",
    "    if len(notebook_name_split[1])==0:\n",
    "        notebook_name = notebook_name_split[0]+'.ipynb'\n",
    "        \n",
    "    # call jupyter command line functionality\n",
    "    os.system('jupyter nbconvert --to script --PythonExporter.exclude_markdown=True {}'.format(notebook_name) )\n",
    "    script_name = os.path.splitext(notebook_name)[0]+'.py'\n",
    "    \n",
    "    # re-read the created script and remove some unwanted lines\n",
    "    with open(script_name, 'r') as f:\n",
    "        lines = f.readlines()\n",
    "    with open(script_name, 'w') as f:\n",
    "        for line in lines:\n",
    "            # avoid writing some lines to the python script\n",
    "            if 'import' in line and 'notebook_to_script.ipynb' in line: continue\n",
    "            if 'save_notebook_as_script' in line and not 'def' in line: continue\n",
    "            if re.match('# In\\[.+\\]',line): continue\n",
    "            f.write(line)"
   ]
  },
  {
   "cell_type": "code",
   "execution_count": null,
   "id": "generous-belly",
   "metadata": {},
   "outputs": [],
   "source": [
    "save_notebook_as_script( 'notebook_to_script.ipynb' )"
   ]
  }
 ],
 "metadata": {
  "kernelspec": {
   "display_name": "Python 3",
   "language": "python",
   "name": "python3"
  },
  "language_info": {
   "codemirror_mode": {
    "name": "ipython",
    "version": 3
   },
   "file_extension": ".py",
   "mimetype": "text/x-python",
   "name": "python",
   "nbconvert_exporter": "python",
   "pygments_lexer": "ipython3",
   "version": "3.8.6"
  }
 },
 "nbformat": 4,
 "nbformat_minor": 5
}
