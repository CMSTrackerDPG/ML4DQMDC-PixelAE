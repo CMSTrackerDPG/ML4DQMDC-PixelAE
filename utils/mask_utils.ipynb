{
 "cells": [
  {
   "cell_type": "markdown",
   "id": "b2b5acc4",
   "metadata": {},
   "source": [
    "**Utilities for working with HistStruct masks**\n",
    "\n",
    "Mostly meant for internal use."
   ]
  },
  {
   "cell_type": "code",
   "execution_count": null,
   "id": "a0544dfb",
   "metadata": {},
   "outputs": [],
   "source": [
    "### imports\n",
    "\n",
    "# local modules\n",
    "from notebook_utils.notebook_to_script import save_notebook_as_script"
   ]
  },
  {
   "cell_type": "code",
   "execution_count": null,
   "id": "61c540e8",
   "metadata": {},
   "outputs": [],
   "source": [
    "def get_combined_name( masklist ):\n",
    "    ### concatenate all the masknames in masklist to a combined name\n",
    "    # input arguments:\n",
    "    # - masklist: list of strings\n",
    "    # output:\n",
    "    # string with contatenated name\n",
    "    name = masklist[0]\n",
    "    for mask in masklist[1:]:\n",
    "        name = name+'_'+mask\n",
    "    return name"
   ]
  },
  {
   "cell_type": "code",
   "execution_count": null,
   "id": "21cd9542",
   "metadata": {},
   "outputs": [],
   "source": [
    "save_notebook_as_script( 'mask_utils.ipynb' )"
   ]
  }
 ],
 "metadata": {
  "kernelspec": {
   "display_name": "Python 3",
   "language": "python",
   "name": "python3"
  },
  "language_info": {
   "codemirror_mode": {
    "name": "ipython",
    "version": 3
   },
   "file_extension": ".py",
   "mimetype": "text/x-python",
   "name": "python",
   "nbconvert_exporter": "python",
   "pygments_lexer": "ipython3",
   "version": "3.9.6"
  }
 },
 "nbformat": 4,
 "nbformat_minor": 5
}
