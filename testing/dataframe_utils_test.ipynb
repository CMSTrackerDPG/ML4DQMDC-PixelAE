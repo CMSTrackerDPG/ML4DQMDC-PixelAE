{
 "cells": [
  {
   "cell_type": "markdown",
   "id": "south-output",
   "metadata": {},
   "source": [
    "**Testing code for dataframe_utils**"
   ]
  },
  {
   "cell_type": "code",
   "execution_count": null,
   "id": "guided-bleeding",
   "metadata": {},
   "outputs": [],
   "source": [
    "# external modules\n",
    "import sys\n",
    "import importlib\n",
    "\n",
    "# local modules\n",
    "sys.path.append('../utils')\n",
    "import csv_utils\n",
    "import dataframe_utils\n",
    "importlib.reload(dataframe_utils)\n",
    "from dataframe_utils import *"
   ]
  },
  {
   "cell_type": "code",
   "execution_count": null,
   "id": "other-electron",
   "metadata": {},
   "outputs": [],
   "source": [
    "testfile = 'DF2017B_chargeInner_PXLayer_1.csv'\n",
    "df = csv_utils.read_csv(testfile)\n",
    "print(df)"
   ]
  },
  {
   "cell_type": "code",
   "execution_count": null,
   "id": "ideal-criterion",
   "metadata": {},
   "outputs": [],
   "source": [
    "print(get_histnames(df))"
   ]
  },
  {
   "cell_type": "code",
   "execution_count": null,
   "id": "introductory-trinity",
   "metadata": {},
   "outputs": [],
   "source": [
    "runs = get_runs(df)\n",
    "print(runs)\n",
    "dfsel = select_runs(df,[runs[0]])\n",
    "ls = get_ls(dfsel)\n",
    "print(ls)\n",
    "dfsel = select_ls(dfsel,ls[:10])\n",
    "print(dfsel)"
   ]
  },
  {
   "cell_type": "code",
   "execution_count": null,
   "id": "august-congress",
   "metadata": {},
   "outputs": [],
   "source": [
    "goldenjson = get_runsls( select_golden(df) )\n",
    "print(goldenjson)\n",
    "\n",
    "print( get_ls( select_runs(df,[297050]) ) )"
   ]
  },
  {
   "cell_type": "code",
   "execution_count": null,
   "id": "ordinary-shaft",
   "metadata": {},
   "outputs": [],
   "source": [
    "dfsel = select_runs(df,[297050])\n",
    "print( len(get_ls(dfsel)) )\n",
    "print( get_hist_values(dfsel)[0].shape )"
   ]
  },
  {
   "cell_type": "code",
   "execution_count": null,
   "id": "manual-civilization",
   "metadata": {},
   "outputs": [],
   "source": []
  }
 ],
 "metadata": {
  "kernelspec": {
   "display_name": "Python 3",
   "language": "python",
   "name": "python3"
  },
  "language_info": {
   "codemirror_mode": {
    "name": "ipython",
    "version": 3
   },
   "file_extension": ".py",
   "mimetype": "text/x-python",
   "name": "python",
   "nbconvert_exporter": "python",
   "pygments_lexer": "ipython3",
   "version": "3.8.6"
  }
 },
 "nbformat": 4,
 "nbformat_minor": 5
}
