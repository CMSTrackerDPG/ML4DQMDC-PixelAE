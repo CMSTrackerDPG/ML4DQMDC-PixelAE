{
 "cells": [
  {
   "cell_type": "markdown",
   "id": "enabling-charles",
   "metadata": {},
   "source": [
    "**Testing code for hist_utils (and partially for plot_utils)**"
   ]
  },
  {
   "cell_type": "code",
   "execution_count": null,
   "id": "soviet-horror",
   "metadata": {},
   "outputs": [],
   "source": [
    "# external modules\n",
    "import sys\n",
    "import importlib\n",
    "\n",
    "# local modules\n",
    "sys.path.append('../utils')\n",
    "import csv_utils\n",
    "import dataframe_utils\n",
    "import hist_utils\n",
    "importlib.reload(hist_utils)\n",
    "import plot_utils\n",
    "importlib.reload(plot_utils)\n",
    "from hist_utils import *\n",
    "from plot_utils import *"
   ]
  },
  {
   "cell_type": "code",
   "execution_count": null,
   "id": "still-program",
   "metadata": {},
   "outputs": [],
   "source": [
    "# test for preparedatafromcsv\n",
    "\n",
    "testfile = 'DF2017B_chargeInner_PXLayer_1.csv'\n",
    "hists = preparedatafromcsv( testfile, doplot=True )"
   ]
  },
  {
   "cell_type": "code",
   "execution_count": null,
   "id": "occupational-polls",
   "metadata": {},
   "outputs": [],
   "source": [
    "# test for running_average_hists\n",
    "\n",
    "# check correctness of output on simple 1D array\n",
    "hists = np.array([[1.],[2.],[3.],[4.],[5.],[6.],[7.]])\n",
    "avghists = running_average_hists( hists, window=(1,0) )\n",
    "print(avghists)"
   ]
  },
  {
   "cell_type": "code",
   "execution_count": null,
   "id": "cubic-medline",
   "metadata": {},
   "outputs": [],
   "source": [
    "# test for running_average_hists\n",
    "\n",
    "# check if it runs on realistic set of histograms\n",
    "testfile = 'DF2017B_chargeInner_PXLayer_1.csv'\n",
    "hists = preparedatafromcsv( testfile, doplot=True )\n",
    "avghists = running_average_hists( hists, window=(2,0) )"
   ]
  },
  {
   "cell_type": "code",
   "execution_count": null,
   "id": "utility-harmony",
   "metadata": {},
   "outputs": [],
   "source": []
  }
 ],
 "metadata": {
  "kernelspec": {
   "display_name": "Python 3",
   "language": "python",
   "name": "python3"
  },
  "language_info": {
   "codemirror_mode": {
    "name": "ipython",
    "version": 3
   },
   "file_extension": ".py",
   "mimetype": "text/x-python",
   "name": "python",
   "nbconvert_exporter": "python",
   "pygments_lexer": "ipython3",
   "version": "3.8.6"
  }
 },
 "nbformat": 4,
 "nbformat_minor": 5
}
