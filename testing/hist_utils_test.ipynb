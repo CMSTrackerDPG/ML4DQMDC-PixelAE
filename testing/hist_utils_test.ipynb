{
 "cells": [
  {
   "cell_type": "markdown",
   "id": "restricted-holder",
   "metadata": {},
   "source": [
    "**Testing code for hist_utils (and partially for plot_utils)**"
   ]
  },
  {
   "cell_type": "code",
   "execution_count": null,
   "id": "continued-toilet",
   "metadata": {},
   "outputs": [],
   "source": [
    "# external modules\n",
    "import sys\n",
    "import importlib\n",
    "\n",
    "# local modules\n",
    "sys.path.append('../utils')\n",
    "import csv_utils\n",
    "import dataframe_utils\n",
    "import hist_utils\n",
    "importlib.reload(hist_utils)\n",
    "import plot_utils\n",
    "importlib.reload(plot_utils)\n",
    "from hist_utils import *\n",
    "from plot_utils import *"
   ]
  },
  {
   "cell_type": "code",
   "execution_count": null,
   "id": "extended-console",
   "metadata": {},
   "outputs": [],
   "source": [
    "testfile = 'DF2017B_chargeInner_PXLayer_1.csv'\n",
    "hists = preparedatafromcsv( testfile, rebinningfactor=2, doplot=True )"
   ]
  },
  {
   "cell_type": "code",
   "execution_count": null,
   "id": "sized-greek",
   "metadata": {},
   "outputs": [],
   "source": []
  }
 ],
 "metadata": {
  "kernelspec": {
   "display_name": "Python 3",
   "language": "python",
   "name": "python3"
  },
  "language_info": {
   "codemirror_mode": {
    "name": "ipython",
    "version": 3
   },
   "file_extension": ".py",
   "mimetype": "text/x-python",
   "name": "python",
   "nbconvert_exporter": "python",
   "pygments_lexer": "ipython3",
   "version": "3.8.6"
  }
 },
 "nbformat": 4,
 "nbformat_minor": 5
}
