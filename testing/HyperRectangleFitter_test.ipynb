{
 "cells": [
  {
   "cell_type": "code",
   "execution_count": null,
   "id": "intelligent-springer",
   "metadata": {},
   "outputs": [],
   "source": [
    "### imports\n",
    "\n",
    "# external modules\n",
    "import sys\n",
    "import numpy as np\n",
    "from numpy.random import default_rng\n",
    "import matplotlib.pyplot as plt\n",
    "import importlib\n",
    "\n",
    "# local modules\n",
    "sys.path.append('../utils')\n",
    "import plot_utils as pu\n",
    "importlib.reload(pu)\n",
    "sys.path.append('../src/cloudfitters')\n",
    "import HyperRectangleFitter\n",
    "importlib.reload(HyperRectangleFitter)"
   ]
  },
  {
   "cell_type": "code",
   "execution_count": null,
   "id": "environmental-still",
   "metadata": {},
   "outputs": [],
   "source": [
    "# test in one dimension\n",
    "\n",
    "a = np.zeros((100,1))\n",
    "for i in range(100): a[i,0] = i\n",
    "a = np.array(a)\n",
    "hrf = HyperRectangleFitter.HyperRectangleFitter( a, 0.1, side='both')\n",
    "print(hrf.cuts)\n",
    "print(hrf.pdf(a))"
   ]
  },
  {
   "cell_type": "code",
   "execution_count": null,
   "id": "pediatric-queens",
   "metadata": {},
   "outputs": [],
   "source": []
  }
 ],
 "metadata": {
  "kernelspec": {
   "display_name": "Python 3",
   "language": "python",
   "name": "python3"
  },
  "language_info": {
   "codemirror_mode": {
    "name": "ipython",
    "version": 3
   },
   "file_extension": ".py",
   "mimetype": "text/x-python",
   "name": "python",
   "nbconvert_exporter": "python",
   "pygments_lexer": "ipython3",
   "version": "3.8.6"
  }
 },
 "nbformat": 4,
 "nbformat_minor": 5
}
