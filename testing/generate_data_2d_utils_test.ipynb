{
 "cells": [
  {
   "cell_type": "code",
   "execution_count": null,
   "id": "casual-security",
   "metadata": {},
   "outputs": [],
   "source": [
    "### imports\n",
    "\n",
    "# external modules\n",
    "import sys\n",
    "import numpy as np\n",
    "import importlib\n",
    "\n",
    "# internal modules\n",
    "sys.path.append('../utils')\n",
    "import csv_utils as csvu\n",
    "import dataframe_utils as dfu\n",
    "import hist_utils as hu\n",
    "import plot_utils as pu\n",
    "import generate_data_2d_utils as g2u\n",
    "import generate_data_utils as gu\n",
    "importlib.reload(pu)\n",
    "importlib.reload(g2u)\n",
    "importlib.reload(gu)"
   ]
  },
  {
   "cell_type": "code",
   "execution_count": null,
   "id": "legal-phone",
   "metadata": {},
   "outputs": [],
   "source": [
    "### plot examples of 2D fourier noise\n",
    "\n",
    "noise = g2u.goodnoise_nd( (100,100), fstd=None, kmaxscale=0.05, ncomponents=(3,3) )\n",
    "_ = pu.plot_hist_2d( noise, title='Example of noise' )\n",
    "_ = pu.plot_hists( [noise[:,0]], title='Projection of noise on first axis')\n",
    "_ = pu.plot_hists( [noise[0,:]], title='Projection of noise on second axis')"
   ]
  },
  {
   "cell_type": "code",
   "execution_count": null,
   "id": "assisted-budapest",
   "metadata": {},
   "outputs": [],
   "source": [
    "### compare new function to old one for 1D for same settings\n",
    "\n",
    "nexamples = 20\n",
    "nbins = 100\n",
    "kmaxscale = 0.25\n",
    "ncomponents = 3\n",
    "\n",
    "xax = np.arange(nbins)\n",
    "center = np.exp(-np.power(xax - nbins/3, 2.) / (2*10**2))\n",
    "\n",
    "oldnoise = np.zeros((nexamples,nbins))\n",
    "newnoise = np.zeros((nexamples,nbins))\n",
    "for i in range(nexamples):\n",
    "    oldnoise[i,:] = gu.goodnoise(nbins,fstd=0.1*center)\n",
    "    newnoise[i,:] = g2u.goodnoise_nd((nbins,),fstd=0.1*center,kmaxscale=kmaxscale,ncomponents=ncomponents)\n",
    "\n",
    "_ = pu.plot_sets([oldnoise,[center]],colorlist=['b','r'],transparencylist=[0.5,1])\n",
    "_ = pu.plot_sets([center+oldnoise,[center]],colorlist=['b','r'],transparencylist=[0.5,1])\n",
    "_ = pu.plot_sets([newnoise,[center]],colorlist=['b','r'],transparencylist=[0.5,1])\n",
    "_ = pu.plot_sets([center+newnoise,[center]],colorlist=['b','r'],transparencylist=[0.5,1])"
   ]
  },
  {
   "cell_type": "code",
   "execution_count": null,
   "id": "arranged-stranger",
   "metadata": {},
   "outputs": [],
   "source": [
    "### plot examples of 2D white noise\n",
    "\n",
    "noise = g2u.whitenoise_nd( (100,100), fstd=None )\n",
    "_ = pu.plot_hist_2d( noise, title='Example of noise' )\n",
    "_ = pu.plot_hists( [noise[:,0]], title='Projection of noise on first axis')\n",
    "_ = pu.plot_hists( [noise[0,:]], title='Projection of noise on second axis')"
   ]
  },
  {
   "cell_type": "code",
   "execution_count": null,
   "id": "subjective-arnold",
   "metadata": {},
   "outputs": [],
   "source": [
    "### plot examples of 2D linear combinations\n",
    "\n",
    "a = np.zeros((10,10))\n",
    "b = np.ones((10,10))\n",
    "hists = np.array([a,b])\n",
    "\n",
    "noise = g2u.random_lico_nd( hists )\n",
    "_ = pu.plot_hist_2d( noise, title='Example of noise' )"
   ]
  },
  {
   "cell_type": "code",
   "execution_count": null,
   "id": "essential-orbit",
   "metadata": {},
   "outputs": [],
   "source": [
    "### load example histogram\n",
    "\n",
    "# load a dataframe containing histograms\n",
    "dffile = '../data/DF2017B_clusterposition_zphi_ontrack_PXLayer_1_run297056.csv'\n",
    "histdf = csvu.read_csv(dffile)\n",
    "print('number of lumisections: '+str(len(histdf)))\n",
    "\n",
    "# select a single run and lumisection\n",
    "histdf = dfu.select_runs(histdf,[297056])\n",
    "histdf = dfu.select_ls(histdf,[20])\n",
    "print(len(histdf))\n",
    "\n",
    "(histograms) = hu.preparedatafromdf(histdf, cropslices=[slice(1,-1,None),slice(81,221,None)], rebinningfactor=(2,2), donormalize=True, doplot=False)\n",
    "#(histograms) = hu.preparedatafromdf(histdf)\n",
    "_ = pu.plot_hist_2d(histograms[0])"
   ]
  },
  {
   "cell_type": "code",
   "execution_count": null,
   "id": "eastern-ladder",
   "metadata": {},
   "outputs": [],
   "source": [
    "### plot examples of 2D fourier noise\n",
    "\n",
    "noise = g2u.fourier_noise_nd(histograms, outfilename='', figname='', nresamples=4, nonnegative=True, \n",
    "                     stdfactor=10., kmaxscale=0.5, ncomponents=3)\n",
    "_ = pu.plot_hists_2d( noise, title='examples of fourier noise', caxrange=(1e-12,1) )"
   ]
  },
  {
   "cell_type": "code",
   "execution_count": null,
   "id": "helpful-variable",
   "metadata": {},
   "outputs": [],
   "source": [
    "### plot examples of white noise\n",
    "\n",
    "noise = g2u.white_noise_nd(histograms, figname='', nresamples=4, nonnegative=True, stdfactor=7.)\n",
    "_ = pu.plot_hists_2d( noise, title='examples of white noise', caxrange=(1e-12,1) )"
   ]
  }
 ],
 "metadata": {
  "kernelspec": {
   "display_name": "Python 3",
   "language": "python",
   "name": "python3"
  },
  "language_info": {
   "codemirror_mode": {
    "name": "ipython",
    "version": 3
   },
   "file_extension": ".py",
   "mimetype": "text/x-python",
   "name": "python",
   "nbconvert_exporter": "python",
   "pygments_lexer": "ipython3",
   "version": "3.8.6"
  }
 },
 "nbformat": 4,
 "nbformat_minor": 5
}
