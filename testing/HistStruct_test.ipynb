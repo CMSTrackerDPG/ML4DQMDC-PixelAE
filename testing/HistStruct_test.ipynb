{
 "cells": [
  {
   "cell_type": "markdown",
   "id": "unique-thing",
   "metadata": {},
   "source": [
    "**Testing code for HistStruct class**"
   ]
  },
  {
   "cell_type": "code",
   "execution_count": null,
   "id": "taken-bottle",
   "metadata": {},
   "outputs": [],
   "source": [
    "### imports\n",
    "\n",
    "# external modules\n",
    "import sys\n",
    "import importlib\n",
    "import numpy as np # temp\n",
    "\n",
    "# local modules\n",
    "sys.path.append('../utils')\n",
    "import json_utils as jsonu\n",
    "import csv_utils as csvu\n",
    "sys.path.append('../src')\n",
    "sys.path.append('../src/classifiers')\n",
    "import HistStruct\n",
    "importlib.reload(HistStruct)"
   ]
  },
  {
   "cell_type": "code",
   "execution_count": null,
   "id": "liberal-wyoming",
   "metadata": {},
   "outputs": [],
   "source": [
    "### make a HistStruct object\n",
    "\n",
    "filenames = (['../data/DF2017_chargeInner_PXLayer_2.csv',\n",
    "              '../data/DF2017_chargeInner_PXLayer_3.csv'])\n",
    "\n",
    "histstruct = HistStruct.HistStruct()\n",
    "\n",
    "for filename in filenames:\n",
    "    \n",
    "    print('reading {}'.format(filename))\n",
    "    df = csvu.read_csv( filename )\n",
    "    print('adding dataframe to histstruct')\n",
    "    histstruct.add_dataframe( df )"
   ]
  },
  {
   "cell_type": "code",
   "execution_count": null,
   "id": "maritime-production",
   "metadata": {},
   "outputs": [],
   "source": [
    "### do some basic printouts\n",
    "\n",
    "print(histstruct.histnames)\n",
    "print(len(histstruct.runnbs))\n",
    "print(len(histstruct.lsnbs))\n",
    "print(histstruct.histograms['chargeInner_PXLayer_2'].shape)"
   ]
  },
  {
   "cell_type": "code",
   "execution_count": null,
   "id": "european-surname",
   "metadata": {},
   "outputs": [],
   "source": [
    "### masking\n",
    "\n",
    "histstruct.add_dcsonjson_mask( 'dcsonjson' )\n",
    "histstruct.add_hightstat_mask( 'highstat' )\n",
    "print( len(histstruct.get_histograms('chargeInner_PXLayer_2',masknames=['dcsonjson'])) )\n",
    "print( len(histstruct.get_histograms('chargeInner_PXLayer_2',masknames=['dcsonjson','highstat'])) )"
   ]
  },
  {
   "cell_type": "code",
   "execution_count": null,
   "id": "beneficial-viking",
   "metadata": {},
   "outputs": [],
   "source": []
  }
 ],
 "metadata": {
  "kernelspec": {
   "display_name": "Python 3",
   "language": "python",
   "name": "python3"
  },
  "language_info": {
   "codemirror_mode": {
    "name": "ipython",
    "version": 3
   },
   "file_extension": ".py",
   "mimetype": "text/x-python",
   "name": "python",
   "nbconvert_exporter": "python",
   "pygments_lexer": "ipython3",
   "version": "3.8.6"
  }
 },
 "nbformat": 4,
 "nbformat_minor": 5
}
