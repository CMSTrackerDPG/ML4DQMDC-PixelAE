{
 "cells": [
  {
   "cell_type": "markdown",
   "id": "renewable-township",
   "metadata": {},
   "source": [
    "**Testing code for HistStruct class**"
   ]
  },
  {
   "cell_type": "code",
   "execution_count": null,
   "id": "geological-beatles",
   "metadata": {},
   "outputs": [],
   "source": [
    "### imports\n",
    "\n",
    "# external modules\n",
    "import sys\n",
    "import importlib\n",
    "import numpy as np\n",
    "\n",
    "# local modules\n",
    "sys.path.append('../utils')\n",
    "import json_utils as jsonu\n",
    "import csv_utils as csvu\n",
    "import hist_utils as hu\n",
    "sys.path.append('../src')\n",
    "sys.path.append('../src/classifiers')\n",
    "import HistStruct\n",
    "importlib.reload(HistStruct)"
   ]
  },
  {
   "cell_type": "code",
   "execution_count": null,
   "id": "sealed-coordination",
   "metadata": {},
   "outputs": [],
   "source": [
    "### make a HistStruct object\n",
    "\n",
    "filenames = (['../data/DF2017_chargeInner_PXLayer_2.csv',\n",
    "              '../data/DF2017_chargeInner_PXLayer_3.csv'])\n",
    "\n",
    "histstruct = HistStruct.HistStruct()\n",
    "\n",
    "for filename in filenames:\n",
    "    \n",
    "    print('reading {}'.format(filename))\n",
    "    df = csvu.read_csv( filename )\n",
    "    print('adding dataframe to histstruct')\n",
    "    histstruct.add_dataframe( df )"
   ]
  },
  {
   "cell_type": "code",
   "execution_count": null,
   "id": "independent-repeat",
   "metadata": {},
   "outputs": [],
   "source": [
    "### do some basic printouts\n",
    "\n",
    "print(histstruct.histnames)\n",
    "print(len(histstruct.runnbs))\n",
    "print(len(histstruct.lsnbs))\n",
    "print(histstruct.histograms['chargeInner_PXLayer_2'].shape)"
   ]
  },
  {
   "cell_type": "code",
   "execution_count": null,
   "id": "vertical-festival",
   "metadata": {},
   "outputs": [],
   "source": [
    "### masking\n",
    "\n",
    "histstruct.add_dcsonjson_mask( 'dcsonjson' )\n",
    "histstruct.add_hightstat_mask( 'highstat' )\n",
    "print( len(histstruct.get_histograms('chargeInner_PXLayer_2',masknames=['dcsonjson'])) )\n",
    "print( len(histstruct.get_histograms('chargeInner_PXLayer_2',masknames=['dcsonjson','highstat'])) )"
   ]
  },
  {
   "cell_type": "code",
   "execution_count": null,
   "id": "regulation-sessions",
   "metadata": {},
   "outputs": [],
   "source": [
    "### writing and reading\n",
    "\n",
    "histstruct.save( 'histstruct_test' )\n",
    "h = HistStruct.HistStruct.load( 'histstruct_test.pkl' )\n",
    "print( len(h.get_histograms('chargeInner_PXLayer_2',masknames=['dcsonjson'])) )\n",
    "print( len(h.get_histograms('chargeInner_PXLayer_2',masknames=['dcsonjson','highstat'])) )"
   ]
  },
  {
   "cell_type": "code",
   "execution_count": null,
   "id": "printable-fountain",
   "metadata": {},
   "outputs": [],
   "source": [
    "### alternative way of adding histograms and same tests\n",
    "\n",
    "histstruct = HistStruct.HistStruct()\n",
    "print(histstruct.histnames)\n",
    "\n",
    "for filename in filenames:\n",
    "    print('reading {}'.format(filename))\n",
    "    name = filename.split('/')[-1].replace('.csv','').replace('DF2017_','')\n",
    "    (histograms,runs,ls) = hu.preparedatafromcsv( filename, returnrunls=True )\n",
    "    print('adding histograms to histstruct')\n",
    "    histstruct.add_histograms( name, histograms, runs, ls )\n",
    "    \n",
    "print(histstruct.histnames)\n",
    "print(len(histstruct.runnbs))\n",
    "print(len(histstruct.lsnbs))\n",
    "print(histstruct.histograms['chargeInner_PXLayer_2'].shape)\n",
    "\n",
    "histstruct.add_dcsonjson_mask( 'dcsonjson' )\n",
    "histstruct.add_hightstat_mask( 'highstat' )\n",
    "print( len(histstruct.get_histograms('chargeInner_PXLayer_2',masknames=['dcsonjson'])) )\n",
    "print( len(histstruct.get_histograms('chargeInner_PXLayer_2',masknames=['dcsonjson','highstat'])) )"
   ]
  },
  {
   "cell_type": "code",
   "execution_count": null,
   "id": "local-recorder",
   "metadata": {},
   "outputs": [],
   "source": [
    "### get scores\n",
    "\n",
    "print( len(histstruct.get_scores( histname='chargeInner_PXLayer_2') ) ) # -> must throw error since scores were not set"
   ]
  },
  {
   "cell_type": "code",
   "execution_count": null,
   "id": "interim-bolivia",
   "metadata": {},
   "outputs": [],
   "source": [
    "### plotting\n",
    "# see tutorial autoencoder_combine for a more extensive test and example.\n",
    "\n",
    "print(histstruct.get_runnbs()[:10])\n",
    "print(histstruct.get_lsnbs()[:10])\n",
    "print( histstruct.get_scores_ls( 297047, 3) )\n",
    "histstruct.plot_ls( 297047, 3 )"
   ]
  },
  {
   "cell_type": "code",
   "execution_count": null,
   "id": "authentic-patent",
   "metadata": {},
   "outputs": [],
   "source": [
    "### loading and printing\n",
    "\n",
    "h = HistStruct.HistStruct.load( '../run/test_evaluated.zip', verbose=True )"
   ]
  },
  {
   "cell_type": "code",
   "execution_count": null,
   "id": "12c9ccaf",
   "metadata": {},
   "outputs": [],
   "source": []
  }
 ],
 "metadata": {
  "kernelspec": {
   "display_name": "Python 3",
   "language": "python",
   "name": "python3"
  },
  "language_info": {
   "codemirror_mode": {
    "name": "ipython",
    "version": 3
   },
   "file_extension": ".py",
   "mimetype": "text/x-python",
   "name": "python",
   "nbconvert_exporter": "python",
   "pygments_lexer": "ipython3",
   "version": "3.8.6"
  }
 },
 "nbformat": 4,
 "nbformat_minor": 5
}
