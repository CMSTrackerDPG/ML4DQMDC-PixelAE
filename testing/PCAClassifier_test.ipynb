{
 "cells": [
  {
   "cell_type": "code",
   "execution_count": null,
   "id": "1b7f1ad0",
   "metadata": {},
   "outputs": [],
   "source": [
    "### imports\n",
    "\n",
    "# external modules\n",
    "import sys\n",
    "import pandas as pd\n",
    "import numpy as np\n",
    "import matplotlib.pyplot as plt\n",
    "import math\n",
    "import importlib\n",
    "\n",
    "# local modules\n",
    "sys.path.append('../utils')\n",
    "import csv_utils as csvu\n",
    "import json_utils as jsonu\n",
    "import dataframe_utils as dfu\n",
    "import hist_utils as hu\n",
    "import autoencoder_utils as aeu\n",
    "import plot_utils as pu\n",
    "import generate_data_utils as gdu\n",
    "import refruns_utils as rru\n",
    "importlib.reload(csvu)\n",
    "importlib.reload(jsonu)\n",
    "importlib.reload(dfu)\n",
    "importlib.reload(hu)\n",
    "importlib.reload(aeu)\n",
    "importlib.reload(pu)\n",
    "importlib.reload(gdu)\n",
    "importlib.reload(rru)\n",
    "sys.path.append('../src')\n",
    "sys.path.append('../src/classifiers')\n",
    "import PCAClassifier\n",
    "importlib.reload(PCAClassifier)"
   ]
  },
  {
   "cell_type": "code",
   "execution_count": null,
   "id": "dbf8ca88",
   "metadata": {},
   "outputs": [],
   "source": [
    "### load test histograms\n",
    "    \n",
    "histname = 'size_PXLayer_3'\n",
    "dffile = '../data/DF2017_{}.csv'.format(histname)\n",
    "histdf = csvu.read_csv(dffile)\n",
    "histdf = dfu.select_dcson(histdf)\n",
    "histdf = dfu.select_highstat(histdf)\n",
    "print(len(histdf))\n",
    "\n",
    "(hists_train) = hu.preparedatafromdf(histdf, donormalize=True, doplot=False)\n",
    "print(hists_train.shape)"
   ]
  },
  {
   "cell_type": "code",
   "execution_count": null,
   "id": "a44220b3",
   "metadata": {},
   "outputs": [],
   "source": [
    "### fit a PCA model\n",
    "\n",
    "classifier = PCAClassifier.PCAClassifier( ncomponents=0, nmax=10 )\n",
    "classifier.train( hists_train )"
   ]
  },
  {
   "cell_type": "code",
   "execution_count": null,
   "id": "0ecf526e",
   "metadata": {},
   "outputs": [],
   "source": [
    "### dispaly the PCA components\n",
    "\n",
    "comps = classifier.get_components()\n",
    "print(comps.shape)\n",
    "if comps.shape[0]>0: pu.plot_hists_multi(comps, title=histname, colorlist=list(range(len(comps))) )"
   ]
  },
  {
   "cell_type": "code",
   "execution_count": null,
   "id": "755d772a",
   "metadata": {},
   "outputs": [],
   "source": [
    "### display some example reconstructions\n",
    "\n",
    "inds = [0]\n",
    "for ind in inds:\n",
    "    \n",
    "    # automatically\n",
    "    hist = hists_train[ind:ind+1,:]\n",
    "    reco = classifier.reconstruct(hist)\n",
    "    pu.plot_hists( [hist[0],reco[0]], \n",
    "                    colorlist=['black','red'], \n",
    "                    labellist=['orig','reco'] )\n",
    "    \n",
    "    # manually\n",
    "    hist = hists_train[ind:ind+1,:]\n",
    "    red = classifier.PCA.transform(hist)\n",
    "    print(red)\n",
    "    reco = classifier.PCA.inverse_transform(red)\n",
    "    pu.plot_hists( [hist[0],reco[0]], \n",
    "                    colorlist=['black','red'], \n",
    "                    labellist=['orig','reco'] )\n",
    "    \n",
    "    \n",
    "    # even more manually\n",
    "    hist = hists_train[ind:ind+1,:]\n",
    "    red = np.dot(classifier.PCA.components_, np.transpose(hist - classifier.PCA.mean_))\n",
    "    if red.shape[0]==0: reco = [classifier.PCA.mean_] # special for 0 components\n",
    "    else: reco = np.dot(red, classifier.PCA.components_) + classifier.PCA.mean_\n",
    "    pu.plot_hists( [hist[0],reco[0]], \n",
    "                    colorlist=['black','red'], \n",
    "                    labellist=['orig','reco'] )"
   ]
  },
  {
   "cell_type": "code",
   "execution_count": null,
   "id": "b6957d9a",
   "metadata": {},
   "outputs": [],
   "source": []
  }
 ],
 "metadata": {
  "kernelspec": {
   "display_name": "Python 3",
   "language": "python",
   "name": "python3"
  },
  "language_info": {
   "codemirror_mode": {
    "name": "ipython",
    "version": 3
   },
   "file_extension": ".py",
   "mimetype": "text/x-python",
   "name": "python",
   "nbconvert_exporter": "python",
   "pygments_lexer": "ipython3",
   "version": "3.8.6"
  }
 },
 "nbformat": 4,
 "nbformat_minor": 5
}
