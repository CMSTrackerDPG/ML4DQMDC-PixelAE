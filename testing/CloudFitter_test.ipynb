{
 "cells": [
  {
   "cell_type": "markdown",
   "id": "fixed-consent",
   "metadata": {},
   "source": [
    "**Testing code for point cloud fitting algorithms**"
   ]
  },
  {
   "cell_type": "code",
   "execution_count": null,
   "id": "mental-mixture",
   "metadata": {},
   "outputs": [],
   "source": [
    "### imports\n",
    "\n",
    "# external modules\n",
    "import sys\n",
    "import numpy as np\n",
    "from numpy.random import default_rng\n",
    "import matplotlib.pyplot as plt\n",
    "import importlib\n",
    "\n",
    "# local modules\n",
    "sys.path.append('../utils')\n",
    "import plot_utils as pu\n",
    "importlib.reload(pu)\n",
    "sys.path.append('../src/cloudfitters')\n",
    "import LogNormalFitter\n",
    "import ExponentialFitter\n",
    "import SeminormalFitter\n",
    "import GaussianKdeFitter\n",
    "importlib.reload(LogNormalFitter)\n",
    "importlib.reload(ExponentialFitter)\n",
    "importlib.reload(SeminormalFitter)\n",
    "importlib.reload(GaussianKdeFitter)"
   ]
  },
  {
   "cell_type": "code",
   "execution_count": null,
   "id": "arranged-population",
   "metadata": {},
   "outputs": [],
   "source": [
    "### make a point cloud in 1D\n",
    "\n",
    "rng = default_rng()\n",
    "points = rng.standard_normal(100)\n",
    "points = np.power(points,2)\n",
    "points = np.expand_dims(points,1)\n",
    "print(points.shape)\n",
    "plt.figure()\n",
    "plt.plot(points,[0]*len(points),'.')"
   ]
  },
  {
   "cell_type": "code",
   "execution_count": null,
   "id": "pointed-giving",
   "metadata": {},
   "outputs": [],
   "source": [
    "### fit a distribution\n",
    "\n",
    "#fit = LogNormalFitter.LogNormalFitter(points)\n",
    "fit = ExponentialFitter.ExponentialFitter(points)\n",
    "#fit = SeminormalFitter.SeminormalFitter(points)\n",
    "#fit = GaussianKdeFitter.GaussianKdeFitter(points,bw_method='scott')"
   ]
  },
  {
   "cell_type": "code",
   "execution_count": null,
   "id": "crude-stable",
   "metadata": {},
   "outputs": [],
   "source": [
    "### make a plot\n",
    "\n",
    "xax = np.linspace(0,np.max(points),num=100)\n",
    "xax = np.expand_dims(xax,1)\n",
    "plt.figure()\n",
    "plt.plot(xax,fit.pdf(xax))\n",
    "plt.plot(points,[0]*len(points),'.')"
   ]
  },
  {
   "cell_type": "code",
   "execution_count": null,
   "id": "frozen-infrastructure",
   "metadata": {},
   "outputs": [],
   "source": [
    "### make a point cloud in 2D\n",
    "\n",
    "mean = np.array([0,0])\n",
    "cov = np.array([[2,0],[0,8]])\n",
    "rng = default_rng()\n",
    "points = rng.multivariate_normal(mean,cov,size=500)\n",
    "points = np.power(points,2)\n",
    "print(points.shape)\n",
    "pu.plot_fit_2d(points,onlypositive=True)"
   ]
  },
  {
   "cell_type": "code",
   "execution_count": null,
   "id": "variable-tulsa",
   "metadata": {},
   "outputs": [],
   "source": [
    "### fit a distribution\n",
    "\n",
    "#fit = LogNormalFitter.LogNormalFitter(points)\n",
    "fit = ExponentialFitter.ExponentialFitter(points)\n",
    "#fit = SeminormalFitter.SeminormalFitter(points)\n",
    "#fit = GaussianKdeFitter.GaussianKdeFitter(points,bw_method='scott')"
   ]
  },
  {
   "cell_type": "code",
   "execution_count": null,
   "id": "focal-weekend",
   "metadata": {},
   "outputs": [],
   "source": [
    "### make a plot\n",
    "\n",
    "pu.plot_fit_2d(points, fitfunc=fit, onlypositive=True, logprob=True)"
   ]
  }
 ],
 "metadata": {
  "kernelspec": {
   "display_name": "Python 3",
   "language": "python",
   "name": "python3"
  },
  "language_info": {
   "codemirror_mode": {
    "name": "ipython",
    "version": 3
   },
   "file_extension": ".py",
   "mimetype": "text/x-python",
   "name": "python",
   "nbconvert_exporter": "python",
   "pygments_lexer": "ipython3",
   "version": "3.8.6"
  }
 },
 "nbformat": 4,
 "nbformat_minor": 5
}
