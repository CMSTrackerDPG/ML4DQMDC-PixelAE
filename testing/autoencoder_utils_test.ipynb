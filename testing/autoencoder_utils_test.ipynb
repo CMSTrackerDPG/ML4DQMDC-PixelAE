{
 "cells": [
  {
   "cell_type": "code",
   "execution_count": null,
   "id": "native-provision",
   "metadata": {},
   "outputs": [],
   "source": [
    "# external modules\n",
    "import sys\n",
    "import numpy as np\n",
    "import importlib\n",
    "\n",
    "# local modules\n",
    "sys.path.append('../utils')\n",
    "import autoencoder_utils\n",
    "importlib.reload(autoencoder_utils)\n",
    "from autoencoder_utils import *"
   ]
  },
  {
   "cell_type": "code",
   "execution_count": null,
   "id": "hawaiian-ozone",
   "metadata": {},
   "outputs": [],
   "source": [
    "a = np.array([[1,2,0,4,5]])\n",
    "b = np.array([[1,2,4,4,5]])\n",
    "\n",
    "print( mseTopNRaw(a,b,n=5) )\n",
    "print( chiSquaredTopNRaw(a,b,n=5) )"
   ]
  },
  {
   "cell_type": "code",
   "execution_count": null,
   "id": "accomplished-disorder",
   "metadata": {},
   "outputs": [],
   "source": []
  }
 ],
 "metadata": {
  "kernelspec": {
   "display_name": "Python 3",
   "language": "python",
   "name": "python3"
  },
  "language_info": {
   "codemirror_mode": {
    "name": "ipython",
    "version": 3
   },
   "file_extension": ".py",
   "mimetype": "text/x-python",
   "name": "python",
   "nbconvert_exporter": "python",
   "pygments_lexer": "ipython3",
   "version": "3.8.6"
  }
 },
 "nbformat": 4,
 "nbformat_minor": 5
}
