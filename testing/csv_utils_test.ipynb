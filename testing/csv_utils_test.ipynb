{
 "cells": [
  {
   "cell_type": "markdown",
   "id": "cooperative-employee",
   "metadata": {},
   "source": [
    "**Testing code for csv_utils**"
   ]
  },
  {
   "cell_type": "code",
   "execution_count": null,
   "id": "prescribed-benjamin",
   "metadata": {},
   "outputs": [],
   "source": [
    "# external modules\n",
    "import sys\n",
    "import importlib\n",
    "\n",
    "# local modules\n",
    "sys.path.append('../utils')\n",
    "import csv_utils\n",
    "importlib.reload(csv_utils)\n",
    "from csv_utils import *"
   ]
  },
  {
   "cell_type": "code",
   "execution_count": null,
   "id": "supposed-centre",
   "metadata": {},
   "outputs": [],
   "source": [
    "datadirs = list(get_data_dirs(year='2017',eras=['B','C']))\n",
    "print(datadirs)\n",
    "csvfiles = list(get_csv_files(datadirs[0]))\n",
    "print(csvfiles[:20])\n",
    "csvfiles = sort_filenames(csvfiles)\n",
    "print(csvfiles[:20])"
   ]
  },
  {
   "cell_type": "code",
   "execution_count": null,
   "id": "domestic-montana",
   "metadata": {},
   "outputs": [],
   "source": [
    "write_skimmed_csv(['chargeInner_PXLayer_1'],'2017',eras=['B','C'])"
   ]
  },
  {
   "cell_type": "code",
   "execution_count": null,
   "id": "obvious-hepatitis",
   "metadata": {},
   "outputs": [],
   "source": []
  }
 ],
 "metadata": {
  "kernelspec": {
   "display_name": "Python 3",
   "language": "python",
   "name": "python3"
  },
  "language_info": {
   "codemirror_mode": {
    "name": "ipython",
    "version": 3
   },
   "file_extension": ".py",
   "mimetype": "text/x-python",
   "name": "python",
   "nbconvert_exporter": "python",
   "pygments_lexer": "ipython3",
   "version": "3.8.6"
  }
 },
 "nbformat": 4,
 "nbformat_minor": 5
}
