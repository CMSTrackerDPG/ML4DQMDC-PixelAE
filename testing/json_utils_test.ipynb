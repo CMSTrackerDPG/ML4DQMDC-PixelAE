{
 "cells": [
  {
   "cell_type": "markdown",
   "id": "studied-cylinder",
   "metadata": {},
   "source": [
    "**Testing code for json_utils**"
   ]
  },
  {
   "cell_type": "code",
   "execution_count": null,
   "id": "facial-toner",
   "metadata": {},
   "outputs": [],
   "source": [
    "# external modules\n",
    "import sys\n",
    "import importlib\n",
    "\n",
    "# local modules\n",
    "sys.path.append('../utils')\n",
    "import json_utils\n",
    "importlib.reload(json_utils)\n",
    "from json_utils import *"
   ]
  },
  {
   "cell_type": "code",
   "execution_count": null,
   "id": "deadly-pastor",
   "metadata": {},
   "outputs": [],
   "source": [
    "jsondict = {\n",
    "    \"1\": [[1,10],[20,30]],\n",
    "    \"2\": [[5,15],[25,40]]\n",
    "}\n",
    "\n",
    "writejson( jsondict, 'json_utils_test.json', overwrite=True )\n",
    "jsondict_test = loadjson( 'json_utils_test.json' )\n",
    "print(jsondict_test)"
   ]
  },
  {
   "cell_type": "code",
   "execution_count": null,
   "id": "sporting-darkness",
   "metadata": {},
   "outputs": [],
   "source": [
    "print( injson(1,5,jsondict=jsondict_test) )\n",
    "print( injson(3,5,jsondict=jsondict_test) )\n",
    "print( injson(1,500,jsondict=jsondict_test) )\n",
    "print( injson( [1,3,1], [5,5,500], jsondict=jsondict_test) )"
   ]
  },
  {
   "cell_type": "code",
   "execution_count": null,
   "id": "amber-residence",
   "metadata": {},
   "outputs": [],
   "source": [
    "print( isgolden(297050,11) )\n",
    "print( isgolden(297050,12) )\n",
    "print( isgolden(297050,137) )\n",
    "print( isgolden(297050,138) )\n",
    "\n",
    "print('------')\n",
    "\n",
    "print( isdcson(294927,54) )\n",
    "print( isdcson(294927,55) )\n",
    "print( isdcson(294927,85) )\n",
    "print( isdcson(294927,86) )"
   ]
  },
  {
   "cell_type": "code",
   "execution_count": null,
   "id": "distinct-soviet",
   "metadata": {},
   "outputs": [],
   "source": [
    "tuplelist = [\n",
    "    (1, [1,2,3,8,9,10]),\n",
    "    (2, [1,3,5,7,9]),\n",
    "    (3, [-1])\n",
    "]\n",
    "\n",
    "jsondict = tuplelist_to_jsondict( tuplelist)\n",
    "print( jsondict )\n",
    "\n",
    "tuplelist_test = jsondict_to_tuplelist( jsondict )\n",
    "print( tuplelist_test )"
   ]
  },
  {
   "cell_type": "code",
   "execution_count": null,
   "id": "expensive-stream",
   "metadata": {},
   "outputs": [],
   "source": [
    "dict1 = {\n",
    "    \"1\": [[1,10],[20,30]],\n",
    "    \"2\": [[1,15],[25,35]],\n",
    "    \"3\": [[10,15],[25,30]]\n",
    "}\n",
    "\n",
    "dict2 = {\n",
    "    \"1\": [[1,8],[25,30]],\n",
    "    \"2\": [[1,15],[25,35]],\n",
    "    \"3\": [[10,30]]\n",
    "}\n",
    "\n",
    "dict3 = {\n",
    "    \"1\": [[1,10],[20,30]],\n",
    "    \"3\": [[10,15],[25,30]]\n",
    "}\n",
    "\n",
    "print( get_lcs([dict1,dict2,dict3]) )"
   ]
  },
  {
   "cell_type": "code",
   "execution_count": null,
   "id": "greater-tokyo",
   "metadata": {},
   "outputs": [],
   "source": []
  }
 ],
 "metadata": {
  "kernelspec": {
   "display_name": "Python 3",
   "language": "python",
   "name": "python3"
  },
  "language_info": {
   "codemirror_mode": {
    "name": "ipython",
    "version": 3
   },
   "file_extension": ".py",
   "mimetype": "text/x-python",
   "name": "python",
   "nbconvert_exporter": "python",
   "pygments_lexer": "ipython3",
   "version": "3.8.6"
  }
 },
 "nbformat": 4,
 "nbformat_minor": 5
}
